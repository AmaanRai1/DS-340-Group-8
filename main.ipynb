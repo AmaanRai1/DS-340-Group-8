{
  "cells": [
    {
      "cell_type": "markdown",
      "metadata": {
        "id": "view-in-github",
        "colab_type": "text"
      },
      "source": [
        "<a href=\"https://colab.research.google.com/github/AmaanRai1/DS-340-Group-8/blob/main/main.ipynb\" target=\"_parent\"><img src=\"https://colab.research.google.com/assets/colab-badge.svg\" alt=\"Open In Colab\"/></a>"
      ]
    },
    {
      "cell_type": "code",
      "execution_count": null,
      "metadata": {
        "id": "y4OzT8ioBqal"
      },
      "outputs": [],
      "source": [
        "import pandas as pd\n",
        "import numpy as np\n",
        "import matplotlib.pyplot as plt # data visualization\n",
        "\n",
        "# Import PyTorch for deep learning\n",
        "import torch\n",
        "import torch.nn as nn\n",
        "import torch.optim as optim\n",
        "from torch.utils.data import DataLoader, TensorDataset\n",
        "\n",
        "from sklearn.preprocessing import MinMaxScaler # preprocessing functions\n",
        "from sklearn.metrics import mean_absolute_error, mean_squared_error # evaluation metrics\n",
        "from sklearn.linear_model import LinearRegression # linear regression model\n",
        "\n",
        "from itertools import product # Import itertools for generating combinations\n",
        "import heapq # Import heapq for getting top elements from a list\n",
        "from joblib import Parallel, delayed"
      ]
    },
    {
      "cell_type": "markdown",
      "metadata": {
        "id": "ixXgiJtWBqao"
      },
      "source": [
        "## **Data**"
      ]
    },
    {
      "cell_type": "code",
      "execution_count": null,
      "metadata": {
        "id": "iuMR8AXeBqat",
        "outputId": "f0ed0198-5ea3-4244-bb74-c8f8f8c05474"
      },
      "outputs": [
        {
          "name": "stderr",
          "output_type": "stream",
          "text": [
            "/var/folders/td/dz_wwxjj7sq2s6rq_ydp1t3h0000gn/T/ipykernel_2071/2031736207.py:13: UserWarning: Could not infer format, so each element will be parsed individually, falling back to `dateutil`. To ensure parsing is consistent and as-expected, please specify a format.\n",
            "  df['Date'] = pd.to_datetime(df['Date'])\n"
          ]
        }
      ],
      "source": [
        "# different file adresses for 3 different index data, only one them should be active\n",
        "#file_address = 'https://raw.githubusercontent.com/AmaanRai1/DS-340-Group-8/refs/heads/main/ibex.csv'\n",
        "#file_address = 'https://raw.githubusercontent.com/AmaanRai1/DS-340-Group-8/refs/heads/main/dji.csv'\n",
        "file_address = 'https://raw.githubusercontent.com/AmaanRai1/DS-340-Group-8/refs/heads/main/gdaxi.csv'\n",
        "\n",
        "# extracting name of the index from file_address\n",
        "index_name = file_address.split('/')[-1].split('.')[0].upper()\n",
        "\n",
        "# Read the CSV file into a DataFrame\n",
        "df = pd.read_csv(file_address)\n",
        "\n",
        "# Convert the 'date' column to datetime if it's not already in datetime format\n",
        "df['Date'] = pd.to_datetime(df['Date'])\n",
        "\n",
        "# Set the 'date' column as the index\n",
        "df.set_index('Date', inplace=True)\n",
        "\n",
        "# Drop 'Volume' and 'Adj Close' columns\n",
        "df = df.drop(['Volume', 'Adj Close'], axis=1)"
      ]
    },
    {
      "cell_type": "code",
      "execution_count": null,
      "metadata": {
        "id": "des3fVmoBqau",
        "outputId": "e2539fcf-80cc-4b72-dd4c-5da10d719b12"
      },
      "outputs": [
        {
          "data": {
            "text/html": [
              "<div>\n",
              "<style scoped>\n",
              "    .dataframe tbody tr th:only-of-type {\n",
              "        vertical-align: middle;\n",
              "    }\n",
              "\n",
              "    .dataframe tbody tr th {\n",
              "        vertical-align: top;\n",
              "    }\n",
              "\n",
              "    .dataframe thead th {\n",
              "        text-align: right;\n",
              "    }\n",
              "</style>\n",
              "<table border=\"1\" class=\"dataframe\">\n",
              "  <thead>\n",
              "    <tr style=\"text-align: right;\">\n",
              "      <th></th>\n",
              "      <th>Open</th>\n",
              "      <th>High</th>\n",
              "      <th>Low</th>\n",
              "      <th>Close</th>\n",
              "    </tr>\n",
              "    <tr>\n",
              "      <th>Date</th>\n",
              "      <th></th>\n",
              "      <th></th>\n",
              "      <th></th>\n",
              "      <th></th>\n",
              "    </tr>\n",
              "  </thead>\n",
              "  <tbody>\n",
              "    <tr>\n",
              "      <th>2011-01-03</th>\n",
              "      <td>6973.390137</td>\n",
              "      <td>7026.620117</td>\n",
              "      <td>6969.830078</td>\n",
              "      <td>6989.740234</td>\n",
              "    </tr>\n",
              "    <tr>\n",
              "      <th>2011-01-04</th>\n",
              "      <td>6979.680176</td>\n",
              "      <td>7025.859863</td>\n",
              "      <td>6952.020020</td>\n",
              "      <td>6975.350098</td>\n",
              "    </tr>\n",
              "    <tr>\n",
              "      <th>2011-01-05</th>\n",
              "      <td>6966.080078</td>\n",
              "      <td>6967.240234</td>\n",
              "      <td>6842.899902</td>\n",
              "      <td>6939.819824</td>\n",
              "    </tr>\n",
              "    <tr>\n",
              "      <th>2011-01-06</th>\n",
              "      <td>6949.479980</td>\n",
              "      <td>7047.589844</td>\n",
              "      <td>6949.069824</td>\n",
              "      <td>6981.390137</td>\n",
              "    </tr>\n",
              "    <tr>\n",
              "      <th>2011-01-07</th>\n",
              "      <td>6991.549805</td>\n",
              "      <td>7010.890137</td>\n",
              "      <td>6939.879883</td>\n",
              "      <td>6947.839844</td>\n",
              "    </tr>\n",
              "    <tr>\n",
              "      <th>...</th>\n",
              "      <td>...</td>\n",
              "      <td>...</td>\n",
              "      <td>...</td>\n",
              "      <td>...</td>\n",
              "    </tr>\n",
              "    <tr>\n",
              "      <th>2019-12-19</th>\n",
              "      <td>13226.700200</td>\n",
              "      <td>13248.980470</td>\n",
              "      <td>13140.219730</td>\n",
              "      <td>13211.959960</td>\n",
              "    </tr>\n",
              "    <tr>\n",
              "      <th>2019-12-20</th>\n",
              "      <td>13210.259770</td>\n",
              "      <td>13324.110350</td>\n",
              "      <td>13201.799800</td>\n",
              "      <td>13318.900390</td>\n",
              "    </tr>\n",
              "    <tr>\n",
              "      <th>2019-12-23</th>\n",
              "      <td>13304.769530</td>\n",
              "      <td>13331.860350</td>\n",
              "      <td>13285.549800</td>\n",
              "      <td>13300.980470</td>\n",
              "    </tr>\n",
              "    <tr>\n",
              "      <th>2019-12-27</th>\n",
              "      <td>13338.320310</td>\n",
              "      <td>13381.440430</td>\n",
              "      <td>13311.519530</td>\n",
              "      <td>13337.110350</td>\n",
              "    </tr>\n",
              "    <tr>\n",
              "      <th>2019-12-30</th>\n",
              "      <td>13301.429690</td>\n",
              "      <td>13316.620120</td>\n",
              "      <td>13244.169920</td>\n",
              "      <td>13249.009770</td>\n",
              "    </tr>\n",
              "  </tbody>\n",
              "</table>\n",
              "<p>2275 rows × 4 columns</p>\n",
              "</div>"
            ],
            "text/plain": [
              "                    Open          High           Low         Close\n",
              "Date                                                              \n",
              "2011-01-03   6973.390137   7026.620117   6969.830078   6989.740234\n",
              "2011-01-04   6979.680176   7025.859863   6952.020020   6975.350098\n",
              "2011-01-05   6966.080078   6967.240234   6842.899902   6939.819824\n",
              "2011-01-06   6949.479980   7047.589844   6949.069824   6981.390137\n",
              "2011-01-07   6991.549805   7010.890137   6939.879883   6947.839844\n",
              "...                  ...           ...           ...           ...\n",
              "2019-12-19  13226.700200  13248.980470  13140.219730  13211.959960\n",
              "2019-12-20  13210.259770  13324.110350  13201.799800  13318.900390\n",
              "2019-12-23  13304.769530  13331.860350  13285.549800  13300.980470\n",
              "2019-12-27  13338.320310  13381.440430  13311.519530  13337.110350\n",
              "2019-12-30  13301.429690  13316.620120  13244.169920  13249.009770\n",
              "\n",
              "[2275 rows x 4 columns]"
            ]
          },
          "execution_count": 3,
          "metadata": {},
          "output_type": "execute_result"
        }
      ],
      "source": [
        "df"
      ]
    },
    {
      "cell_type": "code",
      "execution_count": null,
      "metadata": {
        "id": "LJI58kKVBqav"
      },
      "outputs": [],
      "source": [
        "# Define the split date\n",
        "split_date = pd.to_datetime('2019-01-01')\n",
        "\n",
        "# Split the data into train and test sets\n",
        "train_data = df[df.index < split_date]\n",
        "test_data = df[df.index >= split_date]\n",
        "\n",
        "# Step 2: Further split the train data into training and validation sets (80/20 split, or adjust as needed)\n",
        "validation_split = int(0.8 * len(train_data))\n",
        "\n",
        "train_data_final = train_data.iloc[:validation_split]  # 80% for training\n",
        "validation_data = train_data.iloc[validation_split:]  # 20% for validation\n",
        "\n",
        "# Initialize the scaler and fit it only on the training data\n",
        "scaler = MinMaxScaler()\n",
        "train_data_scaled = scaler.fit_transform(train_data_final[['Open', 'Close', 'High', 'Low']])\n",
        "\n",
        "# Use the fitted scaler to transform validation and test data\n",
        "validation_data_scaled = scaler.transform(validation_data[['Open', 'Close', 'High', 'Low']])\n",
        "test_data_scaled = scaler.transform(test_data[['Open', 'Close', 'High', 'Low']])\n",
        "\n",
        "# Convert scaled data back to DataFrames for consistency in later processing steps\n",
        "train_data_scaled = pd.DataFrame(train_data_scaled, columns=['Open', 'Close', 'High', 'Low'], index=train_data_final.index)\n",
        "validation_data_scaled = pd.DataFrame(validation_data_scaled, columns=['Open', 'Close', 'High', 'Low'], index=validation_data.index)\n",
        "test_data_scaled = pd.DataFrame(test_data_scaled, columns=['Open', 'Close', 'High', 'Low'], index=test_data.index)"
      ]
    },
    {
      "cell_type": "code",
      "execution_count": null,
      "metadata": {
        "id": "q8F1jWCxBqaw"
      },
      "outputs": [],
      "source": [
        "def split_data_x(df, time_window):\n",
        "    \"\"\"\n",
        "    Split a DataFrame into input sequences of a specified time window.\n",
        "    this function is for x\n",
        "\n",
        "    Args:\n",
        "        df (pd.DataFrame): The input DataFrame.\n",
        "        time_window (int): The length of each input sequence.\n",
        "\n",
        "    Returns:\n",
        "        np.ndarray: Numpy array of input sequences.\n",
        "\n",
        "    \"\"\"\n",
        "    data_raw = np.array(df)  # convert to numpy array\n",
        "    data = []\n",
        "\n",
        "    # create all possible sequences of length seq_len\n",
        "    for index in range(len(data_raw) - time_window):\n",
        "        data.append(data_raw[index: index + time_window].reshape(-1))\n",
        "\n",
        "    out = np.array(data)\n",
        "\n",
        "    return out"
      ]
    },
    {
      "cell_type": "code",
      "execution_count": null,
      "metadata": {
        "id": "6Fd0UEYeBqaw"
      },
      "outputs": [],
      "source": [
        "def split_data_y(df, time_window):\n",
        "    \"\"\"\n",
        "    Split a DataFrame into input sequences of a specified time window.\n",
        "    this function is for x\n",
        "\n",
        "    Args:\n",
        "        df (pd.DataFrame): The input DataFrame.\n",
        "        time_window (int): The length of each input sequence.\n",
        "\n",
        "    Returns:\n",
        "        np.ndarray: Numpy array of input sequences.\n",
        "\n",
        "    \"\"\"\n",
        "    df = df['Close'] # only need the close price as y\n",
        "    data_raw = np.array(df)  # convert to numpy array\n",
        "    data = []\n",
        "\n",
        "    # create all possible sequences of length seq_len\n",
        "    for index in range(len(data_raw) - time_window):\n",
        "        data.append(data_raw[index + time_window])\n",
        "\n",
        "    out = np.array(data)\n",
        "    out = np.expand_dims(out, axis=1)\n",
        "\n",
        "    return out"
      ]
    },
    {
      "cell_type": "markdown",
      "metadata": {
        "id": "EThZ9fsbBqax"
      },
      "source": [
        "# **Strategies**"
      ]
    },
    {
      "cell_type": "code",
      "execution_count": null,
      "metadata": {
        "id": "xgybcIDyBqay"
      },
      "outputs": [],
      "source": [
        "def calculate_profit_factor(strategy):\n",
        "    \"\"\"\n",
        "    Calculate the profit factor of a trading strategy.\n",
        "\n",
        "    Args:\n",
        "        strategy (pd.Series): A pandas Series representing the strategy's trade outcomes.\n",
        "\n",
        "    Returns:\n",
        "        float: The profit factor of the strategy.\n",
        "    \"\"\"\n",
        "    positive_trades = strategy.loc[strategy > 0].sum() # Calculate the sum of positive trades\n",
        "    negative_trades = strategy.loc[strategy < 0].sum() # Calculate the sum of negative trades\n",
        "    profit_factor = abs(positive_trades / negative_trades) # Calculate the profit factor\n",
        "    return profit_factor"
      ]
    },
    {
      "cell_type": "code",
      "execution_count": null,
      "metadata": {
        "id": "V6i4UIqcBqaz"
      },
      "outputs": [],
      "source": [
        "def calculate_metrics(df):\n",
        "    # Calculate number of trades\n",
        "    num_trades = df['Trades'].sum()\n",
        "\n",
        "    # Calculate net profit of the trades\n",
        "    net_profit = df['PriceStrategy'].sum()\n",
        "\n",
        "    # Calculate profit factor\n",
        "    profit_factor = calculate_profit_factor(df['Strategy'])\n",
        "\n",
        "    # Calculate average net of each trade\n",
        "    avg_net_trade = net_profit / num_trades\n",
        "\n",
        "    # Calculate maximum drawdown (price)\n",
        "    max_drawdown = (df['CPriceStrategy'] - df['CPriceStrategy'].cummax()).min()\n",
        "\n",
        "    # Create a DataFrame to store the metrics\n",
        "    metrics_df = pd.DataFrame({\n",
        "        'Number of Trades': [num_trades],\n",
        "        'Net Profit': [net_profit],\n",
        "        'Profit Factor': [profit_factor],\n",
        "        'Average Net per Trade': [avg_net_trade],\n",
        "        'Maximum Drawdown': [max_drawdown],\n",
        "    }, index=['Strategy'])\n",
        "\n",
        "    return metrics_df"
      ]
    },
    {
      "cell_type": "markdown",
      "metadata": {
        "id": "Zli2g1UmBqaz"
      },
      "source": [
        "## **TEMA**"
      ]
    },
    {
      "cell_type": "code",
      "execution_count": null,
      "metadata": {
        "id": "xUfwploYBqa0"
      },
      "outputs": [],
      "source": [
        "def ema(df, period):\n",
        "    \"\"\"\n",
        "    Calculate the Exponential Moving Average (EMA) of a DataFrame.\n",
        "\n",
        "    Args:\n",
        "        df (pd.DataFrame): The input DataFrame.\n",
        "        period (int): The number of periods to consider for the EMA calculation.\n",
        "\n",
        "    Returns:\n",
        "        pd.DataFrame: The DataFrame with EMA values.\n",
        "\n",
        "    \"\"\"\n",
        "    return df.ewm(span = period, min_periods = period).mean()"
      ]
    },
    {
      "cell_type": "code",
      "execution_count": null,
      "metadata": {
        "id": "6g7NA8ylBqa1"
      },
      "outputs": [],
      "source": [
        "def df_change(df, symbol):\n",
        "    \"\"\"\n",
        "    Create a DataFrame with a single column representing the change in closing prices.\n",
        "\n",
        "    Args:\n",
        "        df (pd.DataFrame): The input DataFrame.\n",
        "        symbol (str): The name of the column representing the change in closing prices.\n",
        "\n",
        "    Returns:\n",
        "        pd.DataFrame: A DataFrame with a single column representing the change in closing prices.\n",
        "\n",
        "    \"\"\"\n",
        "    temp = pd.DataFrame(df['Close']) # Create a temporary DataFrame with 'Close' column\n",
        "    temp = temp.rename({'Close': symbol}, axis=1) # Rename the 'Close' column to the specified symbol\n",
        "    return temp"
      ]
    },
    {
      "cell_type": "code",
      "execution_count": null,
      "metadata": {
        "id": "I5gqPnb7Bqa2"
      },
      "outputs": [],
      "source": [
        "def tema_strategy(df, symbol, short_period, mid_period, long_period):\n",
        "    \"\"\"\n",
        "    Implement a trading strategy using TEMA (Triple Exponential Moving Average).\n",
        "\n",
        "    Args:\n",
        "        df (pd.DataFrame): The input DataFrame.\n",
        "        symbol (str): The name of the column representing the price data.\n",
        "        short_period (int): The period for short-term EMA calculation.\n",
        "        mid_period (int): The period for mid-term EMA calculation.\n",
        "        long_period (int): The period for long-term EMA calculation.\n",
        "\n",
        "    Returns:\n",
        "        pd.DataFrame: A DataFrame containing the trading strategy signals and performance metrics.\n",
        "\n",
        "    \"\"\"\n",
        "    df = df_change(df, symbol) # Calculate the change in closing prices\n",
        "    temp = df.copy() # Create a copy of the DataFrame\n",
        "\n",
        "    # Calculate the EMA values for short, mid, and long periods\n",
        "    temp['ShortEMA'] = ema(df, short_period)\n",
        "    temp['MidEMA'] = ema(df, mid_period)\n",
        "    temp['LongEMA'] = ema(df, long_period)\n",
        "\n",
        "    # Determine the position based on EMA crossovers\n",
        "    temp['Position'] = np.where((temp['ShortEMA'] > temp['MidEMA']) & (temp['ShortEMA'] > temp['LongEMA']), 1,\n",
        "                                np.where((temp['ShortEMA'] < temp['MidEMA']) & (temp['ShortEMA'] < temp['LongEMA']), -1, 0))\n",
        "\n",
        "    # Calculate log returns and strategy based on log returns\n",
        "    temp['LogReturns'] = np.log(temp[symbol]) - np.log(temp[symbol].shift(1))\n",
        "    temp['Strategy'] = temp.Position.shift(1) * temp['LogReturns']\n",
        "\n",
        "    # Calculate profit based on price\n",
        "    temp['PriceChange'] = temp[symbol] - temp[symbol].shift(1)\n",
        "    temp['PriceStrategy'] = temp.Position.shift(1) * temp['PriceChange']\n",
        "\n",
        "    # Calculate the number of trades and convert double trades to single trades\n",
        "    temp['Trades'] = temp.Position.diff().fillna(0).abs()\n",
        "    temp['Trades'] = temp['Trades'].replace(2, 1)\n",
        "\n",
        "    # Calculate cumulative log returns, cumulative strategy performance, cumulative price, and cumulative price strategy\n",
        "    temp['CLogReturns'] = temp['LogReturns'].cumsum().apply(np.exp)\n",
        "    temp[\"CStrategy\"] = temp['Strategy'].cumsum().apply(np.exp)\n",
        "    temp['CPrice'] = -(df[symbol].iloc[0] - df[symbol])\n",
        "    temp['CPriceStrategy'] = temp['PriceStrategy'].cumsum()\n",
        "\n",
        "    return temp"
      ]
    },
    {
      "cell_type": "code",
      "execution_count": null,
      "metadata": {
        "id": "nDBBDr9DBqa3"
      },
      "outputs": [],
      "source": [
        "def optimize_tema_parameters(df, symbol, short_range, mid_range, long_range):\n",
        "    \"\"\"\n",
        "    Optimize TEMA (Triple Exponential Moving Average) parameters by finding top combinations based on CStrategy.\n",
        "\n",
        "    Args:\n",
        "        df (pd.DataFrame): The input DataFrame.\n",
        "        symbol (str): The name of the column representing the price data.\n",
        "        short_range (list): A list of short-term EMA period values to consider.\n",
        "        mid_range (list): A list of mid-term EMA period values to consider.\n",
        "        long_range (list): A list of long-term EMA period values to consider.\n",
        "\n",
        "    Returns:\n",
        "        list: A list of best parameter combinations.\n",
        "        list: A list of corresponding CStrategy values.\n",
        "\n",
        "    \"\"\"\n",
        "    top_combinations = []\n",
        "\n",
        "    # Iterate over all combinations of short, mid, and long periods\n",
        "    for short_period, mid_period, long_period in product(short_range, mid_range, long_range):\n",
        "        if short_period < mid_period < long_period:\n",
        "\n",
        "            # Calculate TEMA strategy performance for the combination of periods\n",
        "            result = tema_strategy(df, symbol, short_period, mid_period, long_period)\n",
        "            c_strategy = result['CStrategy'].iloc[-1]\n",
        "\n",
        "            # Use a heap to maintain the top 5 combinations based on CStrategy\n",
        "            if len(top_combinations) < 5:\n",
        "                heapq.heappush(top_combinations, (c_strategy, (short_period, mid_period, long_period)))\n",
        "            else:\n",
        "                heapq.heappushpop(top_combinations, (c_strategy, (short_period, mid_period, long_period)))\n",
        "\n",
        "    # Get the top 5 combinations with highest CStrategy values\n",
        "    top_combinations = sorted(top_combinations, reverse=True)\n",
        "    best_combinations = [combo[1] for combo in top_combinations]\n",
        "    best_c_strategy = [combo[0] for combo in top_combinations]\n",
        "\n",
        "    return best_combinations, best_c_strategy"
      ]
    },
    {
      "cell_type": "code",
      "execution_count": null,
      "metadata": {
        "id": "p3-gHdV1Bqa4",
        "outputId": "4c58b0e4-9aa4-435b-fc9a-cae5e594e549"
      },
      "outputs": [
        {
          "name": "stdout",
          "output_type": "stream",
          "text": [
            "Best Combinations:\n",
            "Combination 1: (15, 16, 17)\n",
            "Combination 2: (14, 18, 77)\n",
            "Combination 3: (11, 20, 21)\n",
            "Combination 4: (15, 17, 18)\n",
            "Combination 5: (14, 17, 18)\n",
            "Best CStrategy: [1.1406989881534797, 1.1360344701790723, 1.1320741380280648, 1.1314409207061746, 1.1305201639599793]\n"
          ]
        }
      ],
      "source": [
        "# Define the parameter ranges\n",
        "short_range = range(2, 25)\n",
        "mid_range = range(5, 41)\n",
        "long_range = range(8, 81)\n",
        "\n",
        "# test parameters\n",
        "# short_range = range(2, 5)\n",
        "# mid_range = range(5, 7)\n",
        "# long_range = range(8, 12)\n",
        "\n",
        "# Run the optimization\n",
        "best_combinations, best_c_strategy = optimize_tema_parameters(train_data, index_name, short_range, mid_range, long_range)\n",
        "best_tema_params = best_combinations[0]\n",
        "\n",
        "# Print the results\n",
        "print(\"Best Combinations:\")\n",
        "for i, combination in enumerate(best_combinations):\n",
        "    print(f\"Combination {i+1}: {combination}\")\n",
        "print(\"Best CStrategy:\", best_c_strategy)"
      ]
    },
    {
      "cell_type": "code",
      "execution_count": null,
      "metadata": {
        "id": "G320uxGABqa5",
        "outputId": "265607ab-c16e-4f72-9d08-985ec24872c6"
      },
      "outputs": [
        {
          "name": "stdout",
          "output_type": "stream",
          "text": [
            "Printing five of the best parameters combinations:\n",
            "\n",
            "Combination 1: (15, 16, 17)\n",
            "Profit Factor: 1.0924220195844727\n",
            "\n",
            "Combination 2: (14, 18, 77)\n",
            "Profit Factor: 0.9379749141028938\n",
            "\n",
            "Combination 3: (11, 20, 21)\n",
            "Profit Factor: 1.068844471399768\n",
            "\n",
            "Combination 4: (15, 17, 18)\n",
            "Profit Factor: 1.0850551252206113\n",
            "\n",
            "Combination 5: (14, 17, 18)\n",
            "Profit Factor: 1.0735750725169906\n",
            "\n"
          ]
        }
      ],
      "source": [
        "print(f\"Printing five of the best parameters combinations:\\n\")\n",
        "\n",
        "for i, combination in enumerate(best_combinations):\n",
        "    short_period, mid_period, long_period = combination\n",
        "\n",
        "    # Run the strategy with the current combination\n",
        "    strategy_result = tema_strategy(test_data, index_name, short_period, mid_period, long_period,)\n",
        "\n",
        "    # Calculate the profit factor\n",
        "    pf_factor = calculate_profit_factor(strategy_result['Strategy'])\n",
        "\n",
        "    # Print the result\n",
        "    print(f\"Combination {i+1}: {combination}\")\n",
        "    print(\"Profit Factor:\", pf_factor)\n",
        "    print()"
      ]
    },
    {
      "cell_type": "code",
      "execution_count": null,
      "metadata": {
        "id": "MNxXpQztBqa6",
        "outputId": "05e02a82-d311-40fb-f1e1-84716c760400"
      },
      "outputs": [
        {
          "name": "stdout",
          "output_type": "stream",
          "text": [
            "15 16 17\n"
          ]
        }
      ],
      "source": [
        "print(best_tema_params[0], best_tema_params[1], best_tema_params[2])"
      ]
    },
    {
      "cell_type": "code",
      "execution_count": null,
      "metadata": {
        "id": "Ov3UAlBpBqa7",
        "outputId": "35c41a05-39dc-4e36-cd9d-158b4b95a272"
      },
      "outputs": [
        {
          "data": {
            "text/html": [
              "<div>\n",
              "<style scoped>\n",
              "    .dataframe tbody tr th:only-of-type {\n",
              "        vertical-align: middle;\n",
              "    }\n",
              "\n",
              "    .dataframe tbody tr th {\n",
              "        vertical-align: top;\n",
              "    }\n",
              "\n",
              "    .dataframe thead th {\n",
              "        text-align: right;\n",
              "    }\n",
              "</style>\n",
              "<table border=\"1\" class=\"dataframe\">\n",
              "  <thead>\n",
              "    <tr style=\"text-align: right;\">\n",
              "      <th></th>\n",
              "      <th>GDAXI</th>\n",
              "      <th>ShortEMA</th>\n",
              "      <th>MidEMA</th>\n",
              "      <th>LongEMA</th>\n",
              "      <th>Position</th>\n",
              "      <th>LogReturns</th>\n",
              "      <th>Strategy</th>\n",
              "      <th>PriceChange</th>\n",
              "      <th>PriceStrategy</th>\n",
              "      <th>Trades</th>\n",
              "      <th>CLogReturns</th>\n",
              "      <th>CStrategy</th>\n",
              "      <th>CPrice</th>\n",
              "      <th>CPriceStrategy</th>\n",
              "    </tr>\n",
              "    <tr>\n",
              "      <th>Date</th>\n",
              "      <th></th>\n",
              "      <th></th>\n",
              "      <th></th>\n",
              "      <th></th>\n",
              "      <th></th>\n",
              "      <th></th>\n",
              "      <th></th>\n",
              "      <th></th>\n",
              "      <th></th>\n",
              "      <th></th>\n",
              "      <th></th>\n",
              "      <th></th>\n",
              "      <th></th>\n",
              "      <th></th>\n",
              "    </tr>\n",
              "  </thead>\n",
              "  <tbody>\n",
              "    <tr>\n",
              "      <th>2019-01-02</th>\n",
              "      <td>10580.19043</td>\n",
              "      <td>NaN</td>\n",
              "      <td>NaN</td>\n",
              "      <td>NaN</td>\n",
              "      <td>0</td>\n",
              "      <td>NaN</td>\n",
              "      <td>NaN</td>\n",
              "      <td>NaN</td>\n",
              "      <td>NaN</td>\n",
              "      <td>0.0</td>\n",
              "      <td>NaN</td>\n",
              "      <td>NaN</td>\n",
              "      <td>-0.00000</td>\n",
              "      <td>NaN</td>\n",
              "    </tr>\n",
              "    <tr>\n",
              "      <th>2019-01-03</th>\n",
              "      <td>10416.66016</td>\n",
              "      <td>NaN</td>\n",
              "      <td>NaN</td>\n",
              "      <td>NaN</td>\n",
              "      <td>0</td>\n",
              "      <td>-0.015577</td>\n",
              "      <td>-0.000000</td>\n",
              "      <td>-163.53027</td>\n",
              "      <td>-0.00000</td>\n",
              "      <td>0.0</td>\n",
              "      <td>0.984544</td>\n",
              "      <td>1.000000</td>\n",
              "      <td>-163.53027</td>\n",
              "      <td>0.00000</td>\n",
              "    </tr>\n",
              "    <tr>\n",
              "      <th>2019-01-04</th>\n",
              "      <td>10767.69043</td>\n",
              "      <td>NaN</td>\n",
              "      <td>NaN</td>\n",
              "      <td>NaN</td>\n",
              "      <td>0</td>\n",
              "      <td>0.033144</td>\n",
              "      <td>0.000000</td>\n",
              "      <td>351.03027</td>\n",
              "      <td>0.00000</td>\n",
              "      <td>0.0</td>\n",
              "      <td>1.017722</td>\n",
              "      <td>1.000000</td>\n",
              "      <td>187.50000</td>\n",
              "      <td>0.00000</td>\n",
              "    </tr>\n",
              "    <tr>\n",
              "      <th>2019-01-07</th>\n",
              "      <td>10747.80957</td>\n",
              "      <td>NaN</td>\n",
              "      <td>NaN</td>\n",
              "      <td>NaN</td>\n",
              "      <td>0</td>\n",
              "      <td>-0.001848</td>\n",
              "      <td>-0.000000</td>\n",
              "      <td>-19.88086</td>\n",
              "      <td>-0.00000</td>\n",
              "      <td>0.0</td>\n",
              "      <td>1.015843</td>\n",
              "      <td>1.000000</td>\n",
              "      <td>167.61914</td>\n",
              "      <td>0.00000</td>\n",
              "    </tr>\n",
              "    <tr>\n",
              "      <th>2019-01-08</th>\n",
              "      <td>10803.98047</td>\n",
              "      <td>NaN</td>\n",
              "      <td>NaN</td>\n",
              "      <td>NaN</td>\n",
              "      <td>0</td>\n",
              "      <td>0.005213</td>\n",
              "      <td>0.000000</td>\n",
              "      <td>56.17090</td>\n",
              "      <td>0.00000</td>\n",
              "      <td>0.0</td>\n",
              "      <td>1.021152</td>\n",
              "      <td>1.000000</td>\n",
              "      <td>223.79004</td>\n",
              "      <td>0.00000</td>\n",
              "    </tr>\n",
              "    <tr>\n",
              "      <th>...</th>\n",
              "      <td>...</td>\n",
              "      <td>...</td>\n",
              "      <td>...</td>\n",
              "      <td>...</td>\n",
              "      <td>...</td>\n",
              "      <td>...</td>\n",
              "      <td>...</td>\n",
              "      <td>...</td>\n",
              "      <td>...</td>\n",
              "      <td>...</td>\n",
              "      <td>...</td>\n",
              "      <td>...</td>\n",
              "      <td>...</td>\n",
              "      <td>...</td>\n",
              "    </tr>\n",
              "    <tr>\n",
              "      <th>2019-12-19</th>\n",
              "      <td>13211.95996</td>\n",
              "      <td>13204.179782</td>\n",
              "      <td>13200.696619</td>\n",
              "      <td>13197.097299</td>\n",
              "      <td>1</td>\n",
              "      <td>-0.000772</td>\n",
              "      <td>-0.000772</td>\n",
              "      <td>-10.20020</td>\n",
              "      <td>-10.20020</td>\n",
              "      <td>0.0</td>\n",
              "      <td>1.248745</td>\n",
              "      <td>1.065609</td>\n",
              "      <td>2631.76953</td>\n",
              "      <td>769.44045</td>\n",
              "    </tr>\n",
              "    <tr>\n",
              "      <th>2019-12-20</th>\n",
              "      <td>13318.90039</td>\n",
              "      <td>13218.519858</td>\n",
              "      <td>13214.602945</td>\n",
              "      <td>13210.630976</td>\n",
              "      <td>1</td>\n",
              "      <td>0.008062</td>\n",
              "      <td>0.008062</td>\n",
              "      <td>106.94043</td>\n",
              "      <td>106.94043</td>\n",
              "      <td>0.0</td>\n",
              "      <td>1.258853</td>\n",
              "      <td>1.074234</td>\n",
              "      <td>2738.70996</td>\n",
              "      <td>876.38088</td>\n",
              "    </tr>\n",
              "    <tr>\n",
              "      <th>2019-12-23</th>\n",
              "      <td>13300.98047</td>\n",
              "      <td>13228.827434</td>\n",
              "      <td>13224.765007</td>\n",
              "      <td>13220.669808</td>\n",
              "      <td>1</td>\n",
              "      <td>-0.001346</td>\n",
              "      <td>-0.001346</td>\n",
              "      <td>-17.91992</td>\n",
              "      <td>-17.91992</td>\n",
              "      <td>0.0</td>\n",
              "      <td>1.257159</td>\n",
              "      <td>1.072789</td>\n",
              "      <td>2720.79004</td>\n",
              "      <td>858.46096</td>\n",
              "    </tr>\n",
              "    <tr>\n",
              "      <th>2019-12-27</th>\n",
              "      <td>13337.11035</td>\n",
              "      <td>13242.362799</td>\n",
              "      <td>13237.982106</td>\n",
              "      <td>13233.607646</td>\n",
              "      <td>1</td>\n",
              "      <td>0.002713</td>\n",
              "      <td>0.002713</td>\n",
              "      <td>36.12988</td>\n",
              "      <td>36.12988</td>\n",
              "      <td>0.0</td>\n",
              "      <td>1.260574</td>\n",
              "      <td>1.075703</td>\n",
              "      <td>2756.91992</td>\n",
              "      <td>894.59084</td>\n",
              "    </tr>\n",
              "    <tr>\n",
              "      <th>2019-12-30</th>\n",
              "      <td>13249.00977</td>\n",
              "      <td>13243.193670</td>\n",
              "      <td>13239.279478</td>\n",
              "      <td>13235.318993</td>\n",
              "      <td>1</td>\n",
              "      <td>-0.006628</td>\n",
              "      <td>-0.006628</td>\n",
              "      <td>-88.10058</td>\n",
              "      <td>-88.10058</td>\n",
              "      <td>0.0</td>\n",
              "      <td>1.252247</td>\n",
              "      <td>1.068597</td>\n",
              "      <td>2668.81934</td>\n",
              "      <td>806.49026</td>\n",
              "    </tr>\n",
              "  </tbody>\n",
              "</table>\n",
              "<p>251 rows × 14 columns</p>\n",
              "</div>"
            ],
            "text/plain": [
              "                  GDAXI      ShortEMA        MidEMA       LongEMA  Position  \\\n",
              "Date                                                                          \n",
              "2019-01-02  10580.19043           NaN           NaN           NaN         0   \n",
              "2019-01-03  10416.66016           NaN           NaN           NaN         0   \n",
              "2019-01-04  10767.69043           NaN           NaN           NaN         0   \n",
              "2019-01-07  10747.80957           NaN           NaN           NaN         0   \n",
              "2019-01-08  10803.98047           NaN           NaN           NaN         0   \n",
              "...                 ...           ...           ...           ...       ...   \n",
              "2019-12-19  13211.95996  13204.179782  13200.696619  13197.097299         1   \n",
              "2019-12-20  13318.90039  13218.519858  13214.602945  13210.630976         1   \n",
              "2019-12-23  13300.98047  13228.827434  13224.765007  13220.669808         1   \n",
              "2019-12-27  13337.11035  13242.362799  13237.982106  13233.607646         1   \n",
              "2019-12-30  13249.00977  13243.193670  13239.279478  13235.318993         1   \n",
              "\n",
              "            LogReturns  Strategy  PriceChange  PriceStrategy  Trades  \\\n",
              "Date                                                                   \n",
              "2019-01-02         NaN       NaN          NaN            NaN     0.0   \n",
              "2019-01-03   -0.015577 -0.000000   -163.53027       -0.00000     0.0   \n",
              "2019-01-04    0.033144  0.000000    351.03027        0.00000     0.0   \n",
              "2019-01-07   -0.001848 -0.000000    -19.88086       -0.00000     0.0   \n",
              "2019-01-08    0.005213  0.000000     56.17090        0.00000     0.0   \n",
              "...                ...       ...          ...            ...     ...   \n",
              "2019-12-19   -0.000772 -0.000772    -10.20020      -10.20020     0.0   \n",
              "2019-12-20    0.008062  0.008062    106.94043      106.94043     0.0   \n",
              "2019-12-23   -0.001346 -0.001346    -17.91992      -17.91992     0.0   \n",
              "2019-12-27    0.002713  0.002713     36.12988       36.12988     0.0   \n",
              "2019-12-30   -0.006628 -0.006628    -88.10058      -88.10058     0.0   \n",
              "\n",
              "            CLogReturns  CStrategy      CPrice  CPriceStrategy  \n",
              "Date                                                            \n",
              "2019-01-02          NaN        NaN    -0.00000             NaN  \n",
              "2019-01-03     0.984544   1.000000  -163.53027         0.00000  \n",
              "2019-01-04     1.017722   1.000000   187.50000         0.00000  \n",
              "2019-01-07     1.015843   1.000000   167.61914         0.00000  \n",
              "2019-01-08     1.021152   1.000000   223.79004         0.00000  \n",
              "...                 ...        ...         ...             ...  \n",
              "2019-12-19     1.248745   1.065609  2631.76953       769.44045  \n",
              "2019-12-20     1.258853   1.074234  2738.70996       876.38088  \n",
              "2019-12-23     1.257159   1.072789  2720.79004       858.46096  \n",
              "2019-12-27     1.260574   1.075703  2756.91992       894.59084  \n",
              "2019-12-30     1.252247   1.068597  2668.81934       806.49026  \n",
              "\n",
              "[251 rows x 14 columns]"
            ]
          },
          "execution_count": 16,
          "metadata": {},
          "output_type": "execute_result"
        }
      ],
      "source": [
        "tema_strategy(test_data, index_name, best_tema_params[0], best_tema_params[1], best_tema_params[2])"
      ]
    },
    {
      "cell_type": "code",
      "execution_count": null,
      "metadata": {
        "id": "kaHmX9wuBqa7",
        "outputId": "a1626c74-9d2c-4d0e-d770-af64b45e4845"
      },
      "outputs": [
        {
          "data": {
            "text/html": [
              "<div>\n",
              "<style scoped>\n",
              "    .dataframe tbody tr th:only-of-type {\n",
              "        vertical-align: middle;\n",
              "    }\n",
              "\n",
              "    .dataframe tbody tr th {\n",
              "        vertical-align: top;\n",
              "    }\n",
              "\n",
              "    .dataframe thead th {\n",
              "        text-align: right;\n",
              "    }\n",
              "</style>\n",
              "<table border=\"1\" class=\"dataframe\">\n",
              "  <thead>\n",
              "    <tr style=\"text-align: right;\">\n",
              "      <th></th>\n",
              "      <th>Number of Trades</th>\n",
              "      <th>Net Profit</th>\n",
              "      <th>Profit Factor</th>\n",
              "      <th>Average Net per Trade</th>\n",
              "      <th>Maximum Drawdown</th>\n",
              "    </tr>\n",
              "  </thead>\n",
              "  <tbody>\n",
              "    <tr>\n",
              "      <th>Strategy</th>\n",
              "      <td>11.0</td>\n",
              "      <td>806.49026</td>\n",
              "      <td>1.092422</td>\n",
              "      <td>73.317296</td>\n",
              "      <td>-1335.4912</td>\n",
              "    </tr>\n",
              "  </tbody>\n",
              "</table>\n",
              "</div>"
            ],
            "text/plain": [
              "          Number of Trades  Net Profit  Profit Factor  Average Net per Trade  \\\n",
              "Strategy              11.0   806.49026       1.092422              73.317296   \n",
              "\n",
              "          Maximum Drawdown  \n",
              "Strategy        -1335.4912  "
            ]
          },
          "execution_count": 17,
          "metadata": {},
          "output_type": "execute_result"
        }
      ],
      "source": [
        "calculate_metrics(tema_strategy(test_data, index_name, best_tema_params[0], best_tema_params[1], best_tema_params[2]))"
      ]
    },
    {
      "cell_type": "markdown",
      "metadata": {
        "id": "wQPuuV6XBqa9"
      },
      "source": [
        "## **MACD**"
      ]
    },
    {
      "cell_type": "code",
      "execution_count": null,
      "metadata": {
        "id": "2DH6nQ4QBqa9"
      },
      "outputs": [],
      "source": [
        "def macd_strategy(df, symbol, short_period, long_period, signal_period):\n",
        "    \"\"\"\n",
        "    Implement a trading strategy using MACD (Moving Average Convergence Divergence).\n",
        "\n",
        "    Args:\n",
        "        df (pd.DataFrame): The input DataFrame.\n",
        "        symbol (str): The name of the column representing the price data.\n",
        "        short_period (int): The period for the short-term EMA calculation.\n",
        "        long_period (int): The period for the long-term EMA calculation.\n",
        "        signal_period (int): The period for the signal line calculation.\n",
        "\n",
        "    Returns:\n",
        "        pd.DataFrame: A DataFrame containing the trading strategy signals and performance metrics.\n",
        "\n",
        "    \"\"\"\n",
        "\n",
        "    df = df_change(df, symbol) # Calculate the change in closing prices\n",
        "    temp = df.copy() # Create a copy of the DataFrame\n",
        "\n",
        "    # Calculate the short-term and long-term EMAs and MACD line\n",
        "    temp['ShortEMA'] = ema(df, short_period)\n",
        "    temp['LongEMA'] = ema(df, long_period)\n",
        "    temp['MACD Line'] = temp['ShortEMA'] - temp['LongEMA']\n",
        "\n",
        "    # Calculate signal line\n",
        "    temp['Signal Line'] = ema(temp, signal_period)['MACD Line']\n",
        "\n",
        "    # Generate trading signals based on MACD and signal line crossovers\n",
        "    temp['Position'] = np.where(temp['MACD Line'] > temp['Signal Line'], 1,\n",
        "                                np.where(temp['MACD Line'] < temp['Signal Line'], -1, 0))\n",
        "\n",
        "    # Calculate log returns and strategy returns\n",
        "    temp['LogReturns'] = np.log(temp[symbol]) - np.log(temp[symbol]).shift(1)\n",
        "    temp['Strategy'] = temp['Position'].shift(1) * temp['LogReturns']\n",
        "\n",
        "    # Calculate profit based on price\n",
        "    temp['PriceChange'] = temp[symbol] - temp[symbol].shift(1)\n",
        "    temp['PriceStrategy'] = temp['Position'].shift(1) * temp['PriceChange']\n",
        "\n",
        "    # Calculate the number of trades and convert double trades to single trades\n",
        "    temp['Trades'] = temp['Position'].diff().fillna(0).abs().replace(2,1)\n",
        "\n",
        "    # Calculate cumulative log returns, cumulative strategy performance, cumulative price, and cumulative price strategy\n",
        "    temp['CLogReturns'] = temp['LogReturns'].cumsum().apply(np.exp)\n",
        "    temp[\"CStrategy\"] = temp['Strategy'].cumsum().apply(np.exp)\n",
        "    temp['CPrice'] = -(df[symbol].iloc[0] - df[symbol])\n",
        "    temp['CPriceStrategy'] = temp['PriceStrategy'].cumsum()\n",
        "\n",
        "    return temp"
      ]
    },
    {
      "cell_type": "code",
      "execution_count": null,
      "metadata": {
        "id": "1J__Ml_6Bqa-"
      },
      "outputs": [],
      "source": [
        "def optimize_macd_parameters(df, symbol, short_range, long_range, signal_range):\n",
        "    \"\"\"\n",
        "    Optimize MACD (Moving Average Convergence Divergence) parameters by finding top combinations based on CStrategy.\n",
        "\n",
        "    Args:\n",
        "        df (pd.DataFrame): The input DataFrame.\n",
        "        symbol (str): The name of the column representing the price data.\n",
        "        short_range (list): A list of short-term EMA period values to consider.\n",
        "        long_range (list): A list of long-term EMA period values to consider.\n",
        "        signal_range (list): A list of signal line period values to consider.\n",
        "\n",
        "    Returns:\n",
        "        list: A list of best parameter combinations.\n",
        "        list: A list of corresponding CStrategy values.\n",
        "\n",
        "    \"\"\"\n",
        "    top_combinations = []\n",
        "\n",
        "    # Iterate over all combinations of short, long, and signal periods\n",
        "    for short_period, long_period, signal_period in product(short_range, long_range, signal_range):\n",
        "        if short_period < long_period:\n",
        "\n",
        "            # Calculate MACD strategy performance for the combination of periods\n",
        "            result = macd_strategy(df, symbol, short_period, long_period, signal_period)\n",
        "            c_strategy = result['CStrategy'].iloc[-1]\n",
        "\n",
        "            # Use a heap to maintain the top 5 combinations based on CStrategy\n",
        "            if len(top_combinations) < 5:\n",
        "                heapq.heappush(top_combinations, (c_strategy, (short_period, long_period, signal_period)))\n",
        "            else:\n",
        "                heapq.heappushpop(top_combinations, (c_strategy, (short_period, long_period, signal_period)))\n",
        "\n",
        "    # Get the top 5 combinations with highest CStrategy values\n",
        "    top_combinations = sorted(top_combinations, reverse=True)\n",
        "    best_combinations = [combo[1] for combo in top_combinations]\n",
        "    best_c_strategy = [combo[0] for combo in top_combinations]\n",
        "\n",
        "    return best_combinations, best_c_strategy"
      ]
    },
    {
      "cell_type": "code",
      "execution_count": null,
      "metadata": {
        "id": "oIqZkM7aBqa_",
        "outputId": "99a60949-19c3-47fc-a768-7724ded4b92f"
      },
      "outputs": [
        {
          "name": "stdout",
          "output_type": "stream",
          "text": [
            "Best Combinations:\n",
            "Combination 1: (4, 5, 5)\n",
            "Combination 2: (3, 6, 5)\n",
            "Combination 3: (3, 5, 6)\n",
            "Combination 4: (2, 8, 5)\n",
            "Combination 5: (2, 5, 8)\n",
            "Best CStrategy: [2.955655504626256, 2.924800811375486, 2.924800811375486, 2.886587579080479, 2.886587579080479]\n"
          ]
        }
      ],
      "source": [
        "# Define the parameter ranges\n",
        "short_range = range(2, 10)\n",
        "long_range = range(5, 35)\n",
        "signal_range = range(5, 20)\n",
        "\n",
        "# test parameters\n",
        "# short_range = range(2, 5)\n",
        "# long_range = range(5, 7)\n",
        "# signal_range = range(5, 10)\n",
        "\n",
        "# Run the optimization\n",
        "best_combinations, best_c_strategy = optimize_macd_parameters(train_data, index_name, short_range, long_range, signal_range)\n",
        "best_macd_params = best_combinations[0]\n",
        "\n",
        "# Print the best combinations and CStrategy values\n",
        "print(\"Best Combinations:\")\n",
        "for i, combination in enumerate(best_combinations):\n",
        "    print(f\"Combination {i+1}: {combination}\")\n",
        "print(\"Best CStrategy:\", best_c_strategy)"
      ]
    },
    {
      "cell_type": "code",
      "execution_count": null,
      "metadata": {
        "id": "RoSANcX1Bqa_",
        "outputId": "63767623-d9d2-4994-f021-0f9c07d50225"
      },
      "outputs": [
        {
          "name": "stdout",
          "output_type": "stream",
          "text": [
            "Printing five of the best parameters combinations:\n",
            "\n",
            "Combination 1: (4, 5, 5)\n",
            "Profit Factor: 1.0167370508162197\n",
            "\n",
            "Combination 2: (3, 6, 5)\n",
            "Profit Factor: 0.973250364312905\n",
            "\n",
            "Combination 3: (3, 5, 6)\n",
            "Profit Factor: 0.973250364312905\n",
            "\n",
            "Combination 4: (2, 8, 5)\n",
            "Profit Factor: 0.9887143198127287\n",
            "\n",
            "Combination 5: (2, 5, 8)\n",
            "Profit Factor: 0.9887143198127287\n",
            "\n"
          ]
        }
      ],
      "source": [
        "print(f\"Printing five of the best parameters combinations:\\n\")\n",
        "\n",
        "for i, combination in enumerate(best_combinations):\n",
        "    short_period, mid_period, long_period = combination\n",
        "\n",
        "    # Run the strategy with the current combination\n",
        "    strategy_result = macd_strategy(test_data, index_name, short_period, mid_period, long_period)\n",
        "\n",
        "    # Calculate the profit factor\n",
        "    pf_factor = calculate_profit_factor(strategy_result['Strategy'])\n",
        "\n",
        "    # Print the result\n",
        "    print(f\"Combination {i+1}: {combination}\")\n",
        "    print(\"Profit Factor:\", pf_factor)\n",
        "    print()"
      ]
    },
    {
      "cell_type": "code",
      "execution_count": null,
      "metadata": {
        "id": "G0rG_w6RBqbA",
        "outputId": "d2de5d74-2852-497b-8263-d6ab756bcc71"
      },
      "outputs": [
        {
          "name": "stdout",
          "output_type": "stream",
          "text": [
            "4 5 5\n"
          ]
        }
      ],
      "source": [
        "print(best_macd_params[0], best_macd_params[1], best_macd_params[2])"
      ]
    },
    {
      "cell_type": "code",
      "execution_count": null,
      "metadata": {
        "id": "4GETIzWLBqbA",
        "outputId": "609f5f93-a8e4-448f-dbb2-d110656ff394"
      },
      "outputs": [
        {
          "data": {
            "text/html": [
              "<div>\n",
              "<style scoped>\n",
              "    .dataframe tbody tr th:only-of-type {\n",
              "        vertical-align: middle;\n",
              "    }\n",
              "\n",
              "    .dataframe tbody tr th {\n",
              "        vertical-align: top;\n",
              "    }\n",
              "\n",
              "    .dataframe thead th {\n",
              "        text-align: right;\n",
              "    }\n",
              "</style>\n",
              "<table border=\"1\" class=\"dataframe\">\n",
              "  <thead>\n",
              "    <tr style=\"text-align: right;\">\n",
              "      <th></th>\n",
              "      <th>GDAXI</th>\n",
              "      <th>ShortEMA</th>\n",
              "      <th>LongEMA</th>\n",
              "      <th>MACD Line</th>\n",
              "      <th>Signal Line</th>\n",
              "      <th>Position</th>\n",
              "      <th>LogReturns</th>\n",
              "      <th>Strategy</th>\n",
              "      <th>PriceChange</th>\n",
              "      <th>PriceStrategy</th>\n",
              "      <th>Trades</th>\n",
              "      <th>CLogReturns</th>\n",
              "      <th>CStrategy</th>\n",
              "      <th>CPrice</th>\n",
              "      <th>CPriceStrategy</th>\n",
              "    </tr>\n",
              "    <tr>\n",
              "      <th>Date</th>\n",
              "      <th></th>\n",
              "      <th></th>\n",
              "      <th></th>\n",
              "      <th></th>\n",
              "      <th></th>\n",
              "      <th></th>\n",
              "      <th></th>\n",
              "      <th></th>\n",
              "      <th></th>\n",
              "      <th></th>\n",
              "      <th></th>\n",
              "      <th></th>\n",
              "      <th></th>\n",
              "      <th></th>\n",
              "      <th></th>\n",
              "    </tr>\n",
              "  </thead>\n",
              "  <tbody>\n",
              "    <tr>\n",
              "      <th>2019-01-02</th>\n",
              "      <td>10580.19043</td>\n",
              "      <td>NaN</td>\n",
              "      <td>NaN</td>\n",
              "      <td>NaN</td>\n",
              "      <td>NaN</td>\n",
              "      <td>0</td>\n",
              "      <td>NaN</td>\n",
              "      <td>NaN</td>\n",
              "      <td>NaN</td>\n",
              "      <td>NaN</td>\n",
              "      <td>0.0</td>\n",
              "      <td>NaN</td>\n",
              "      <td>NaN</td>\n",
              "      <td>-0.00000</td>\n",
              "      <td>NaN</td>\n",
              "    </tr>\n",
              "    <tr>\n",
              "      <th>2019-01-03</th>\n",
              "      <td>10416.66016</td>\n",
              "      <td>NaN</td>\n",
              "      <td>NaN</td>\n",
              "      <td>NaN</td>\n",
              "      <td>NaN</td>\n",
              "      <td>0</td>\n",
              "      <td>-0.015577</td>\n",
              "      <td>-0.000000</td>\n",
              "      <td>-163.53027</td>\n",
              "      <td>-0.00000</td>\n",
              "      <td>0.0</td>\n",
              "      <td>0.984544</td>\n",
              "      <td>1.000000</td>\n",
              "      <td>-163.53027</td>\n",
              "      <td>0.00000</td>\n",
              "    </tr>\n",
              "    <tr>\n",
              "      <th>2019-01-04</th>\n",
              "      <td>10767.69043</td>\n",
              "      <td>NaN</td>\n",
              "      <td>NaN</td>\n",
              "      <td>NaN</td>\n",
              "      <td>NaN</td>\n",
              "      <td>0</td>\n",
              "      <td>0.033144</td>\n",
              "      <td>0.000000</td>\n",
              "      <td>351.03027</td>\n",
              "      <td>0.00000</td>\n",
              "      <td>0.0</td>\n",
              "      <td>1.017722</td>\n",
              "      <td>1.000000</td>\n",
              "      <td>187.50000</td>\n",
              "      <td>0.00000</td>\n",
              "    </tr>\n",
              "    <tr>\n",
              "      <th>2019-01-07</th>\n",
              "      <td>10747.80957</td>\n",
              "      <td>10681.867012</td>\n",
              "      <td>NaN</td>\n",
              "      <td>NaN</td>\n",
              "      <td>NaN</td>\n",
              "      <td>0</td>\n",
              "      <td>-0.001848</td>\n",
              "      <td>-0.000000</td>\n",
              "      <td>-19.88086</td>\n",
              "      <td>-0.00000</td>\n",
              "      <td>0.0</td>\n",
              "      <td>1.015843</td>\n",
              "      <td>1.000000</td>\n",
              "      <td>167.61914</td>\n",
              "      <td>0.00000</td>\n",
              "    </tr>\n",
              "    <tr>\n",
              "      <th>2019-01-08</th>\n",
              "      <td>10803.98047</td>\n",
              "      <td>10734.830864</td>\n",
              "      <td>10722.388062</td>\n",
              "      <td>12.442803</td>\n",
              "      <td>NaN</td>\n",
              "      <td>0</td>\n",
              "      <td>0.005213</td>\n",
              "      <td>0.000000</td>\n",
              "      <td>56.17090</td>\n",
              "      <td>0.00000</td>\n",
              "      <td>0.0</td>\n",
              "      <td>1.021152</td>\n",
              "      <td>1.000000</td>\n",
              "      <td>223.79004</td>\n",
              "      <td>0.00000</td>\n",
              "    </tr>\n",
              "    <tr>\n",
              "      <th>...</th>\n",
              "      <td>...</td>\n",
              "      <td>...</td>\n",
              "      <td>...</td>\n",
              "      <td>...</td>\n",
              "      <td>...</td>\n",
              "      <td>...</td>\n",
              "      <td>...</td>\n",
              "      <td>...</td>\n",
              "      <td>...</td>\n",
              "      <td>...</td>\n",
              "      <td>...</td>\n",
              "      <td>...</td>\n",
              "      <td>...</td>\n",
              "      <td>...</td>\n",
              "      <td>...</td>\n",
              "    </tr>\n",
              "    <tr>\n",
              "      <th>2019-12-19</th>\n",
              "      <td>13211.95996</td>\n",
              "      <td>13241.731030</td>\n",
              "      <td>13241.349243</td>\n",
              "      <td>0.381787</td>\n",
              "      <td>6.787242</td>\n",
              "      <td>-1</td>\n",
              "      <td>-0.000772</td>\n",
              "      <td>0.000772</td>\n",
              "      <td>-10.20020</td>\n",
              "      <td>10.20020</td>\n",
              "      <td>0.0</td>\n",
              "      <td>1.248745</td>\n",
              "      <td>1.029545</td>\n",
              "      <td>2631.76953</td>\n",
              "      <td>436.14356</td>\n",
              "    </tr>\n",
              "    <tr>\n",
              "      <th>2019-12-20</th>\n",
              "      <td>13318.90039</td>\n",
              "      <td>13272.598774</td>\n",
              "      <td>13267.199625</td>\n",
              "      <td>5.399149</td>\n",
              "      <td>6.324544</td>\n",
              "      <td>-1</td>\n",
              "      <td>0.008062</td>\n",
              "      <td>-0.008062</td>\n",
              "      <td>106.94043</td>\n",
              "      <td>-106.94043</td>\n",
              "      <td>0.0</td>\n",
              "      <td>1.258853</td>\n",
              "      <td>1.021278</td>\n",
              "      <td>2738.70996</td>\n",
              "      <td>329.20313</td>\n",
              "    </tr>\n",
              "    <tr>\n",
              "      <th>2019-12-23</th>\n",
              "      <td>13300.98047</td>\n",
              "      <td>13283.951452</td>\n",
              "      <td>13278.459907</td>\n",
              "      <td>5.491546</td>\n",
              "      <td>6.046878</td>\n",
              "      <td>-1</td>\n",
              "      <td>-0.001346</td>\n",
              "      <td>0.001346</td>\n",
              "      <td>-17.91992</td>\n",
              "      <td>17.91992</td>\n",
              "      <td>0.0</td>\n",
              "      <td>1.257159</td>\n",
              "      <td>1.022654</td>\n",
              "      <td>2720.79004</td>\n",
              "      <td>347.12305</td>\n",
              "    </tr>\n",
              "    <tr>\n",
              "      <th>2019-12-27</th>\n",
              "      <td>13337.11035</td>\n",
              "      <td>13305.215011</td>\n",
              "      <td>13298.010054</td>\n",
              "      <td>7.204957</td>\n",
              "      <td>6.432904</td>\n",
              "      <td>1</td>\n",
              "      <td>0.002713</td>\n",
              "      <td>-0.002713</td>\n",
              "      <td>36.12988</td>\n",
              "      <td>-36.12988</td>\n",
              "      <td>1.0</td>\n",
              "      <td>1.260574</td>\n",
              "      <td>1.019884</td>\n",
              "      <td>2756.91992</td>\n",
              "      <td>310.99317</td>\n",
              "    </tr>\n",
              "    <tr>\n",
              "      <th>2019-12-30</th>\n",
              "      <td>13249.00977</td>\n",
              "      <td>13282.732915</td>\n",
              "      <td>13281.676626</td>\n",
              "      <td>1.056288</td>\n",
              "      <td>4.640699</td>\n",
              "      <td>-1</td>\n",
              "      <td>-0.006628</td>\n",
              "      <td>-0.006628</td>\n",
              "      <td>-88.10058</td>\n",
              "      <td>-88.10058</td>\n",
              "      <td>1.0</td>\n",
              "      <td>1.252247</td>\n",
              "      <td>1.013147</td>\n",
              "      <td>2668.81934</td>\n",
              "      <td>222.89259</td>\n",
              "    </tr>\n",
              "  </tbody>\n",
              "</table>\n",
              "<p>251 rows × 15 columns</p>\n",
              "</div>"
            ],
            "text/plain": [
              "                  GDAXI      ShortEMA       LongEMA  MACD Line  Signal Line  \\\n",
              "Date                                                                          \n",
              "2019-01-02  10580.19043           NaN           NaN        NaN          NaN   \n",
              "2019-01-03  10416.66016           NaN           NaN        NaN          NaN   \n",
              "2019-01-04  10767.69043           NaN           NaN        NaN          NaN   \n",
              "2019-01-07  10747.80957  10681.867012           NaN        NaN          NaN   \n",
              "2019-01-08  10803.98047  10734.830864  10722.388062  12.442803          NaN   \n",
              "...                 ...           ...           ...        ...          ...   \n",
              "2019-12-19  13211.95996  13241.731030  13241.349243   0.381787     6.787242   \n",
              "2019-12-20  13318.90039  13272.598774  13267.199625   5.399149     6.324544   \n",
              "2019-12-23  13300.98047  13283.951452  13278.459907   5.491546     6.046878   \n",
              "2019-12-27  13337.11035  13305.215011  13298.010054   7.204957     6.432904   \n",
              "2019-12-30  13249.00977  13282.732915  13281.676626   1.056288     4.640699   \n",
              "\n",
              "            Position  LogReturns  Strategy  PriceChange  PriceStrategy  \\\n",
              "Date                                                                     \n",
              "2019-01-02         0         NaN       NaN          NaN            NaN   \n",
              "2019-01-03         0   -0.015577 -0.000000   -163.53027       -0.00000   \n",
              "2019-01-04         0    0.033144  0.000000    351.03027        0.00000   \n",
              "2019-01-07         0   -0.001848 -0.000000    -19.88086       -0.00000   \n",
              "2019-01-08         0    0.005213  0.000000     56.17090        0.00000   \n",
              "...              ...         ...       ...          ...            ...   \n",
              "2019-12-19        -1   -0.000772  0.000772    -10.20020       10.20020   \n",
              "2019-12-20        -1    0.008062 -0.008062    106.94043     -106.94043   \n",
              "2019-12-23        -1   -0.001346  0.001346    -17.91992       17.91992   \n",
              "2019-12-27         1    0.002713 -0.002713     36.12988      -36.12988   \n",
              "2019-12-30        -1   -0.006628 -0.006628    -88.10058      -88.10058   \n",
              "\n",
              "            Trades  CLogReturns  CStrategy      CPrice  CPriceStrategy  \n",
              "Date                                                                    \n",
              "2019-01-02     0.0          NaN        NaN    -0.00000             NaN  \n",
              "2019-01-03     0.0     0.984544   1.000000  -163.53027         0.00000  \n",
              "2019-01-04     0.0     1.017722   1.000000   187.50000         0.00000  \n",
              "2019-01-07     0.0     1.015843   1.000000   167.61914         0.00000  \n",
              "2019-01-08     0.0     1.021152   1.000000   223.79004         0.00000  \n",
              "...            ...          ...        ...         ...             ...  \n",
              "2019-12-19     0.0     1.248745   1.029545  2631.76953       436.14356  \n",
              "2019-12-20     0.0     1.258853   1.021278  2738.70996       329.20313  \n",
              "2019-12-23     0.0     1.257159   1.022654  2720.79004       347.12305  \n",
              "2019-12-27     1.0     1.260574   1.019884  2756.91992       310.99317  \n",
              "2019-12-30     1.0     1.252247   1.013147  2668.81934       222.89259  \n",
              "\n",
              "[251 rows x 15 columns]"
            ]
          },
          "execution_count": 23,
          "metadata": {},
          "output_type": "execute_result"
        }
      ],
      "source": [
        "macd_strategy(test_data, index_name, best_macd_params[0], best_macd_params[1], best_macd_params[2])"
      ]
    },
    {
      "cell_type": "code",
      "execution_count": null,
      "metadata": {
        "id": "jhEkmk95BqbB",
        "outputId": "315097d3-0751-4708-c305-087f53a27325"
      },
      "outputs": [
        {
          "data": {
            "text/html": [
              "<div>\n",
              "<style scoped>\n",
              "    .dataframe tbody tr th:only-of-type {\n",
              "        vertical-align: middle;\n",
              "    }\n",
              "\n",
              "    .dataframe tbody tr th {\n",
              "        vertical-align: top;\n",
              "    }\n",
              "\n",
              "    .dataframe thead th {\n",
              "        text-align: right;\n",
              "    }\n",
              "</style>\n",
              "<table border=\"1\" class=\"dataframe\">\n",
              "  <thead>\n",
              "    <tr style=\"text-align: right;\">\n",
              "      <th></th>\n",
              "      <th>Number of Trades</th>\n",
              "      <th>Net Profit</th>\n",
              "      <th>Profit Factor</th>\n",
              "      <th>Average Net per Trade</th>\n",
              "      <th>Maximum Drawdown</th>\n",
              "    </tr>\n",
              "  </thead>\n",
              "  <tbody>\n",
              "    <tr>\n",
              "      <th>Strategy</th>\n",
              "      <td>47.0</td>\n",
              "      <td>222.89259</td>\n",
              "      <td>1.016737</td>\n",
              "      <td>4.742396</td>\n",
              "      <td>-1372.20216</td>\n",
              "    </tr>\n",
              "  </tbody>\n",
              "</table>\n",
              "</div>"
            ],
            "text/plain": [
              "          Number of Trades  Net Profit  Profit Factor  Average Net per Trade  \\\n",
              "Strategy              47.0   222.89259       1.016737               4.742396   \n",
              "\n",
              "          Maximum Drawdown  \n",
              "Strategy       -1372.20216  "
            ]
          },
          "execution_count": 24,
          "metadata": {},
          "output_type": "execute_result"
        }
      ],
      "source": [
        "# macd strategy metric outputs\n",
        "calculate_metrics(macd_strategy(test_data, index_name, best_macd_params[0], best_macd_params[1], best_macd_params[2]))"
      ]
    },
    {
      "cell_type": "markdown",
      "metadata": {
        "id": "-sO4VGN-BqbB"
      },
      "source": [
        "## **RSI**"
      ]
    },
    {
      "cell_type": "code",
      "execution_count": null,
      "metadata": {
        "id": "bdxz7d_bBqbB"
      },
      "outputs": [],
      "source": [
        "def rsi_strategy(df, symbol, rsi_period):\n",
        "    \"\"\"\n",
        "    Implement a trading strategy using RSI (Relative Strength Index).\n",
        "\n",
        "    Args:\n",
        "        df (pd.DataFrame): The input DataFrame containing historical price data.\n",
        "        symbol (str): The name of the column representing the price data.\n",
        "        rsi_period (int): The period for the RSI calculation.\n",
        "\n",
        "    Returns:\n",
        "        pd.DataFrame: A DataFrame containing the trading strategy signals and performance metrics.\n",
        "    \"\"\"\n",
        "\n",
        "    # Preprocess the data (e.g., calculate price changes)\n",
        "    df = df_change(df, symbol)\n",
        "    temp = df.copy()  # Create a copy of the DataFrame\n",
        "\n",
        "    # Calculate the RSI\n",
        "    temp['RSI'] = calculate_rsi(temp[symbol], rsi_period)\n",
        "\n",
        "    # Generate trading signals based on RSI thresholds\n",
        "    temp['Position'] = np.where(temp['RSI'] < 30, 1,  # Buy when RSI < 30 (Oversold)\n",
        "                                np.where(temp['RSI'] > 70, -1, 0))  # Sell when RSI > 70 (Overbought)\n",
        "\n",
        "    # Calculate log returns and strategy returns\n",
        "    temp['LogReturns'] = np.log(temp[symbol]) - np.log(temp[symbol].shift(1))\n",
        "    temp['Strategy'] = temp['Position'].shift(1) * temp['LogReturns']\n",
        "\n",
        "    # Calculate profit based on price changes\n",
        "    temp['PriceChange'] = temp[symbol] - temp[symbol].shift(1)\n",
        "    temp['PriceStrategy'] = temp['Position'].shift(1) * temp['PriceChange']\n",
        "\n",
        "    # Calculate the number of trades and convert double trades to single trades\n",
        "    temp['Trades'] = temp['Position'].diff().fillna(0).abs()\n",
        "    temp['Trades'] = temp['Trades'].replace(2, 1)\n",
        "\n",
        "    # Calculate cumulative metrics\n",
        "    temp['CLogReturns'] = temp['LogReturns'].cumsum().apply(np.exp)\n",
        "    temp['CStrategy'] = temp['Strategy'].cumsum().apply(np.exp)\n",
        "    temp['CPrice'] = -(df[symbol].iloc[0] - df[symbol])\n",
        "    temp['CPriceStrategy'] = temp['PriceStrategy'].cumsum()\n",
        "\n",
        "    return temp\n",
        "\n",
        "def calculate_rsi(series, period):\n",
        "    \"\"\"Calculates the Relative Strength Index (RSI).\"\"\"\n",
        "    delta = series.diff(1)\n",
        "    gain = delta.where(delta > 0, 0.0)\n",
        "    loss = -delta.where(delta < 0, 0.0)\n",
        "\n",
        "    avg_gain = gain.rolling(window=period).mean()\n",
        "    avg_loss = loss.rolling(window=period).mean()\n",
        "\n",
        "    rs = avg_gain / avg_loss\n",
        "    rsi = 100 - (100 / (1 + rs))\n",
        "    return rsi\n"
      ]
    },
    {
      "cell_type": "code",
      "execution_count": null,
      "metadata": {
        "id": "9orPlDQ9BqbC"
      },
      "outputs": [],
      "source": [
        "def optimize_rsi_parameters(df, symbol, rsi_range):\n",
        "    \"\"\"\n",
        "    Optimize RSI (Relative Strength Index) parameters by finding the best period based on CStrategy.\n",
        "\n",
        "    Args:\n",
        "        df (pd.DataFrame): The input DataFrame containing historical price data.\n",
        "        symbol (str): The name of the column representing the price data.\n",
        "        rsi_range (list): A list of RSI period values to consider.\n",
        "\n",
        "    Returns:\n",
        "        list: A list of best RSI periods.\n",
        "        list: A list of corresponding CStrategy values.\n",
        "    \"\"\"\n",
        "    top_combinations = []\n",
        "\n",
        "    # Iterate over all possible RSI periods\n",
        "    for rsi_period in rsi_range:\n",
        "        # Calculate the RSI strategy performance for the given period\n",
        "        result = rsi_strategy(df, symbol, rsi_period)\n",
        "        c_strategy = result['CStrategy'].iloc[-1]  # Get the final CStrategy value\n",
        "\n",
        "        # Use a heap to maintain the top 5 combinations based on CStrategy\n",
        "        if len(top_combinations) < 5:\n",
        "            heapq.heappush(top_combinations, (c_strategy, rsi_period))\n",
        "        else:\n",
        "            heapq.heappushpop(top_combinations, (c_strategy, rsi_period))\n",
        "\n",
        "    # Get the top 5 RSI periods with highest CStrategy values\n",
        "    top_combinations = sorted(top_combinations, reverse=True)\n",
        "    best_periods = [combo[1] for combo in top_combinations]\n",
        "    best_c_strategy = [combo[0] for combo in top_combinations]\n",
        "\n",
        "    return best_periods, best_c_strategy"
      ]
    },
    {
      "cell_type": "code",
      "execution_count": null,
      "metadata": {
        "id": "OxhtNxglBqbC",
        "outputId": "810fcf5a-b078-4c55-c698-95b682ff5335"
      },
      "outputs": [
        {
          "name": "stdout",
          "output_type": "stream",
          "text": [
            "Best RSI Periods:\n",
            "Period 1: 5 with CStrategy: 1.4498055919088544\n",
            "Period 2: 13 with CStrategy: 1.4482066638126252\n",
            "Period 3: 8 with CStrategy: 1.4201882620512079\n",
            "Period 4: 10 with CStrategy: 1.3555477093894663\n",
            "Period 5: 16 with CStrategy: 1.3271021075036666\n",
            "\n",
            "Best RSI Period: 5\n"
          ]
        }
      ],
      "source": [
        "# Define the parameter range for RSI periods\n",
        "rsi_range = range(2, 30)  # Adjust this range based on your needs\n",
        "\n",
        "# Test smaller ranges (for testing purposes)\n",
        "# rsi_range = range(2, 5)\n",
        "\n",
        "# Run the optimization\n",
        "best_periods, best_c_strategy = optimize_rsi_parameters(train_data, index_name, rsi_range)\n",
        "\n",
        "# Extract the best RSI period\n",
        "best_rsi_period = best_periods[0]\n",
        "\n",
        "# Print the best periods and their corresponding CStrategy values\n",
        "print(\"Best RSI Periods:\")\n",
        "for i, period in enumerate(best_periods):\n",
        "    print(f\"Period {i+1}: {period} with CStrategy: {best_c_strategy[i]}\")\n",
        "\n",
        "print(f\"\\nBest RSI Period: {best_rsi_period}\")\n"
      ]
    },
    {
      "cell_type": "code",
      "execution_count": null,
      "metadata": {
        "id": "4jQmrY-HBqbC"
      },
      "outputs": [],
      "source": [
        "def calculate_profit_factor(strategy_returns):\n",
        "    \"\"\"\n",
        "    Calculate the profit factor for a given strategy.\n",
        "\n",
        "    Args:\n",
        "        strategy_returns (pd.Series): A series of strategy returns.\n",
        "\n",
        "    Returns:\n",
        "        float: The profit factor (ratio of gross profit to gross loss).\n",
        "    \"\"\"\n",
        "    # Separate profits and losses\n",
        "    gross_profit = strategy_returns[strategy_returns > 0].sum()\n",
        "    gross_loss = abs(strategy_returns[strategy_returns < 0].sum())\n",
        "\n",
        "    # Avoid division by zero by checking for zero gross loss\n",
        "    if gross_loss == 0:\n",
        "        return float('inf')  # Return infinity if there are no losses\n",
        "\n",
        "    return gross_profit / gross_loss"
      ]
    },
    {
      "cell_type": "code",
      "execution_count": null,
      "metadata": {
        "id": "_IrU6LkRBqbD",
        "outputId": "e05669da-cb3a-4faa-d72f-5da7dca5b75d"
      },
      "outputs": [
        {
          "name": "stdout",
          "output_type": "stream",
          "text": [
            "Printing five of the best RSI period combinations:\n",
            "\n",
            "Period 1: 5\n",
            "Profit Factor: 1.2728715203029541\n",
            "\n",
            "Period 2: 13\n",
            "Profit Factor: 0.901634720102489\n",
            "\n",
            "Period 3: 8\n",
            "Profit Factor: 0.8838836935914389\n",
            "\n",
            "Period 4: 10\n",
            "Profit Factor: 1.0638955732607642\n",
            "\n",
            "Period 5: 16\n",
            "Profit Factor: 1.0891328154369797\n",
            "\n"
          ]
        }
      ],
      "source": [
        "print(f\"Printing five of the best RSI period combinations:\\n\")\n",
        "\n",
        "for i, period in enumerate(best_periods):\n",
        "    # Run the RSI strategy with the current period\n",
        "    strategy_result = rsi_strategy(test_data, index_name, period)\n",
        "\n",
        "    # Calculate the profit factor\n",
        "    pf_factor = calculate_profit_factor(strategy_result['Strategy'])\n",
        "\n",
        "    # Print the result\n",
        "    print(f\"Period {i+1}: {period}\")\n",
        "    print(\"Profit Factor:\", pf_factor)\n",
        "    print()\n"
      ]
    },
    {
      "cell_type": "code",
      "execution_count": null,
      "metadata": {
        "id": "rz-GQbysBqbD",
        "outputId": "48678f22-3729-4b55-ee43-122a340ba84d"
      },
      "outputs": [
        {
          "data": {
            "text/html": [
              "<div>\n",
              "<style scoped>\n",
              "    .dataframe tbody tr th:only-of-type {\n",
              "        vertical-align: middle;\n",
              "    }\n",
              "\n",
              "    .dataframe tbody tr th {\n",
              "        vertical-align: top;\n",
              "    }\n",
              "\n",
              "    .dataframe thead th {\n",
              "        text-align: right;\n",
              "    }\n",
              "</style>\n",
              "<table border=\"1\" class=\"dataframe\">\n",
              "  <thead>\n",
              "    <tr style=\"text-align: right;\">\n",
              "      <th></th>\n",
              "      <th>GDAXI</th>\n",
              "      <th>RSI</th>\n",
              "      <th>Position</th>\n",
              "      <th>LogReturns</th>\n",
              "      <th>Strategy</th>\n",
              "      <th>PriceChange</th>\n",
              "      <th>PriceStrategy</th>\n",
              "      <th>Trades</th>\n",
              "      <th>CLogReturns</th>\n",
              "      <th>CStrategy</th>\n",
              "      <th>CPrice</th>\n",
              "      <th>CPriceStrategy</th>\n",
              "    </tr>\n",
              "    <tr>\n",
              "      <th>Date</th>\n",
              "      <th></th>\n",
              "      <th></th>\n",
              "      <th></th>\n",
              "      <th></th>\n",
              "      <th></th>\n",
              "      <th></th>\n",
              "      <th></th>\n",
              "      <th></th>\n",
              "      <th></th>\n",
              "      <th></th>\n",
              "      <th></th>\n",
              "      <th></th>\n",
              "    </tr>\n",
              "  </thead>\n",
              "  <tbody>\n",
              "    <tr>\n",
              "      <th>2019-01-02</th>\n",
              "      <td>10580.19043</td>\n",
              "      <td>NaN</td>\n",
              "      <td>0</td>\n",
              "      <td>NaN</td>\n",
              "      <td>NaN</td>\n",
              "      <td>NaN</td>\n",
              "      <td>NaN</td>\n",
              "      <td>0.0</td>\n",
              "      <td>NaN</td>\n",
              "      <td>NaN</td>\n",
              "      <td>-0.00000</td>\n",
              "      <td>NaN</td>\n",
              "    </tr>\n",
              "    <tr>\n",
              "      <th>2019-01-03</th>\n",
              "      <td>10416.66016</td>\n",
              "      <td>NaN</td>\n",
              "      <td>0</td>\n",
              "      <td>-0.015577</td>\n",
              "      <td>-0.0</td>\n",
              "      <td>-163.53027</td>\n",
              "      <td>-0.0</td>\n",
              "      <td>0.0</td>\n",
              "      <td>0.984544</td>\n",
              "      <td>1.000000</td>\n",
              "      <td>-163.53027</td>\n",
              "      <td>0.00000</td>\n",
              "    </tr>\n",
              "    <tr>\n",
              "      <th>2019-01-04</th>\n",
              "      <td>10767.69043</td>\n",
              "      <td>NaN</td>\n",
              "      <td>0</td>\n",
              "      <td>0.033144</td>\n",
              "      <td>0.0</td>\n",
              "      <td>351.03027</td>\n",
              "      <td>0.0</td>\n",
              "      <td>0.0</td>\n",
              "      <td>1.017722</td>\n",
              "      <td>1.000000</td>\n",
              "      <td>187.50000</td>\n",
              "      <td>0.00000</td>\n",
              "    </tr>\n",
              "    <tr>\n",
              "      <th>2019-01-07</th>\n",
              "      <td>10747.80957</td>\n",
              "      <td>NaN</td>\n",
              "      <td>0</td>\n",
              "      <td>-0.001848</td>\n",
              "      <td>-0.0</td>\n",
              "      <td>-19.88086</td>\n",
              "      <td>-0.0</td>\n",
              "      <td>0.0</td>\n",
              "      <td>1.015843</td>\n",
              "      <td>1.000000</td>\n",
              "      <td>167.61914</td>\n",
              "      <td>0.00000</td>\n",
              "    </tr>\n",
              "    <tr>\n",
              "      <th>2019-01-08</th>\n",
              "      <td>10803.98047</td>\n",
              "      <td>68.945596</td>\n",
              "      <td>0</td>\n",
              "      <td>0.005213</td>\n",
              "      <td>0.0</td>\n",
              "      <td>56.17090</td>\n",
              "      <td>0.0</td>\n",
              "      <td>0.0</td>\n",
              "      <td>1.021152</td>\n",
              "      <td>1.000000</td>\n",
              "      <td>223.79004</td>\n",
              "      <td>0.00000</td>\n",
              "    </tr>\n",
              "    <tr>\n",
              "      <th>...</th>\n",
              "      <td>...</td>\n",
              "      <td>...</td>\n",
              "      <td>...</td>\n",
              "      <td>...</td>\n",
              "      <td>...</td>\n",
              "      <td>...</td>\n",
              "      <td>...</td>\n",
              "      <td>...</td>\n",
              "      <td>...</td>\n",
              "      <td>...</td>\n",
              "      <td>...</td>\n",
              "      <td>...</td>\n",
              "    </tr>\n",
              "    <tr>\n",
              "      <th>2019-12-19</th>\n",
              "      <td>13211.95996</td>\n",
              "      <td>48.732098</td>\n",
              "      <td>0</td>\n",
              "      <td>-0.000772</td>\n",
              "      <td>-0.0</td>\n",
              "      <td>-10.20020</td>\n",
              "      <td>-0.0</td>\n",
              "      <td>0.0</td>\n",
              "      <td>1.248745</td>\n",
              "      <td>1.099444</td>\n",
              "      <td>2631.76953</td>\n",
              "      <td>1110.94044</td>\n",
              "    </tr>\n",
              "    <tr>\n",
              "      <th>2019-12-20</th>\n",
              "      <td>13318.90039</td>\n",
              "      <td>54.230854</td>\n",
              "      <td>0</td>\n",
              "      <td>0.008062</td>\n",
              "      <td>0.0</td>\n",
              "      <td>106.94043</td>\n",
              "      <td>0.0</td>\n",
              "      <td>0.0</td>\n",
              "      <td>1.258853</td>\n",
              "      <td>1.099444</td>\n",
              "      <td>2738.70996</td>\n",
              "      <td>1110.94044</td>\n",
              "    </tr>\n",
              "    <tr>\n",
              "      <th>2019-12-23</th>\n",
              "      <td>13300.98047</td>\n",
              "      <td>33.360446</td>\n",
              "      <td>0</td>\n",
              "      <td>-0.001346</td>\n",
              "      <td>-0.0</td>\n",
              "      <td>-17.91992</td>\n",
              "      <td>-0.0</td>\n",
              "      <td>0.0</td>\n",
              "      <td>1.257159</td>\n",
              "      <td>1.099444</td>\n",
              "      <td>2720.79004</td>\n",
              "      <td>1110.94044</td>\n",
              "    </tr>\n",
              "    <tr>\n",
              "      <th>2019-12-27</th>\n",
              "      <td>13337.11035</td>\n",
              "      <td>60.402811</td>\n",
              "      <td>0</td>\n",
              "      <td>0.002713</td>\n",
              "      <td>0.0</td>\n",
              "      <td>36.12988</td>\n",
              "      <td>0.0</td>\n",
              "      <td>0.0</td>\n",
              "      <td>1.260574</td>\n",
              "      <td>1.099444</td>\n",
              "      <td>2756.91992</td>\n",
              "      <td>1110.94044</td>\n",
              "    </tr>\n",
              "    <tr>\n",
              "      <th>2019-12-30</th>\n",
              "      <td>13249.00977</td>\n",
              "      <td>55.177505</td>\n",
              "      <td>0</td>\n",
              "      <td>-0.006628</td>\n",
              "      <td>-0.0</td>\n",
              "      <td>-88.10058</td>\n",
              "      <td>-0.0</td>\n",
              "      <td>0.0</td>\n",
              "      <td>1.252247</td>\n",
              "      <td>1.099444</td>\n",
              "      <td>2668.81934</td>\n",
              "      <td>1110.94044</td>\n",
              "    </tr>\n",
              "  </tbody>\n",
              "</table>\n",
              "<p>251 rows × 12 columns</p>\n",
              "</div>"
            ],
            "text/plain": [
              "                  GDAXI        RSI  Position  LogReturns  Strategy  \\\n",
              "Date                                                                 \n",
              "2019-01-02  10580.19043        NaN         0         NaN       NaN   \n",
              "2019-01-03  10416.66016        NaN         0   -0.015577      -0.0   \n",
              "2019-01-04  10767.69043        NaN         0    0.033144       0.0   \n",
              "2019-01-07  10747.80957        NaN         0   -0.001848      -0.0   \n",
              "2019-01-08  10803.98047  68.945596         0    0.005213       0.0   \n",
              "...                 ...        ...       ...         ...       ...   \n",
              "2019-12-19  13211.95996  48.732098         0   -0.000772      -0.0   \n",
              "2019-12-20  13318.90039  54.230854         0    0.008062       0.0   \n",
              "2019-12-23  13300.98047  33.360446         0   -0.001346      -0.0   \n",
              "2019-12-27  13337.11035  60.402811         0    0.002713       0.0   \n",
              "2019-12-30  13249.00977  55.177505         0   -0.006628      -0.0   \n",
              "\n",
              "            PriceChange  PriceStrategy  Trades  CLogReturns  CStrategy  \\\n",
              "Date                                                                     \n",
              "2019-01-02          NaN            NaN     0.0          NaN        NaN   \n",
              "2019-01-03   -163.53027           -0.0     0.0     0.984544   1.000000   \n",
              "2019-01-04    351.03027            0.0     0.0     1.017722   1.000000   \n",
              "2019-01-07    -19.88086           -0.0     0.0     1.015843   1.000000   \n",
              "2019-01-08     56.17090            0.0     0.0     1.021152   1.000000   \n",
              "...                 ...            ...     ...          ...        ...   \n",
              "2019-12-19    -10.20020           -0.0     0.0     1.248745   1.099444   \n",
              "2019-12-20    106.94043            0.0     0.0     1.258853   1.099444   \n",
              "2019-12-23    -17.91992           -0.0     0.0     1.257159   1.099444   \n",
              "2019-12-27     36.12988            0.0     0.0     1.260574   1.099444   \n",
              "2019-12-30    -88.10058           -0.0     0.0     1.252247   1.099444   \n",
              "\n",
              "                CPrice  CPriceStrategy  \n",
              "Date                                    \n",
              "2019-01-02    -0.00000             NaN  \n",
              "2019-01-03  -163.53027         0.00000  \n",
              "2019-01-04   187.50000         0.00000  \n",
              "2019-01-07   167.61914         0.00000  \n",
              "2019-01-08   223.79004         0.00000  \n",
              "...                ...             ...  \n",
              "2019-12-19  2631.76953      1110.94044  \n",
              "2019-12-20  2738.70996      1110.94044  \n",
              "2019-12-23  2720.79004      1110.94044  \n",
              "2019-12-27  2756.91992      1110.94044  \n",
              "2019-12-30  2668.81934      1110.94044  \n",
              "\n",
              "[251 rows x 12 columns]"
            ]
          },
          "execution_count": 30,
          "metadata": {},
          "output_type": "execute_result"
        }
      ],
      "source": [
        "rsi_strategy(test_data, index_name, best_rsi_period)"
      ]
    },
    {
      "cell_type": "code",
      "execution_count": null,
      "metadata": {
        "id": "k8MuHvjfBqbE",
        "outputId": "33da5931-7a26-40fb-963c-63e39b5ad252"
      },
      "outputs": [
        {
          "data": {
            "text/html": [
              "<div>\n",
              "<style scoped>\n",
              "    .dataframe tbody tr th:only-of-type {\n",
              "        vertical-align: middle;\n",
              "    }\n",
              "\n",
              "    .dataframe tbody tr th {\n",
              "        vertical-align: top;\n",
              "    }\n",
              "\n",
              "    .dataframe thead th {\n",
              "        text-align: right;\n",
              "    }\n",
              "</style>\n",
              "<table border=\"1\" class=\"dataframe\">\n",
              "  <thead>\n",
              "    <tr style=\"text-align: right;\">\n",
              "      <th></th>\n",
              "      <th>Number of Trades</th>\n",
              "      <th>Net Profit</th>\n",
              "      <th>Profit Factor</th>\n",
              "      <th>Average Net per Trade</th>\n",
              "      <th>Maximum Drawdown</th>\n",
              "    </tr>\n",
              "  </thead>\n",
              "  <tbody>\n",
              "    <tr>\n",
              "      <th>Strategy</th>\n",
              "      <td>85.0</td>\n",
              "      <td>1110.94044</td>\n",
              "      <td>1.272872</td>\n",
              "      <td>13.069888</td>\n",
              "      <td>-959.13965</td>\n",
              "    </tr>\n",
              "  </tbody>\n",
              "</table>\n",
              "</div>"
            ],
            "text/plain": [
              "          Number of Trades  Net Profit  Profit Factor  Average Net per Trade  \\\n",
              "Strategy              85.0  1110.94044       1.272872              13.069888   \n",
              "\n",
              "          Maximum Drawdown  \n",
              "Strategy        -959.13965  "
            ]
          },
          "execution_count": 31,
          "metadata": {},
          "output_type": "execute_result"
        }
      ],
      "source": [
        "calculate_metrics(rsi_strategy(test_data, index_name, best_rsi_period))"
      ]
    },
    {
      "cell_type": "markdown",
      "metadata": {
        "id": "Hrwa92sMBqbE"
      },
      "source": [
        "# **Prediction**"
      ]
    },
    {
      "cell_type": "markdown",
      "metadata": {
        "id": "_ddqvlPmBqbE"
      },
      "source": [
        "## **Linear Regression**"
      ]
    },
    {
      "cell_type": "code",
      "execution_count": null,
      "metadata": {
        "id": "UTw2dKGtBqbF"
      },
      "outputs": [],
      "source": [
        "# setting up the lookback parameter\n",
        "time_window = 6"
      ]
    },
    {
      "cell_type": "code",
      "execution_count": null,
      "metadata": {
        "id": "JO6vILROBqbG"
      },
      "outputs": [],
      "source": [
        "# creating x_train, y_train, x_test and y_test data\n",
        "x_train = split_data_x(train_data, time_window)\n",
        "y_train = split_data_y(train_data, time_window)\n",
        "x_val = split_data_x(validation_data, time_window)\n",
        "y_val = split_data_y(validation_data, time_window)\n",
        "x_test = split_data_x(test_data, time_window)\n",
        "y_test = split_data_y(test_data, time_window)"
      ]
    },
    {
      "cell_type": "code",
      "execution_count": null,
      "metadata": {
        "id": "fDowQMkcBqbG",
        "outputId": "1f3b704c-ae6c-4af3-fe1f-085c7d3c014e"
      },
      "outputs": [
        {
          "name": "stdout",
          "output_type": "stream",
          "text": [
            "x_train.shape =  (2018, 24)\n",
            "y_train.shape =  (2018, 1)\n",
            "x_val.shape =  (399, 24)\n",
            "y_val.shape =  (399, 1)\n",
            "x_test.shape =  (245, 24)\n",
            "y_test.shape =  (245, 1)\n"
          ]
        }
      ],
      "source": [
        "# printing shape of x and y data\n",
        "print('x_train.shape = ',x_train.shape)\n",
        "print('y_train.shape = ',y_train.shape)\n",
        "print('x_val.shape = ',x_val.shape)\n",
        "print('y_val.shape = ',y_val.shape)\n",
        "print('x_test.shape = ',x_test.shape)\n",
        "print('y_test.shape = ',y_test.shape)"
      ]
    },
    {
      "cell_type": "code",
      "execution_count": null,
      "metadata": {
        "id": "SeYkYVGTBqbH",
        "outputId": "d0b36a6b-d2a5-49dc-a7dc-538953d1d11e"
      },
      "outputs": [
        {
          "data": {
            "text/html": [
              "<style>#sk-container-id-1 {color: black;}#sk-container-id-1 pre{padding: 0;}#sk-container-id-1 div.sk-toggleable {background-color: white;}#sk-container-id-1 label.sk-toggleable__label {cursor: pointer;display: block;width: 100%;margin-bottom: 0;padding: 0.3em;box-sizing: border-box;text-align: center;}#sk-container-id-1 label.sk-toggleable__label-arrow:before {content: \"▸\";float: left;margin-right: 0.25em;color: #696969;}#sk-container-id-1 label.sk-toggleable__label-arrow:hover:before {color: black;}#sk-container-id-1 div.sk-estimator:hover label.sk-toggleable__label-arrow:before {color: black;}#sk-container-id-1 div.sk-toggleable__content {max-height: 0;max-width: 0;overflow: hidden;text-align: left;background-color: #f0f8ff;}#sk-container-id-1 div.sk-toggleable__content pre {margin: 0.2em;color: black;border-radius: 0.25em;background-color: #f0f8ff;}#sk-container-id-1 input.sk-toggleable__control:checked~div.sk-toggleable__content {max-height: 200px;max-width: 100%;overflow: auto;}#sk-container-id-1 input.sk-toggleable__control:checked~label.sk-toggleable__label-arrow:before {content: \"▾\";}#sk-container-id-1 div.sk-estimator input.sk-toggleable__control:checked~label.sk-toggleable__label {background-color: #d4ebff;}#sk-container-id-1 div.sk-label input.sk-toggleable__control:checked~label.sk-toggleable__label {background-color: #d4ebff;}#sk-container-id-1 input.sk-hidden--visually {border: 0;clip: rect(1px 1px 1px 1px);clip: rect(1px, 1px, 1px, 1px);height: 1px;margin: -1px;overflow: hidden;padding: 0;position: absolute;width: 1px;}#sk-container-id-1 div.sk-estimator {font-family: monospace;background-color: #f0f8ff;border: 1px dotted black;border-radius: 0.25em;box-sizing: border-box;margin-bottom: 0.5em;}#sk-container-id-1 div.sk-estimator:hover {background-color: #d4ebff;}#sk-container-id-1 div.sk-parallel-item::after {content: \"\";width: 100%;border-bottom: 1px solid gray;flex-grow: 1;}#sk-container-id-1 div.sk-label:hover label.sk-toggleable__label {background-color: #d4ebff;}#sk-container-id-1 div.sk-serial::before {content: \"\";position: absolute;border-left: 1px solid gray;box-sizing: border-box;top: 0;bottom: 0;left: 50%;z-index: 0;}#sk-container-id-1 div.sk-serial {display: flex;flex-direction: column;align-items: center;background-color: white;padding-right: 0.2em;padding-left: 0.2em;position: relative;}#sk-container-id-1 div.sk-item {position: relative;z-index: 1;}#sk-container-id-1 div.sk-parallel {display: flex;align-items: stretch;justify-content: center;background-color: white;position: relative;}#sk-container-id-1 div.sk-item::before, #sk-container-id-1 div.sk-parallel-item::before {content: \"\";position: absolute;border-left: 1px solid gray;box-sizing: border-box;top: 0;bottom: 0;left: 50%;z-index: -1;}#sk-container-id-1 div.sk-parallel-item {display: flex;flex-direction: column;z-index: 1;position: relative;background-color: white;}#sk-container-id-1 div.sk-parallel-item:first-child::after {align-self: flex-end;width: 50%;}#sk-container-id-1 div.sk-parallel-item:last-child::after {align-self: flex-start;width: 50%;}#sk-container-id-1 div.sk-parallel-item:only-child::after {width: 0;}#sk-container-id-1 div.sk-dashed-wrapped {border: 1px dashed gray;margin: 0 0.4em 0.5em 0.4em;box-sizing: border-box;padding-bottom: 0.4em;background-color: white;}#sk-container-id-1 div.sk-label label {font-family: monospace;font-weight: bold;display: inline-block;line-height: 1.2em;}#sk-container-id-1 div.sk-label-container {text-align: center;}#sk-container-id-1 div.sk-container {/* jupyter's `normalize.less` sets `[hidden] { display: none; }` but bootstrap.min.css set `[hidden] { display: none !important; }` so we also need the `!important` here to be able to override the default hidden behavior on the sphinx rendered scikit-learn.org. See: https://github.com/scikit-learn/scikit-learn/issues/21755 */display: inline-block !important;position: relative;}#sk-container-id-1 div.sk-text-repr-fallback {display: none;}</style><div id=\"sk-container-id-1\" class=\"sk-top-container\"><div class=\"sk-text-repr-fallback\"><pre>LinearRegression()</pre><b>In a Jupyter environment, please rerun this cell to show the HTML representation or trust the notebook. <br />On GitHub, the HTML representation is unable to render, please try loading this page with nbviewer.org.</b></div><div class=\"sk-container\" hidden><div class=\"sk-item\"><div class=\"sk-estimator sk-toggleable\"><input class=\"sk-toggleable__control sk-hidden--visually\" id=\"sk-estimator-id-1\" type=\"checkbox\" checked><label for=\"sk-estimator-id-1\" class=\"sk-toggleable__label sk-toggleable__label-arrow\">LinearRegression</label><div class=\"sk-toggleable__content\"><pre>LinearRegression()</pre></div></div></div></div></div>"
            ],
            "text/plain": [
              "LinearRegression()"
            ]
          },
          "execution_count": 35,
          "metadata": {},
          "output_type": "execute_result"
        }
      ],
      "source": [
        "# Create and train the linear regression model\n",
        "regression_model = LinearRegression()\n",
        "regression_model.fit(x_train, y_train)"
      ]
    },
    {
      "cell_type": "code",
      "execution_count": null,
      "metadata": {
        "id": "T8GtFY2EBqbH",
        "outputId": "c6eef846-5ff6-4789-817d-3787cf116c32"
      },
      "outputs": [
        {
          "name": "stdout",
          "output_type": "stream",
          "text": [
            "Validation MAE: 81.6004508492306\n"
          ]
        }
      ],
      "source": [
        "# Evaluate the model on validation data\n",
        "y_val_pred = regression_model.predict(x_val)\n",
        "val_mae = mean_absolute_error(y_val, y_val_pred)\n",
        "print(f'Validation MAE: {val_mae}')"
      ]
    },
    {
      "cell_type": "code",
      "execution_count": null,
      "metadata": {
        "id": "bQyOd6I3BqbH",
        "outputId": "87a0ccfe-623a-42b3-8d40-9fe011a0cc6d"
      },
      "outputs": [
        {
          "name": "stdout",
          "output_type": "stream",
          "text": [
            "Test MAE: 76.3701420979193\n"
          ]
        }
      ],
      "source": [
        "# Evaluate the model on test data\n",
        "y_test_pred = regression_model.predict(x_test)\n",
        "test_mae = mean_absolute_error(y_test, y_test_pred)\n",
        "print(f'Test MAE: {test_mae}')"
      ]
    },
    {
      "cell_type": "code",
      "execution_count": null,
      "metadata": {
        "id": "HUpxlEThBqbI",
        "outputId": "b75f4709-8641-4635-b8b5-9ad8146526f8"
      },
      "outputs": [
        {
          "name": "stdout",
          "output_type": "stream",
          "text": [
            "Validation RMSE: 106.10076619624773\n",
            "Validation sMAPE: 0.6623127345194677\n",
            "Validation MAPE: 0.6629027900222378\n",
            "Test RMSE: 102.54610207706916\n",
            "Test sMAPE: 0.6335927413286304\n",
            "Test MAPE: 0.6335567295884226\n"
          ]
        }
      ],
      "source": [
        "# Evaluate on the validation set\n",
        "y_val_pred = regression_model.predict(x_val)\n",
        "\n",
        "# RMSE\n",
        "val_rmse = np.sqrt(mean_squared_error(y_val, y_val_pred))\n",
        "print(f'Validation RMSE: {val_rmse}')\n",
        "\n",
        "# sMAPE\n",
        "val_smape = np.mean(np.abs((y_val - y_val_pred) / (np.abs(y_val) + np.abs(y_val_pred))) * 200)\n",
        "print(f'Validation sMAPE: {val_smape}')\n",
        "\n",
        "# MAPE\n",
        "val_mape = np.mean(np.abs((y_val - y_val_pred) / y_val)) * 100\n",
        "print(f'Validation MAPE: {val_mape}')\n",
        "\n",
        "# Evaluate on the test set\n",
        "y_test_pred = regression_model.predict(x_test)\n",
        "\n",
        "# RMSE for test set\n",
        "test_rmse = np.sqrt(mean_squared_error(y_test, y_test_pred))\n",
        "print(f'Test RMSE: {test_rmse}')\n",
        "\n",
        "# sMAPE for test set\n",
        "test_smape = np.mean(np.abs((y_test - y_test_pred) / (np.abs(y_test) + np.abs(y_test_pred))) * 200)\n",
        "print(f'Test sMAPE: {test_smape}')\n",
        "\n",
        "# MAPE for test set\n",
        "test_mape = np.mean(np.abs((y_test - y_test_pred) / y_test)) * 100\n",
        "print(f'Test MAPE: {test_mape}')"
      ]
    },
    {
      "cell_type": "code",
      "execution_count": null,
      "metadata": {
        "id": "pMkHC1NCBqbI",
        "outputId": "0bd4a606-44bb-42d4-a2c8-c870f3357562"
      },
      "outputs": [
        {
          "data": {
            "image/png": "[encoded data removed]",
            "text/plain": [
              "<Figure size 1200x400 with 1 Axes>"
            ]
          },
          "metadata": {},
          "output_type": "display_data"
        }
      ],
      "source": [
        "# Plotting the predicted values and real values\n",
        "plt.figure(figsize=(12, 4))\n",
        "plt.plot(test_data.iloc[time_window:].index, y_test, label='Real Values')\n",
        "plt.plot(test_data.iloc[time_window:].index, y_test_pred, label='Predicted Values')\n",
        "plt.xlabel('Date')\n",
        "plt.ylabel('Close Price')\n",
        "plt.title('Linear Regression - Predicted vs Real Values')\n",
        "plt.legend()\n",
        "plt.show()"
      ]
    },
    {
      "cell_type": "code",
      "execution_count": null,
      "metadata": {
        "id": "UnX18gOOBqbI"
      },
      "outputs": [],
      "source": [
        "# saving the prediction price for further use\n",
        "y_pred_lr = pd.DataFrame(y_test_pred)\n",
        "\n",
        "# Rename the column\n",
        "y_pred_lr = y_pred_lr.rename(columns={0: 'Predicted'})\n",
        "\n",
        "# Add 10 rows with NaN values at the top\n",
        "y_pred_lr = pd.concat([pd.DataFrame(np.nan,\n",
        "                                    index=np.arange(time_window),\n",
        "                                    columns=['Predicted']), y_pred_lr],\n",
        "                      ignore_index=True)"
      ]
    },
    {
      "cell_type": "markdown",
      "metadata": {
        "id": "W0vJsNuRBqbJ"
      },
      "source": [
        "## **ANN**"
      ]
    },
    {
      "cell_type": "code",
      "execution_count": null,
      "metadata": {
        "id": "oRGI9W3XBqbJ"
      },
      "outputs": [],
      "source": [
        "# Define the updated ANN model with Dropout\n",
        "class ANNModel(nn.Module):\n",
        "    def __init__(self, input_size):\n",
        "        super(ANNModel, self).__init__()\n",
        "        # Reduce number of layers/neuron counts as needed\n",
        "        self.layer1 = nn.Linear(input_size, 64)\n",
        "        self.layer2 = nn.Linear(64, 32)\n",
        "        self.output = nn.Linear(32, 1)\n",
        "        self.dropout = nn.Dropout(0.3)  # Dropout layer with 30% dropout rate\n",
        "\n",
        "    def forward(self, x):\n",
        "        x = torch.relu(self.layer1(x))\n",
        "        x = self.dropout(x)  # Apply dropout after first layer\n",
        "        x = torch.relu(self.layer2(x))\n",
        "        x = self.output(x)\n",
        "        return x"
      ]
    },
    {
      "cell_type": "code",
      "execution_count": null,
      "metadata": {
        "id": "ywfNyuRUBqbJ"
      },
      "outputs": [],
      "source": [
        "# creating x_train, y_train, x_test and y_test data\n",
        "x_train = split_data_x(train_data_scaled, time_window)\n",
        "y_train = split_data_y(train_data_scaled, time_window)\n",
        "x_val = split_data_x(validation_data_scaled, time_window)\n",
        "y_val = split_data_y(validation_data, time_window)\n",
        "x_test = split_data_x(test_data_scaled, time_window)\n",
        "y_test = split_data_y(test_data, time_window)"
      ]
    },
    {
      "cell_type": "code",
      "execution_count": null,
      "metadata": {
        "id": "EntdlC5FBqbJ"
      },
      "outputs": [],
      "source": [
        "# transforming numpy to tensor\n",
        "x_train = torch.from_numpy(x_train).type(torch.Tensor)\n",
        "y_train = torch.from_numpy(y_train).type(torch.Tensor)\n",
        "x_val = torch.from_numpy(x_val).type(torch.Tensor)\n",
        "y_val = torch.from_numpy(y_val).type(torch.Tensor)\n",
        "x_test = torch.from_numpy(x_test).type(torch.Tensor)\n",
        "y_test = torch.from_numpy(y_test).type(torch.Tensor)"
      ]
    },
    {
      "cell_type": "code",
      "execution_count": null,
      "metadata": {
        "id": "xyIfsKFhBqbK"
      },
      "outputs": [],
      "source": [
        "# Set the hyperparameters\n",
        "hidden_size = 16\n",
        "lr = 0.00001\n",
        "num_iterations = 5000"
      ]
    },
    {
      "cell_type": "code",
      "execution_count": null,
      "metadata": {
        "id": "sioQqBksBqbK"
      },
      "outputs": [],
      "source": [
        "# Define the model\n",
        "input_size = x_train.shape[1]\n",
        "output_size = 1\n",
        "model = ANNModel(input_size=x_train.shape[1])  # Define input size based on x_train\n",
        "\n",
        "# Define the loss function and optimizer\n",
        "criterion = nn.MSELoss()\n",
        "optimizer = optim.Adam(model.parameters(), lr=0.001)"
      ]
    },
    {
      "cell_type": "code",
      "execution_count": null,
      "metadata": {
        "id": "Zhpqv8dIBqbK"
      },
      "outputs": [],
      "source": [
        "# Implement early stopping\n",
        "early_stop_threshold = 10  # Stop if no improvement after 10 iterations\n",
        "best_val_loss = float('inf')\n",
        "no_improvement_count = 0"
      ]
    },
    {
      "cell_type": "code",
      "execution_count": null,
      "metadata": {
        "id": "csmaMm4OBqbK",
        "outputId": "ebcd7b53-24d9-4da4-f375-c7ae7c6d7994"
      },
      "outputs": [
        {
          "name": "stdout",
          "output_type": "stream",
          "text": [
            "Early stopping at epoch 41\n"
          ]
        }
      ],
      "source": [
        "num_epochs = 5000\n",
        "for epoch in range(num_epochs):\n",
        "    model.train()\n",
        "    optimizer.zero_grad()\n",
        "    outputs = model(x_train)\n",
        "    loss = criterion(outputs, y_train)\n",
        "    loss.backward()\n",
        "    optimizer.step()\n",
        "\n",
        "    # Validation step\n",
        "    model.eval()\n",
        "    with torch.no_grad():\n",
        "        val_outputs = model(x_val)\n",
        "        val_loss = criterion(val_outputs, y_val)\n",
        "\n",
        "    # Early stopping check\n",
        "    if val_loss < best_val_loss:\n",
        "        best_val_loss = val_loss\n",
        "        no_improvement_count = 0\n",
        "    else:\n",
        "        no_improvement_count += 1\n",
        "        if no_improvement_count >= early_stop_threshold:\n",
        "            print(f\"Early stopping at epoch {epoch + 1}\")\n",
        "            break\n",
        "\n",
        "    if (epoch + 1) % 500 == 0:\n",
        "        print(f\"Epoch [{epoch + 1}/{num_epochs}], Training Loss: {loss.item()}, Validation Loss: {val_loss.item()}\")"
      ]
    },
    {
      "cell_type": "code",
      "execution_count": null,
      "metadata": {
        "id": "sGAmvnRLBqbL"
      },
      "outputs": [],
      "source": [
        "# Compute predictions on the test data\n",
        "y_pred = model(x_test)\n",
        "\n",
        "# Reshape the y_pred array to match the shape of the original data\n",
        "y_pred = y_pred.detach().numpy().reshape(-1, 1)\n",
        "\n",
        "# Scale the test_data['Close'] using the same scaler used for training data\n",
        "temp = scaler.fit_transform(test_data[['Close']])\n",
        "\n",
        "# Inverse transform the scaled y_pred values to get the actual predicted values\n",
        "y_pred = scaler.inverse_transform(y_pred)\n",
        "\n",
        "# Convert y_test tensor to a NumPy array\n",
        "y_test = y_test.detach().numpy()"
      ]
    },
    {
      "cell_type": "code",
      "execution_count": null,
      "metadata": {
        "id": "REe6PeKxBqbL",
        "outputId": "c1ff3a1e-b418-4532-9ea3-31d885ef790c"
      },
      "outputs": [
        {
          "name": "stdout",
          "output_type": "stream",
          "text": [
            "Mean Absolute Error (MAE): 933.923\n",
            "Root Mean Squared Error (RMSE): 1020.4525\n",
            "Symmetric Mean Absolute Percentage Error (sMAPE): 3.7632582\n",
            "Mean Absolute Percentage Error (MAPE): 7.890079170465469\n"
          ]
        }
      ],
      "source": [
        "# Calculate the mean absolute error (MAE)\n",
        "mae = mean_absolute_error(y_test, y_pred)\n",
        "print('Mean Absolute Error (MAE):', mae)\n",
        "\n",
        "# Calculate the root mean squared error (RMSE)\n",
        "rmse = np.sqrt(mean_squared_error(y_test, y_pred))\n",
        "print('Root Mean Squared Error (RMSE):', rmse)\n",
        "\n",
        "# Calculate the symmetric mean absolute percentage error (sMAPE)\n",
        "smape = np.mean(np.abs((y_test - y_pred) / (np.abs(y_test) + np.abs(y_pred))) * 100)\n",
        "print('Symmetric Mean Absolute Percentage Error (sMAPE):', smape)\n",
        "\n",
        "# Calculate the mean absolute percentage error (MAPE)\n",
        "mape = np.mean(np.abs((y_test - y_pred) / y_test)) * 100\n",
        "print('Mean Absolute Percentage Error (MAPE):', mape)"
      ]
    },
    {
      "cell_type": "code",
      "execution_count": null,
      "metadata": {
        "id": "1fnUd2BTBqbL",
        "outputId": "fe66e7a8-a6f3-424d-8cf4-f4d6031abd7b"
      },
      "outputs": [
        {
          "data": {
            "image/png": "[encoded data removed]",
            "text/plain": [
              "<Figure size 1200x400 with 1 Axes>"
            ]
          },
          "metadata": {},
          "output_type": "display_data"
        }
      ],
      "source": [
        "# Plotting the predicted values and real values\n",
        "plt.figure(figsize=(12, 4))\n",
        "plt.plot(test_data.iloc[time_window:].index, y_test, label='Real Values')\n",
        "plt.plot(test_data.iloc[time_window:].index, y_pred, label='Predicted Values')\n",
        "plt.xlabel('Date')\n",
        "plt.ylabel('Close Price')\n",
        "plt.title('Artificial Neural Network - Predicted vs Real Values')\n",
        "plt.legend()\n",
        "plt.show()"
      ]
    },
    {
      "cell_type": "code",
      "execution_count": null,
      "metadata": {
        "id": "mBgL1KgPBqbM"
      },
      "outputs": [],
      "source": [
        "# saving the prediction price for further use\n",
        "y_pred_ann = pd.DataFrame(y_pred)\n",
        "\n",
        "# Rename the column\n",
        "y_pred_ann = y_pred_ann.rename(columns={0: 'Predicted'})\n",
        "\n",
        "# Add 10 rows with NaN values at the top\n",
        "y_pred_ann = pd.concat([pd.DataFrame(np.nan,\n",
        "                                    index=np.arange(time_window),\n",
        "                                    columns=['Predicted']), y_pred_ann],\n",
        "                      ignore_index=True)"
      ]
    },
    {
      "cell_type": "markdown",
      "metadata": {
        "id": "0JUuTVEkBqbM"
      },
      "source": [
        "# **LSTM**"
      ]
    },
    {
      "cell_type": "code",
      "execution_count": null,
      "metadata": {
        "id": "PXLdw4IlBqbM"
      },
      "outputs": [],
      "source": [
        "# Define the updated LSTM model with increased hidden size and layers\n",
        "class LSTMModel(nn.Module):\n",
        "    def __init__(self, input_size=1, hidden_size=64, num_layers=2, dropout=0.3):\n",
        "        super(LSTMModel, self).__init__()\n",
        "        self.hidden_size = hidden_size\n",
        "        self.num_layers = num_layers\n",
        "        self.lstm = nn.LSTM(input_size, hidden_size, num_layers, batch_first=True, dropout=dropout)\n",
        "        self.fc = nn.Linear(hidden_size, 1)\n",
        "\n",
        "    def forward(self, x):\n",
        "        # Initialize hidden and cell states with zeros\n",
        "        h0 = torch.zeros(self.num_layers, x.size(0), self.hidden_size).to(x.device)\n",
        "        c0 = torch.zeros(self.num_layers, x.size(0), self.hidden_size).to(x.device)\n",
        "        # Forward propagate LSTM\n",
        "        out, _ = self.lstm(x, (h0, c0))\n",
        "        # Get the last timestep output\n",
        "        out = self.fc(out[:, -1, :])\n",
        "        return out"
      ]
    },
    {
      "cell_type": "code",
      "execution_count": null,
      "metadata": {
        "id": "3NVqaalEBqbM"
      },
      "outputs": [],
      "source": [
        "# Data preparation (match style with ANN)\n",
        "x_train = split_data_x(train_data_scaled, time_window)\n",
        "y_train = split_data_y(train_data_scaled, time_window)\n",
        "x_val = split_data_x(validation_data_scaled, time_window)\n",
        "y_val = split_data_y(validation_data, time_window)\n",
        "x_test = split_data_x(test_data_scaled, time_window)\n",
        "y_test = split_data_y(test_data, time_window)"
      ]
    },
    {
      "cell_type": "code",
      "execution_count": null,
      "metadata": {
        "id": "nU2Fl6WrBqbN"
      },
      "outputs": [],
      "source": [
        "# Transform numpy arrays to tensors\n",
        "x_train = torch.from_numpy(x_train).type(torch.Tensor)\n",
        "y_train = torch.from_numpy(y_train).type(torch.Tensor)\n",
        "x_val = torch.from_numpy(x_val).type(torch.Tensor)\n",
        "y_val = torch.from_numpy(y_val).type(torch.Tensor)\n",
        "x_test = torch.from_numpy(x_test).type(torch.Tensor)\n",
        "y_test = torch.from_numpy(y_test).type(torch.Tensor)"
      ]
    },
    {
      "cell_type": "code",
      "execution_count": null,
      "metadata": {
        "id": "3Sw6XjwcBqbN"
      },
      "outputs": [],
      "source": [
        "# Ensure x_train, x_val, and x_test have three dimensions\n",
        "if x_train.dim() == 2:\n",
        "    x_train = x_train.unsqueeze(-1)  # Add a dimension at the end\n",
        "if x_val.dim() == 2:\n",
        "    x_val = x_val.unsqueeze(-1)\n",
        "if x_test.dim() == 2:\n",
        "    x_test = x_test.unsqueeze(-1)"
      ]
    },
    {
      "cell_type": "code",
      "execution_count": null,
      "metadata": {
        "id": "dnIHSXc2BqbN"
      },
      "outputs": [],
      "source": [
        "# Set up hyperparameters\n",
        "input_size = x_train.shape[2]  # Number of features\n",
        "hidden_size = 64\n",
        "num_layers = 2\n",
        "dropout = 0.3\n",
        "learning_rate = 0.001\n",
        "num_epochs = 5000\n",
        "early_stop_threshold = 10"
      ]
    },
    {
      "cell_type": "code",
      "execution_count": null,
      "metadata": {
        "id": "JexhMpBKBqbN",
        "outputId": "6fc07c4c-04fe-40e4-d190-e0383274a96a"
      },
      "outputs": [
        {
          "name": "stderr",
          "output_type": "stream",
          "text": [
            "/Users/amaanrai/anaconda3/lib/python3.11/site-packages/torch/optim/lr_scheduler.py:28: UserWarning: The verbose parameter is deprecated. Please use get_last_lr() to access the learning rate.\n",
            "  warnings.warn(\"The verbose parameter is deprecated. Please use get_last_lr() \"\n"
          ]
        }
      ],
      "source": [
        "# Instantiate model, loss function, and optimizer\n",
        "model = LSTMModel(input_size=input_size, hidden_size=hidden_size, num_layers=num_layers, dropout=dropout)\n",
        "criterion = nn.MSELoss()\n",
        "optimizer = optim.Adam(model.parameters(), lr=learning_rate)\n",
        "\n",
        "# Set up a learning rate scheduler\n",
        "scheduler = torch.optim.lr_scheduler.ReduceLROnPlateau(optimizer, patience=5, factor=0.5, verbose=True)\n",
        "\n",
        "# Early stopping parameters\n",
        "best_val_loss = float('inf')\n",
        "no_improvement_count = 0"
      ]
    },
    {
      "cell_type": "code",
      "execution_count": null,
      "metadata": {
        "id": "W7RWhCWRBqbO",
        "outputId": "2e5fed6a-694c-4c21-d335-3956b74a7357"
      },
      "outputs": [
        {
          "name": "stdout",
          "output_type": "stream",
          "text": [
            "Early stopping at epoch 24\n"
          ]
        }
      ],
      "source": [
        "# Training loop\n",
        "for epoch in range(num_epochs):\n",
        "    model.train()\n",
        "    optimizer.zero_grad()\n",
        "    outputs = model(x_train)\n",
        "    loss = criterion(outputs, y_train)\n",
        "    loss.backward()\n",
        "    optimizer.step()\n",
        "\n",
        "    # Validation step\n",
        "    model.eval()\n",
        "    with torch.no_grad():\n",
        "        val_outputs = model(x_val)\n",
        "        val_loss = criterion(val_outputs, y_val)\n",
        "\n",
        "    # Early stopping check\n",
        "    if val_loss < best_val_loss:\n",
        "        best_val_loss = val_loss\n",
        "        no_improvement_count = 0\n",
        "    else:\n",
        "        no_improvement_count += 1\n",
        "        if no_improvement_count >= early_stop_threshold:\n",
        "            print(f\"Early stopping at epoch {epoch + 1}\")\n",
        "            break\n",
        "\n",
        "    if (epoch + 1) % 500 == 0:\n",
        "        print(f\"Epoch [{epoch + 1}/{num_epochs}], Training Loss: {loss.item()}, Validation Loss: {val_loss.item()}\")"
      ]
    },
    {
      "cell_type": "code",
      "execution_count": null,
      "metadata": {
        "id": "dGrNvxehBqbO"
      },
      "outputs": [],
      "source": [
        "# Predictions and inverse transformation\n",
        "model.eval()\n",
        "with torch.no_grad():\n",
        "    y_pred = model(x_test).squeeze().cpu().numpy()\n",
        "    y_test = y_test.cpu().numpy()\n",
        "\n",
        "# Rescale predictions\n",
        "y_pred = y_pred.reshape(-1, 1)\n",
        "y_pred = scaler.inverse_transform(y_pred)"
      ]
    },
    {
      "cell_type": "code",
      "execution_count": null,
      "metadata": {
        "id": "nHhSIHtIBqbO",
        "outputId": "00ace8bc-43b2-47e3-ab97-347412875b57"
      },
      "outputs": [
        {
          "name": "stdout",
          "output_type": "stream",
          "text": [
            "Mean Absolute Error (MAE): 534.2744\n",
            "Root Mean Squared Error (RMSE): 660.34827\n",
            "Symmetric Mean Absolute Percentage Error (sMAPE): 2.1994069\n",
            "Mean Absolute Percentage Error (MAPE): 4.320773854851723\n"
          ]
        }
      ],
      "source": [
        "# Calculate evaluation metrics\n",
        "mae = mean_absolute_error(y_test, y_pred)\n",
        "rmse = np.sqrt(mean_squared_error(y_test, y_pred))\n",
        "smape = np.mean(np.abs((y_test - y_pred) / (np.abs(y_test) + np.abs(y_pred))) * 100)\n",
        "mape = np.mean(np.abs((y_test - y_pred) / y_test)) * 100\n",
        "\n",
        "print('Mean Absolute Error (MAE):', mae)\n",
        "print('Root Mean Squared Error (RMSE):', rmse)\n",
        "print('Symmetric Mean Absolute Percentage Error (sMAPE):', smape)\n",
        "print('Mean Absolute Percentage Error (MAPE):', mape)"
      ]
    },
    {
      "cell_type": "code",
      "execution_count": null,
      "metadata": {
        "id": "V1wWzIyPBqbP",
        "outputId": "0dd4a350-8472-4765-8581-51442d4eb3e9"
      },
      "outputs": [
        {
          "data": {
            "image/png": "[encoded data removed]",
            "text/plain": [
              "<Figure size 1200x400 with 1 Axes>"
            ]
          },
          "metadata": {},
          "output_type": "display_data"
        }
      ],
      "source": [
        "# Plotting the predicted vs real values\n",
        "plt.figure(figsize=(12, 4))\n",
        "plt.plot(test_data.iloc[time_window:].index, y_test, label='Real Values')\n",
        "plt.plot(test_data.iloc[time_window:].index, y_pred, label='Predicted Values')\n",
        "plt.xlabel('Date')\n",
        "plt.ylabel('Close Price')\n",
        "plt.title('LSTM - Predicted vs Real Values')\n",
        "plt.legend()\n",
        "plt.show()"
      ]
    },
    {
      "cell_type": "code",
      "execution_count": null,
      "metadata": {
        "id": "D414paEBBqbP",
        "outputId": "2447ca17-d5df-4373-986f-53d0fa237182"
      },
      "outputs": [
        {
          "name": "stdout",
          "output_type": "stream",
          "text": [
            "            Predicted\n",
            "Date                 \n",
            "2019-01-02   0.469141\n",
            "2019-01-03   0.469366\n",
            "2019-01-04   0.469563\n",
            "2019-01-07   0.469670\n",
            "2019-01-08   0.469787\n"
          ]
        }
      ],
      "source": [
        "# Generating predictions on the test set\n",
        "model.eval()\n",
        "with torch.no_grad():\n",
        "    y_pred_lstm = model(x_test)\n",
        "\n",
        "# If data was scaled, apply inverse scaling to predictions (optional)\n",
        "# Uncomment if using a scaler, e.g., MinMaxScaler\n",
        "# y_pred_lstm = scaler.inverse_transform(y_pred_lstm.numpy())\n",
        "\n",
        "# Convert predictions to a DataFrame for easier handling\n",
        "y_pred_lstm = pd.DataFrame(y_pred_lstm.numpy(), columns=['Predicted'], index=test_data.index[:len(y_pred_lstm)])\n",
        "\n",
        "# Apply a moving average to smooth predictions (optional)\n",
        "y_pred_lstm['Predicted'] = y_pred_lstm['Predicted'].rolling(window=3, min_periods=1).mean()\n",
        "\n",
        "# Display the first few predictions\n",
        "print(y_pred_lstm.head())"
      ]
    },
    {
      "cell_type": "markdown",
      "metadata": {
        "id": "M-R9y0XRBqbQ"
      },
      "source": [
        "# **Hybrid Strategies**"
      ]
    },
    {
      "cell_type": "markdown",
      "metadata": {
        "id": "nbzatl0qBqbQ"
      },
      "source": [
        "## **Strategy 1**"
      ]
    },
    {
      "cell_type": "markdown",
      "metadata": {
        "id": "g553zuXsBqbQ"
      },
      "source": [
        "![image.png](attachment:image.png)"
      ]
    },
    {
      "cell_type": "markdown",
      "metadata": {
        "id": "xJpCTXmKBqbQ"
      },
      "source": [
        "### **hTEMA**"
      ]
    },
    {
      "cell_type": "code",
      "execution_count": null,
      "metadata": {
        "id": "gItKBK2xBqbR"
      },
      "outputs": [],
      "source": [
        "def htema_strategy(df, symbol, short_period, mid_period, long_period, y_pred):\n",
        "    \"\"\"\n",
        "    Implements a trading strategy based on Hull Triple Exponential Moving Average (HTEMA).\n",
        "\n",
        "    Args:\n",
        "        df (pandas.DataFrame): Input dataframe containing historical price data.\n",
        "        symbol (str): Name of the column in the dataframe that represents the price data.\n",
        "        short_period (int): Short period for calculating the ShortEMA.\n",
        "        mid_period (int): Mid period for calculating the MidEMA.\n",
        "        long_period (int): Long period for calculating the LongEMA.\n",
        "        y_pred (pandas.DataFrame): Dataframe containing predicted values.\n",
        "\n",
        "    Returns:\n",
        "        pandas.DataFrame: The updated dataframe with additional columns representing the strategy and performance metrics.\n",
        "    \"\"\"\n",
        "\n",
        "    df = df_change(df, symbol)\n",
        "    adjusted_split = len(df) - len(y_pred)  # Find the starting index to trim\n",
        "    df = df.iloc[adjusted_split:]  # Trim the dataframe to the last 'len(y_pred)' rows\n",
        "\n",
        "    temp = df.copy() # Make a copy of the dataframe\n",
        "\n",
        "    # Calculate EMAs for different periods\n",
        "    temp['ShortEMA'] = ema(df, short_period)\n",
        "    temp['MidEMA'] = ema(df, mid_period)\n",
        "    temp['LongEMA'] = ema(df, long_period)\n",
        "\n",
        "    # Add predicted prices and prediction positions to the dataframe\n",
        "    temp['PredictionPrice'] = y_pred['Predicted'].values\n",
        "    temp['PredictionPosition'] = np.where((temp['PredictionPrice'] < temp[symbol].shift(-1)), 1,\n",
        "                                          np.where(temp['PredictionPrice'] > temp[symbol].shift(-1), -1, 0))\n",
        "\n",
        "    # Determine strategy position based on EMAs\n",
        "    temp['StrategyPosition'] = np.where((temp['ShortEMA'] > temp['MidEMA']) & (temp['ShortEMA'] > temp['LongEMA']), 1,\n",
        "                                np.where((temp['ShortEMA'] < temp['MidEMA']) & (temp['ShortEMA'] < temp['LongEMA']), -1, 0))\n",
        "\n",
        "    # Determine overall position based on strategy position and prediction position\n",
        "    temp['Position'] = np.where((temp['StrategyPosition'] == 1) | (temp['PredictionPosition'] == 1), 1,\n",
        "                            np.where((temp['StrategyPosition'] == -1) & (temp['PredictionPosition'] == -1), -1, 0))\n",
        "\n",
        "    # Calculate log returns and strategy based on log returns\n",
        "    temp['LogReturns'] = np.log(temp[symbol]) - np.log(temp[symbol].shift(1))\n",
        "    temp['Strategy'] = temp.Position.shift(1) * temp['LogReturns']\n",
        "\n",
        "    # Calculate profit based on price\n",
        "    temp['PriceChange'] = temp[symbol] - temp[symbol].shift(1)\n",
        "    temp['PriceStrategy'] = temp.Position.shift(1) * temp['PriceChange']\n",
        "\n",
        "    # Calculate the number of trades and convert double trades to single trades\n",
        "    temp['Trades'] = temp.Position.diff().fillna(0).abs()\n",
        "    temp['Trades'] = temp['Trades'].replace(2, 1)\n",
        "\n",
        "    # Calculate cumulative log returns, cumulative strategy returns, cumulative price change, and cumulative price strategy\n",
        "    temp['CLogReturns'] = temp['LogReturns'].cumsum().apply(np.exp)\n",
        "    temp[\"CStrategy\"] = temp['Strategy'].cumsum().apply(np.exp)\n",
        "    temp['CPrice'] = -(df[symbol].iloc[0] - df[symbol])\n",
        "    temp['CPriceStrategy'] = temp['PriceStrategy'].cumsum()\n",
        "\n",
        "    return temp"
      ]
    },
    {
      "cell_type": "code",
      "execution_count": null,
      "metadata": {
        "id": "1VtcybUxBqbR",
        "outputId": "d6e1484b-2d4f-4d41-b1f9-ed2ff90cf0b7"
      },
      "outputs": [
        {
          "data": {
            "text/html": [
              "<div>\n",
              "<style scoped>\n",
              "    .dataframe tbody tr th:only-of-type {\n",
              "        vertical-align: middle;\n",
              "    }\n",
              "\n",
              "    .dataframe tbody tr th {\n",
              "        vertical-align: top;\n",
              "    }\n",
              "\n",
              "    .dataframe thead th {\n",
              "        text-align: right;\n",
              "    }\n",
              "</style>\n",
              "<table border=\"1\" class=\"dataframe\">\n",
              "  <thead>\n",
              "    <tr style=\"text-align: right;\">\n",
              "      <th></th>\n",
              "      <th>GDAXI</th>\n",
              "      <th>ShortEMA</th>\n",
              "      <th>MidEMA</th>\n",
              "      <th>LongEMA</th>\n",
              "      <th>PredictionPrice</th>\n",
              "      <th>PredictionPosition</th>\n",
              "      <th>StrategyPosition</th>\n",
              "      <th>Position</th>\n",
              "      <th>LogReturns</th>\n",
              "      <th>Strategy</th>\n",
              "      <th>PriceChange</th>\n",
              "      <th>PriceStrategy</th>\n",
              "      <th>Trades</th>\n",
              "      <th>CLogReturns</th>\n",
              "      <th>CStrategy</th>\n",
              "      <th>CPrice</th>\n",
              "      <th>CPriceStrategy</th>\n",
              "    </tr>\n",
              "    <tr>\n",
              "      <th>Date</th>\n",
              "      <th></th>\n",
              "      <th></th>\n",
              "      <th></th>\n",
              "      <th></th>\n",
              "      <th></th>\n",
              "      <th></th>\n",
              "      <th></th>\n",
              "      <th></th>\n",
              "      <th></th>\n",
              "      <th></th>\n",
              "      <th></th>\n",
              "      <th></th>\n",
              "      <th></th>\n",
              "      <th></th>\n",
              "      <th></th>\n",
              "      <th></th>\n",
              "      <th></th>\n",
              "    </tr>\n",
              "  </thead>\n",
              "  <tbody>\n",
              "    <tr>\n",
              "      <th>2019-01-10</th>\n",
              "      <td>10921.58984</td>\n",
              "      <td>NaN</td>\n",
              "      <td>NaN</td>\n",
              "      <td>NaN</td>\n",
              "      <td>0.469141</td>\n",
              "      <td>1</td>\n",
              "      <td>0</td>\n",
              "      <td>1</td>\n",
              "      <td>NaN</td>\n",
              "      <td>NaN</td>\n",
              "      <td>NaN</td>\n",
              "      <td>NaN</td>\n",
              "      <td>0.0</td>\n",
              "      <td>NaN</td>\n",
              "      <td>NaN</td>\n",
              "      <td>-0.00000</td>\n",
              "      <td>NaN</td>\n",
              "    </tr>\n",
              "    <tr>\n",
              "      <th>2019-01-11</th>\n",
              "      <td>10887.45996</td>\n",
              "      <td>NaN</td>\n",
              "      <td>NaN</td>\n",
              "      <td>NaN</td>\n",
              "      <td>0.469366</td>\n",
              "      <td>1</td>\n",
              "      <td>0</td>\n",
              "      <td>1</td>\n",
              "      <td>-0.003130</td>\n",
              "      <td>-0.003130</td>\n",
              "      <td>-34.12988</td>\n",
              "      <td>-34.12988</td>\n",
              "      <td>0.0</td>\n",
              "      <td>0.996875</td>\n",
              "      <td>0.996875</td>\n",
              "      <td>-34.12988</td>\n",
              "      <td>-34.12988</td>\n",
              "    </tr>\n",
              "    <tr>\n",
              "      <th>2019-01-14</th>\n",
              "      <td>10855.91016</td>\n",
              "      <td>NaN</td>\n",
              "      <td>NaN</td>\n",
              "      <td>NaN</td>\n",
              "      <td>0.469563</td>\n",
              "      <td>1</td>\n",
              "      <td>0</td>\n",
              "      <td>1</td>\n",
              "      <td>-0.002902</td>\n",
              "      <td>-0.002902</td>\n",
              "      <td>-31.54980</td>\n",
              "      <td>-31.54980</td>\n",
              "      <td>0.0</td>\n",
              "      <td>0.993986</td>\n",
              "      <td>0.993986</td>\n",
              "      <td>-65.67968</td>\n",
              "      <td>-65.67968</td>\n",
              "    </tr>\n",
              "    <tr>\n",
              "      <th>2019-01-15</th>\n",
              "      <td>10891.79004</td>\n",
              "      <td>NaN</td>\n",
              "      <td>NaN</td>\n",
              "      <td>NaN</td>\n",
              "      <td>0.469670</td>\n",
              "      <td>1</td>\n",
              "      <td>0</td>\n",
              "      <td>1</td>\n",
              "      <td>0.003300</td>\n",
              "      <td>0.003300</td>\n",
              "      <td>35.87988</td>\n",
              "      <td>35.87988</td>\n",
              "      <td>0.0</td>\n",
              "      <td>0.997271</td>\n",
              "      <td>0.997271</td>\n",
              "      <td>-29.79980</td>\n",
              "      <td>-29.79980</td>\n",
              "    </tr>\n",
              "    <tr>\n",
              "      <th>2019-01-16</th>\n",
              "      <td>10931.24023</td>\n",
              "      <td>NaN</td>\n",
              "      <td>NaN</td>\n",
              "      <td>NaN</td>\n",
              "      <td>0.469787</td>\n",
              "      <td>1</td>\n",
              "      <td>0</td>\n",
              "      <td>1</td>\n",
              "      <td>0.003615</td>\n",
              "      <td>0.003615</td>\n",
              "      <td>39.45019</td>\n",
              "      <td>39.45019</td>\n",
              "      <td>0.0</td>\n",
              "      <td>1.000884</td>\n",
              "      <td>1.000884</td>\n",
              "      <td>9.65039</td>\n",
              "      <td>9.65039</td>\n",
              "    </tr>\n",
              "    <tr>\n",
              "      <th>...</th>\n",
              "      <td>...</td>\n",
              "      <td>...</td>\n",
              "      <td>...</td>\n",
              "      <td>...</td>\n",
              "      <td>...</td>\n",
              "      <td>...</td>\n",
              "      <td>...</td>\n",
              "      <td>...</td>\n",
              "      <td>...</td>\n",
              "      <td>...</td>\n",
              "      <td>...</td>\n",
              "      <td>...</td>\n",
              "      <td>...</td>\n",
              "      <td>...</td>\n",
              "      <td>...</td>\n",
              "      <td>...</td>\n",
              "      <td>...</td>\n",
              "    </tr>\n",
              "    <tr>\n",
              "      <th>2019-12-19</th>\n",
              "      <td>13211.95996</td>\n",
              "      <td>13204.179782</td>\n",
              "      <td>13200.696619</td>\n",
              "      <td>13197.097299</td>\n",
              "      <td>0.513953</td>\n",
              "      <td>1</td>\n",
              "      <td>1</td>\n",
              "      <td>1</td>\n",
              "      <td>-0.000772</td>\n",
              "      <td>-0.000772</td>\n",
              "      <td>-10.20020</td>\n",
              "      <td>-10.20020</td>\n",
              "      <td>0.0</td>\n",
              "      <td>1.209710</td>\n",
              "      <td>1.209710</td>\n",
              "      <td>2290.37012</td>\n",
              "      <td>2290.37012</td>\n",
              "    </tr>\n",
              "    <tr>\n",
              "      <th>2019-12-20</th>\n",
              "      <td>13318.90039</td>\n",
              "      <td>13218.519858</td>\n",
              "      <td>13214.602945</td>\n",
              "      <td>13210.630976</td>\n",
              "      <td>0.513364</td>\n",
              "      <td>1</td>\n",
              "      <td>1</td>\n",
              "      <td>1</td>\n",
              "      <td>0.008062</td>\n",
              "      <td>0.008062</td>\n",
              "      <td>106.94043</td>\n",
              "      <td>106.94043</td>\n",
              "      <td>0.0</td>\n",
              "      <td>1.219502</td>\n",
              "      <td>1.219502</td>\n",
              "      <td>2397.31055</td>\n",
              "      <td>2397.31055</td>\n",
              "    </tr>\n",
              "    <tr>\n",
              "      <th>2019-12-23</th>\n",
              "      <td>13300.98047</td>\n",
              "      <td>13228.827434</td>\n",
              "      <td>13224.765007</td>\n",
              "      <td>13220.669808</td>\n",
              "      <td>0.512771</td>\n",
              "      <td>1</td>\n",
              "      <td>1</td>\n",
              "      <td>1</td>\n",
              "      <td>-0.001346</td>\n",
              "      <td>-0.001346</td>\n",
              "      <td>-17.91992</td>\n",
              "      <td>-17.91992</td>\n",
              "      <td>0.0</td>\n",
              "      <td>1.217861</td>\n",
              "      <td>1.217861</td>\n",
              "      <td>2379.39063</td>\n",
              "      <td>2379.39063</td>\n",
              "    </tr>\n",
              "    <tr>\n",
              "      <th>2019-12-27</th>\n",
              "      <td>13337.11035</td>\n",
              "      <td>13242.362799</td>\n",
              "      <td>13237.982106</td>\n",
              "      <td>13233.607646</td>\n",
              "      <td>0.512715</td>\n",
              "      <td>1</td>\n",
              "      <td>1</td>\n",
              "      <td>1</td>\n",
              "      <td>0.002713</td>\n",
              "      <td>0.002713</td>\n",
              "      <td>36.12988</td>\n",
              "      <td>36.12988</td>\n",
              "      <td>0.0</td>\n",
              "      <td>1.221169</td>\n",
              "      <td>1.221169</td>\n",
              "      <td>2415.52051</td>\n",
              "      <td>2415.52051</td>\n",
              "    </tr>\n",
              "    <tr>\n",
              "      <th>2019-12-30</th>\n",
              "      <td>13249.00977</td>\n",
              "      <td>13243.193670</td>\n",
              "      <td>13239.279478</td>\n",
              "      <td>13235.318993</td>\n",
              "      <td>0.513197</td>\n",
              "      <td>0</td>\n",
              "      <td>1</td>\n",
              "      <td>1</td>\n",
              "      <td>-0.006628</td>\n",
              "      <td>-0.006628</td>\n",
              "      <td>-88.10058</td>\n",
              "      <td>-88.10058</td>\n",
              "      <td>0.0</td>\n",
              "      <td>1.213103</td>\n",
              "      <td>1.213103</td>\n",
              "      <td>2327.41993</td>\n",
              "      <td>2327.41993</td>\n",
              "    </tr>\n",
              "  </tbody>\n",
              "</table>\n",
              "<p>245 rows × 17 columns</p>\n",
              "</div>"
            ],
            "text/plain": [
              "                  GDAXI      ShortEMA        MidEMA       LongEMA  \\\n",
              "Date                                                                \n",
              "2019-01-10  10921.58984           NaN           NaN           NaN   \n",
              "2019-01-11  10887.45996           NaN           NaN           NaN   \n",
              "2019-01-14  10855.91016           NaN           NaN           NaN   \n",
              "2019-01-15  10891.79004           NaN           NaN           NaN   \n",
              "2019-01-16  10931.24023           NaN           NaN           NaN   \n",
              "...                 ...           ...           ...           ...   \n",
              "2019-12-19  13211.95996  13204.179782  13200.696619  13197.097299   \n",
              "2019-12-20  13318.90039  13218.519858  13214.602945  13210.630976   \n",
              "2019-12-23  13300.98047  13228.827434  13224.765007  13220.669808   \n",
              "2019-12-27  13337.11035  13242.362799  13237.982106  13233.607646   \n",
              "2019-12-30  13249.00977  13243.193670  13239.279478  13235.318993   \n",
              "\n",
              "            PredictionPrice  PredictionPosition  StrategyPosition  Position  \\\n",
              "Date                                                                          \n",
              "2019-01-10         0.469141                   1                 0         1   \n",
              "2019-01-11         0.469366                   1                 0         1   \n",
              "2019-01-14         0.469563                   1                 0         1   \n",
              "2019-01-15         0.469670                   1                 0         1   \n",
              "2019-01-16         0.469787                   1                 0         1   \n",
              "...                     ...                 ...               ...       ...   \n",
              "2019-12-19         0.513953                   1                 1         1   \n",
              "2019-12-20         0.513364                   1                 1         1   \n",
              "2019-12-23         0.512771                   1                 1         1   \n",
              "2019-12-27         0.512715                   1                 1         1   \n",
              "2019-12-30         0.513197                   0                 1         1   \n",
              "\n",
              "            LogReturns  Strategy  PriceChange  PriceStrategy  Trades  \\\n",
              "Date                                                                   \n",
              "2019-01-10         NaN       NaN          NaN            NaN     0.0   \n",
              "2019-01-11   -0.003130 -0.003130    -34.12988      -34.12988     0.0   \n",
              "2019-01-14   -0.002902 -0.002902    -31.54980      -31.54980     0.0   \n",
              "2019-01-15    0.003300  0.003300     35.87988       35.87988     0.0   \n",
              "2019-01-16    0.003615  0.003615     39.45019       39.45019     0.0   \n",
              "...                ...       ...          ...            ...     ...   \n",
              "2019-12-19   -0.000772 -0.000772    -10.20020      -10.20020     0.0   \n",
              "2019-12-20    0.008062  0.008062    106.94043      106.94043     0.0   \n",
              "2019-12-23   -0.001346 -0.001346    -17.91992      -17.91992     0.0   \n",
              "2019-12-27    0.002713  0.002713     36.12988       36.12988     0.0   \n",
              "2019-12-30   -0.006628 -0.006628    -88.10058      -88.10058     0.0   \n",
              "\n",
              "            CLogReturns  CStrategy      CPrice  CPriceStrategy  \n",
              "Date                                                            \n",
              "2019-01-10          NaN        NaN    -0.00000             NaN  \n",
              "2019-01-11     0.996875   0.996875   -34.12988       -34.12988  \n",
              "2019-01-14     0.993986   0.993986   -65.67968       -65.67968  \n",
              "2019-01-15     0.997271   0.997271   -29.79980       -29.79980  \n",
              "2019-01-16     1.000884   1.000884     9.65039         9.65039  \n",
              "...                 ...        ...         ...             ...  \n",
              "2019-12-19     1.209710   1.209710  2290.37012      2290.37012  \n",
              "2019-12-20     1.219502   1.219502  2397.31055      2397.31055  \n",
              "2019-12-23     1.217861   1.217861  2379.39063      2379.39063  \n",
              "2019-12-27     1.221169   1.221169  2415.52051      2415.52051  \n",
              "2019-12-30     1.213103   1.213103  2327.41993      2327.41993  \n",
              "\n",
              "[245 rows x 17 columns]"
            ]
          },
          "execution_count": 64,
          "metadata": {},
          "output_type": "execute_result"
        }
      ],
      "source": [
        "htema_strategy(test_data, index_name, best_tema_params[0], best_tema_params[1], best_tema_params[2], y_pred_lstm)\n"
      ]
    },
    {
      "cell_type": "code",
      "execution_count": null,
      "metadata": {
        "id": "fcyJmtWrBqbR",
        "outputId": "1913e204-d1ad-408d-9a43-d6d7c267069a"
      },
      "outputs": [
        {
          "name": "stderr",
          "output_type": "stream",
          "text": [
            "/var/folders/td/dz_wwxjj7sq2s6rq_ydp1t3h0000gn/T/ipykernel_2071/4127296777.py:12: RuntimeWarning: divide by zero encountered in scalar divide\n",
            "  avg_net_trade = net_profit / num_trades\n"
          ]
        },
        {
          "data": {
            "text/html": [
              "<div>\n",
              "<style scoped>\n",
              "    .dataframe tbody tr th:only-of-type {\n",
              "        vertical-align: middle;\n",
              "    }\n",
              "\n",
              "    .dataframe tbody tr th {\n",
              "        vertical-align: top;\n",
              "    }\n",
              "\n",
              "    .dataframe thead th {\n",
              "        text-align: right;\n",
              "    }\n",
              "</style>\n",
              "<table border=\"1\" class=\"dataframe\">\n",
              "  <thead>\n",
              "    <tr style=\"text-align: right;\">\n",
              "      <th></th>\n",
              "      <th>Number of Trades</th>\n",
              "      <th>Net Profit</th>\n",
              "      <th>Profit Factor</th>\n",
              "      <th>Average Net per Trade</th>\n",
              "      <th>Maximum Drawdown</th>\n",
              "    </tr>\n",
              "  </thead>\n",
              "  <tbody>\n",
              "    <tr>\n",
              "      <th>Strategy</th>\n",
              "      <td>0.0</td>\n",
              "      <td>2327.41993</td>\n",
              "      <td>1.278632</td>\n",
              "      <td>inf</td>\n",
              "      <td>-1217.23047</td>\n",
              "    </tr>\n",
              "  </tbody>\n",
              "</table>\n",
              "</div>"
            ],
            "text/plain": [
              "          Number of Trades  Net Profit  Profit Factor  Average Net per Trade  \\\n",
              "Strategy               0.0  2327.41993       1.278632                    inf   \n",
              "\n",
              "          Maximum Drawdown  \n",
              "Strategy       -1217.23047  "
            ]
          },
          "execution_count": 66,
          "metadata": {},
          "output_type": "execute_result"
        }
      ],
      "source": [
        "calculate_metrics(htema_strategy(test_data, index_name, best_tema_params[0], best_tema_params[1], best_tema_params[2], y_pred_lstm))"
      ]
    },
    {
      "cell_type": "code",
      "execution_count": null,
      "metadata": {
        "id": "ehfWOL14BqbS",
        "outputId": "8465a128-9264-4d95-fcec-ff123a09ceec"
      },
      "outputs": [
        {
          "data": {
            "text/html": [
              "<div>\n",
              "<style scoped>\n",
              "    .dataframe tbody tr th:only-of-type {\n",
              "        vertical-align: middle;\n",
              "    }\n",
              "\n",
              "    .dataframe tbody tr th {\n",
              "        vertical-align: top;\n",
              "    }\n",
              "\n",
              "    .dataframe thead th {\n",
              "        text-align: right;\n",
              "    }\n",
              "</style>\n",
              "<table border=\"1\" class=\"dataframe\">\n",
              "  <thead>\n",
              "    <tr style=\"text-align: right;\">\n",
              "      <th></th>\n",
              "      <th>Number of Trades</th>\n",
              "      <th>Net Profit</th>\n",
              "      <th>Profit Factor</th>\n",
              "      <th>Average Net per Trade</th>\n",
              "      <th>Maximum Drawdown</th>\n",
              "    </tr>\n",
              "  </thead>\n",
              "  <tbody>\n",
              "    <tr>\n",
              "      <th>Strategy</th>\n",
              "      <td>1.0</td>\n",
              "      <td>-2722.37988</td>\n",
              "      <td>0.781694</td>\n",
              "      <td>-2722.37988</td>\n",
              "      <td>-3178.08984</td>\n",
              "    </tr>\n",
              "  </tbody>\n",
              "</table>\n",
              "</div>"
            ],
            "text/plain": [
              "          Number of Trades  Net Profit  Profit Factor  Average Net per Trade  \\\n",
              "Strategy               1.0 -2722.37988       0.781694            -2722.37988   \n",
              "\n",
              "          Maximum Drawdown  \n",
              "Strategy       -3178.08984  "
            ]
          },
          "execution_count": 136,
          "metadata": {},
          "output_type": "execute_result"
        }
      ],
      "source": [
        "calculate_metrics(htema_strategy(validation_data, index_name, best_tema_params[0], best_tema_params[1], best_tema_params[2], y_pred_lstm))"
      ]
    },
    {
      "cell_type": "markdown",
      "metadata": {
        "id": "2f39ff_kBqbT"
      },
      "source": [
        "### **hMACD**"
      ]
    },
    {
      "cell_type": "code",
      "execution_count": null,
      "metadata": {
        "id": "eZ9MsyRGBqbT"
      },
      "outputs": [],
      "source": [
        "def hmacd_strategy(df, symbol, short_period, long_period, signal_period, y_pred):\n",
        "    \"\"\"\n",
        "    Implements a trading strategy based on the Moving Average Convergence Divergence (MACD) indicator.\n",
        "\n",
        "    Args:\n",
        "        df (pandas.DataFrame): Input dataframe containing historical price data.\n",
        "        symbol (str): Name of the column in the dataframe that represents the price data.\n",
        "        short_period (int): Short period for calculating the short exponential moving average (ShortEMA).\n",
        "        long_period (int): Long period for calculating the long exponential moving average (LongEMA).\n",
        "        signal_period (int): Signal period for calculating the signal line.\n",
        "        y_pred (pandas.DataFrame): Dataframe containing predicted values.\n",
        "\n",
        "    Returns:\n",
        "        pandas.DataFrame: The updated dataframe with additional columns representing the strategy and performance metrics.\n",
        "    \"\"\"\n",
        "\n",
        "    df = df_change(df, symbol)\n",
        "    adjusted_split = len(df) - len(y_pred)  # Find the starting index to trim\n",
        "    df = df.iloc[adjusted_split:]  # Trim the dataframe to the last 'len(y_pred)' rows\n",
        "    temp = df.copy() # Make a copy of the dataframe\n",
        "\n",
        "    # Calculate MACD line using short and long EMAs\n",
        "    temp['ShortEMA'] = ema(df, short_period)\n",
        "    temp['LongEMA'] = ema(df, long_period)\n",
        "    temp['MACD Line'] = temp['ShortEMA'] - temp['LongEMA']\n",
        "\n",
        "    # Calculate signal line\n",
        "    temp['Signal Line'] = ema(temp, signal_period)['MACD Line']\n",
        "\n",
        "    # Add predicted prices and prediction positions to the dataframe\n",
        "    temp['PredictionPrice'] = y_pred['Predicted'].values\n",
        "    temp['PredictionPosition'] = np.where((temp['PredictionPrice'] < temp[symbol].shift(-1)), 1,\n",
        "                                          np.where(temp['PredictionPrice'] > temp[symbol].shift(-1), -1, 0))\n",
        "\n",
        "    # Determine strategy position based on MACD line and signal line\n",
        "    temp['StrategyPosition'] = np.where(temp['MACD Line'] > temp['Signal Line'], 1,\n",
        "                                np.where(temp['MACD Line'] < temp['Signal Line'], -1, 0))\n",
        "\n",
        "    # Generate trading signals based on strategy position and prediction position\n",
        "    temp['Position'] = np.where((temp['StrategyPosition'] == 1) | (temp['PredictionPosition'] == 1), 1,\n",
        "                            np.where((temp['StrategyPosition'] == -1) & (temp['PredictionPosition'] == -1), -1, 0))\n",
        "\n",
        "    # Calculate log returns and strategy returns\n",
        "    temp['LogReturns'] = np.log(temp[symbol]) - np.log(temp[symbol]).shift(1)\n",
        "    temp['Strategy'] = temp['Position'].shift(1) * temp['LogReturns']\n",
        "\n",
        "    # Calculate profit based on price\n",
        "    temp['PriceChange'] = temp[symbol] - temp[symbol].shift(1)\n",
        "    temp['PriceStrategy'] = temp.Position.shift(1) * temp['PriceChange']\n",
        "\n",
        "    # Calculate the number of trades and convert double trades to single trades\n",
        "    temp['Trades'] = temp.Position.diff().fillna(0).abs()\n",
        "    temp['Trades'] = temp['Trades'].replace(2, 1)\n",
        "\n",
        "    # Calculate cumulative log returns, cumulative strategy returns, cumulative price change, and cumulative price strategy\n",
        "    temp['CLogReturns'] = temp['LogReturns'].cumsum().apply(np.exp)\n",
        "    temp[\"CStrategy\"] = temp['Strategy'].cumsum().apply(np.exp)\n",
        "    temp['CPrice'] = -(df[symbol].iloc[0] - df[symbol])\n",
        "    temp['CPriceStrategy'] = temp['PriceStrategy'].cumsum()\n",
        "\n",
        "    return temp"
      ]
    },
    {
      "cell_type": "code",
      "execution_count": null,
      "metadata": {
        "id": "RVNTzwqLBqbU",
        "outputId": "1044df01-8a66-4d95-819f-8e8c0500112c"
      },
      "outputs": [
        {
          "data": {
            "text/html": [
              "<div>\n",
              "<style scoped>\n",
              "    .dataframe tbody tr th:only-of-type {\n",
              "        vertical-align: middle;\n",
              "    }\n",
              "\n",
              "    .dataframe tbody tr th {\n",
              "        vertical-align: top;\n",
              "    }\n",
              "\n",
              "    .dataframe thead th {\n",
              "        text-align: right;\n",
              "    }\n",
              "</style>\n",
              "<table border=\"1\" class=\"dataframe\">\n",
              "  <thead>\n",
              "    <tr style=\"text-align: right;\">\n",
              "      <th></th>\n",
              "      <th>GDAXI</th>\n",
              "      <th>ShortEMA</th>\n",
              "      <th>LongEMA</th>\n",
              "      <th>MACD Line</th>\n",
              "      <th>Signal Line</th>\n",
              "      <th>PredictionPrice</th>\n",
              "      <th>PredictionPosition</th>\n",
              "      <th>StrategyPosition</th>\n",
              "      <th>Position</th>\n",
              "      <th>LogReturns</th>\n",
              "      <th>Strategy</th>\n",
              "      <th>PriceChange</th>\n",
              "      <th>PriceStrategy</th>\n",
              "      <th>Trades</th>\n",
              "      <th>CLogReturns</th>\n",
              "      <th>CStrategy</th>\n",
              "      <th>CPrice</th>\n",
              "      <th>CPriceStrategy</th>\n",
              "    </tr>\n",
              "    <tr>\n",
              "      <th>Date</th>\n",
              "      <th></th>\n",
              "      <th></th>\n",
              "      <th></th>\n",
              "      <th></th>\n",
              "      <th></th>\n",
              "      <th></th>\n",
              "      <th></th>\n",
              "      <th></th>\n",
              "      <th></th>\n",
              "      <th></th>\n",
              "      <th></th>\n",
              "      <th></th>\n",
              "      <th></th>\n",
              "      <th></th>\n",
              "      <th></th>\n",
              "      <th></th>\n",
              "      <th></th>\n",
              "      <th></th>\n",
              "    </tr>\n",
              "  </thead>\n",
              "  <tbody>\n",
              "    <tr>\n",
              "      <th>2019-01-10</th>\n",
              "      <td>10921.58984</td>\n",
              "      <td>NaN</td>\n",
              "      <td>NaN</td>\n",
              "      <td>NaN</td>\n",
              "      <td>NaN</td>\n",
              "      <td>0.469141</td>\n",
              "      <td>1</td>\n",
              "      <td>0</td>\n",
              "      <td>1</td>\n",
              "      <td>NaN</td>\n",
              "      <td>NaN</td>\n",
              "      <td>NaN</td>\n",
              "      <td>NaN</td>\n",
              "      <td>0.0</td>\n",
              "      <td>NaN</td>\n",
              "      <td>NaN</td>\n",
              "      <td>-0.00000</td>\n",
              "      <td>NaN</td>\n",
              "    </tr>\n",
              "    <tr>\n",
              "      <th>2019-01-11</th>\n",
              "      <td>10887.45996</td>\n",
              "      <td>NaN</td>\n",
              "      <td>NaN</td>\n",
              "      <td>NaN</td>\n",
              "      <td>NaN</td>\n",
              "      <td>0.469366</td>\n",
              "      <td>1</td>\n",
              "      <td>0</td>\n",
              "      <td>1</td>\n",
              "      <td>-0.003130</td>\n",
              "      <td>-0.003130</td>\n",
              "      <td>-34.12988</td>\n",
              "      <td>-34.12988</td>\n",
              "      <td>0.0</td>\n",
              "      <td>0.996875</td>\n",
              "      <td>0.996875</td>\n",
              "      <td>-34.12988</td>\n",
              "      <td>-34.12988</td>\n",
              "    </tr>\n",
              "    <tr>\n",
              "      <th>2019-01-14</th>\n",
              "      <td>10855.91016</td>\n",
              "      <td>NaN</td>\n",
              "      <td>NaN</td>\n",
              "      <td>NaN</td>\n",
              "      <td>NaN</td>\n",
              "      <td>0.469563</td>\n",
              "      <td>1</td>\n",
              "      <td>0</td>\n",
              "      <td>1</td>\n",
              "      <td>-0.002902</td>\n",
              "      <td>-0.002902</td>\n",
              "      <td>-31.54980</td>\n",
              "      <td>-31.54980</td>\n",
              "      <td>0.0</td>\n",
              "      <td>0.993986</td>\n",
              "      <td>0.993986</td>\n",
              "      <td>-65.67968</td>\n",
              "      <td>-65.67968</td>\n",
              "    </tr>\n",
              "    <tr>\n",
              "      <th>2019-01-15</th>\n",
              "      <td>10891.79004</td>\n",
              "      <td>10884.138386</td>\n",
              "      <td>NaN</td>\n",
              "      <td>NaN</td>\n",
              "      <td>NaN</td>\n",
              "      <td>0.469670</td>\n",
              "      <td>1</td>\n",
              "      <td>0</td>\n",
              "      <td>1</td>\n",
              "      <td>0.003300</td>\n",
              "      <td>0.003300</td>\n",
              "      <td>35.87988</td>\n",
              "      <td>35.87988</td>\n",
              "      <td>0.0</td>\n",
              "      <td>0.997271</td>\n",
              "      <td>0.997271</td>\n",
              "      <td>-29.79980</td>\n",
              "      <td>-29.79980</td>\n",
              "    </tr>\n",
              "    <tr>\n",
              "      <th>2019-01-16</th>\n",
              "      <td>10931.24023</td>\n",
              "      <td>10904.567707</td>\n",
              "      <td>10902.579920</td>\n",
              "      <td>1.987788</td>\n",
              "      <td>NaN</td>\n",
              "      <td>0.469787</td>\n",
              "      <td>1</td>\n",
              "      <td>0</td>\n",
              "      <td>1</td>\n",
              "      <td>0.003615</td>\n",
              "      <td>0.003615</td>\n",
              "      <td>39.45019</td>\n",
              "      <td>39.45019</td>\n",
              "      <td>0.0</td>\n",
              "      <td>1.000884</td>\n",
              "      <td>1.000884</td>\n",
              "      <td>9.65039</td>\n",
              "      <td>9.65039</td>\n",
              "    </tr>\n",
              "    <tr>\n",
              "      <th>...</th>\n",
              "      <td>...</td>\n",
              "      <td>...</td>\n",
              "      <td>...</td>\n",
              "      <td>...</td>\n",
              "      <td>...</td>\n",
              "      <td>...</td>\n",
              "      <td>...</td>\n",
              "      <td>...</td>\n",
              "      <td>...</td>\n",
              "      <td>...</td>\n",
              "      <td>...</td>\n",
              "      <td>...</td>\n",
              "      <td>...</td>\n",
              "      <td>...</td>\n",
              "      <td>...</td>\n",
              "      <td>...</td>\n",
              "      <td>...</td>\n",
              "      <td>...</td>\n",
              "    </tr>\n",
              "    <tr>\n",
              "      <th>2019-12-19</th>\n",
              "      <td>13211.95996</td>\n",
              "      <td>13241.731030</td>\n",
              "      <td>13241.349243</td>\n",
              "      <td>0.381787</td>\n",
              "      <td>6.787242</td>\n",
              "      <td>0.513953</td>\n",
              "      <td>1</td>\n",
              "      <td>-1</td>\n",
              "      <td>1</td>\n",
              "      <td>-0.000772</td>\n",
              "      <td>-0.000772</td>\n",
              "      <td>-10.20020</td>\n",
              "      <td>-10.20020</td>\n",
              "      <td>0.0</td>\n",
              "      <td>1.209710</td>\n",
              "      <td>1.209710</td>\n",
              "      <td>2290.37012</td>\n",
              "      <td>2290.37012</td>\n",
              "    </tr>\n",
              "    <tr>\n",
              "      <th>2019-12-20</th>\n",
              "      <td>13318.90039</td>\n",
              "      <td>13272.598774</td>\n",
              "      <td>13267.199625</td>\n",
              "      <td>5.399149</td>\n",
              "      <td>6.324544</td>\n",
              "      <td>0.513364</td>\n",
              "      <td>1</td>\n",
              "      <td>-1</td>\n",
              "      <td>1</td>\n",
              "      <td>0.008062</td>\n",
              "      <td>0.008062</td>\n",
              "      <td>106.94043</td>\n",
              "      <td>106.94043</td>\n",
              "      <td>0.0</td>\n",
              "      <td>1.219502</td>\n",
              "      <td>1.219502</td>\n",
              "      <td>2397.31055</td>\n",
              "      <td>2397.31055</td>\n",
              "    </tr>\n",
              "    <tr>\n",
              "      <th>2019-12-23</th>\n",
              "      <td>13300.98047</td>\n",
              "      <td>13283.951452</td>\n",
              "      <td>13278.459907</td>\n",
              "      <td>5.491546</td>\n",
              "      <td>6.046878</td>\n",
              "      <td>0.512771</td>\n",
              "      <td>1</td>\n",
              "      <td>-1</td>\n",
              "      <td>1</td>\n",
              "      <td>-0.001346</td>\n",
              "      <td>-0.001346</td>\n",
              "      <td>-17.91992</td>\n",
              "      <td>-17.91992</td>\n",
              "      <td>0.0</td>\n",
              "      <td>1.217861</td>\n",
              "      <td>1.217861</td>\n",
              "      <td>2379.39063</td>\n",
              "      <td>2379.39063</td>\n",
              "    </tr>\n",
              "    <tr>\n",
              "      <th>2019-12-27</th>\n",
              "      <td>13337.11035</td>\n",
              "      <td>13305.215011</td>\n",
              "      <td>13298.010054</td>\n",
              "      <td>7.204957</td>\n",
              "      <td>6.432904</td>\n",
              "      <td>0.512715</td>\n",
              "      <td>1</td>\n",
              "      <td>1</td>\n",
              "      <td>1</td>\n",
              "      <td>0.002713</td>\n",
              "      <td>0.002713</td>\n",
              "      <td>36.12988</td>\n",
              "      <td>36.12988</td>\n",
              "      <td>0.0</td>\n",
              "      <td>1.221169</td>\n",
              "      <td>1.221169</td>\n",
              "      <td>2415.52051</td>\n",
              "      <td>2415.52051</td>\n",
              "    </tr>\n",
              "    <tr>\n",
              "      <th>2019-12-30</th>\n",
              "      <td>13249.00977</td>\n",
              "      <td>13282.732915</td>\n",
              "      <td>13281.676626</td>\n",
              "      <td>1.056288</td>\n",
              "      <td>4.640699</td>\n",
              "      <td>0.513197</td>\n",
              "      <td>0</td>\n",
              "      <td>-1</td>\n",
              "      <td>0</td>\n",
              "      <td>-0.006628</td>\n",
              "      <td>-0.006628</td>\n",
              "      <td>-88.10058</td>\n",
              "      <td>-88.10058</td>\n",
              "      <td>1.0</td>\n",
              "      <td>1.213103</td>\n",
              "      <td>1.213103</td>\n",
              "      <td>2327.41993</td>\n",
              "      <td>2327.41993</td>\n",
              "    </tr>\n",
              "  </tbody>\n",
              "</table>\n",
              "<p>245 rows × 18 columns</p>\n",
              "</div>"
            ],
            "text/plain": [
              "                  GDAXI      ShortEMA       LongEMA  MACD Line  Signal Line  \\\n",
              "Date                                                                          \n",
              "2019-01-10  10921.58984           NaN           NaN        NaN          NaN   \n",
              "2019-01-11  10887.45996           NaN           NaN        NaN          NaN   \n",
              "2019-01-14  10855.91016           NaN           NaN        NaN          NaN   \n",
              "2019-01-15  10891.79004  10884.138386           NaN        NaN          NaN   \n",
              "2019-01-16  10931.24023  10904.567707  10902.579920   1.987788          NaN   \n",
              "...                 ...           ...           ...        ...          ...   \n",
              "2019-12-19  13211.95996  13241.731030  13241.349243   0.381787     6.787242   \n",
              "2019-12-20  13318.90039  13272.598774  13267.199625   5.399149     6.324544   \n",
              "2019-12-23  13300.98047  13283.951452  13278.459907   5.491546     6.046878   \n",
              "2019-12-27  13337.11035  13305.215011  13298.010054   7.204957     6.432904   \n",
              "2019-12-30  13249.00977  13282.732915  13281.676626   1.056288     4.640699   \n",
              "\n",
              "            PredictionPrice  PredictionPosition  StrategyPosition  Position  \\\n",
              "Date                                                                          \n",
              "2019-01-10         0.469141                   1                 0         1   \n",
              "2019-01-11         0.469366                   1                 0         1   \n",
              "2019-01-14         0.469563                   1                 0         1   \n",
              "2019-01-15         0.469670                   1                 0         1   \n",
              "2019-01-16         0.469787                   1                 0         1   \n",
              "...                     ...                 ...               ...       ...   \n",
              "2019-12-19         0.513953                   1                -1         1   \n",
              "2019-12-20         0.513364                   1                -1         1   \n",
              "2019-12-23         0.512771                   1                -1         1   \n",
              "2019-12-27         0.512715                   1                 1         1   \n",
              "2019-12-30         0.513197                   0                -1         0   \n",
              "\n",
              "            LogReturns  Strategy  PriceChange  PriceStrategy  Trades  \\\n",
              "Date                                                                   \n",
              "2019-01-10         NaN       NaN          NaN            NaN     0.0   \n",
              "2019-01-11   -0.003130 -0.003130    -34.12988      -34.12988     0.0   \n",
              "2019-01-14   -0.002902 -0.002902    -31.54980      -31.54980     0.0   \n",
              "2019-01-15    0.003300  0.003300     35.87988       35.87988     0.0   \n",
              "2019-01-16    0.003615  0.003615     39.45019       39.45019     0.0   \n",
              "...                ...       ...          ...            ...     ...   \n",
              "2019-12-19   -0.000772 -0.000772    -10.20020      -10.20020     0.0   \n",
              "2019-12-20    0.008062  0.008062    106.94043      106.94043     0.0   \n",
              "2019-12-23   -0.001346 -0.001346    -17.91992      -17.91992     0.0   \n",
              "2019-12-27    0.002713  0.002713     36.12988       36.12988     0.0   \n",
              "2019-12-30   -0.006628 -0.006628    -88.10058      -88.10058     1.0   \n",
              "\n",
              "            CLogReturns  CStrategy      CPrice  CPriceStrategy  \n",
              "Date                                                            \n",
              "2019-01-10          NaN        NaN    -0.00000             NaN  \n",
              "2019-01-11     0.996875   0.996875   -34.12988       -34.12988  \n",
              "2019-01-14     0.993986   0.993986   -65.67968       -65.67968  \n",
              "2019-01-15     0.997271   0.997271   -29.79980       -29.79980  \n",
              "2019-01-16     1.000884   1.000884     9.65039         9.65039  \n",
              "...                 ...        ...         ...             ...  \n",
              "2019-12-19     1.209710   1.209710  2290.37012      2290.37012  \n",
              "2019-12-20     1.219502   1.219502  2397.31055      2397.31055  \n",
              "2019-12-23     1.217861   1.217861  2379.39063      2379.39063  \n",
              "2019-12-27     1.221169   1.221169  2415.52051      2415.52051  \n",
              "2019-12-30     1.213103   1.213103  2327.41993      2327.41993  \n",
              "\n",
              "[245 rows x 18 columns]"
            ]
          },
          "execution_count": 68,
          "metadata": {},
          "output_type": "execute_result"
        }
      ],
      "source": [
        "hmacd_strategy(test_data, index_name, best_macd_params[0], best_macd_params[1], best_macd_params[2], y_pred_lstm)"
      ]
    },
    {
      "cell_type": "code",
      "execution_count": null,
      "metadata": {
        "id": "_NWxg8_iBqbU",
        "outputId": "207f2e72-ca9f-446c-abfe-40ab5fe16bad"
      },
      "outputs": [
        {
          "data": {
            "text/html": [
              "<div>\n",
              "<style scoped>\n",
              "    .dataframe tbody tr th:only-of-type {\n",
              "        vertical-align: middle;\n",
              "    }\n",
              "\n",
              "    .dataframe tbody tr th {\n",
              "        vertical-align: top;\n",
              "    }\n",
              "\n",
              "    .dataframe thead th {\n",
              "        text-align: right;\n",
              "    }\n",
              "</style>\n",
              "<table border=\"1\" class=\"dataframe\">\n",
              "  <thead>\n",
              "    <tr style=\"text-align: right;\">\n",
              "      <th></th>\n",
              "      <th>Number of Trades</th>\n",
              "      <th>Net Profit</th>\n",
              "      <th>Profit Factor</th>\n",
              "      <th>Average Net per Trade</th>\n",
              "      <th>Maximum Drawdown</th>\n",
              "    </tr>\n",
              "  </thead>\n",
              "  <tbody>\n",
              "    <tr>\n",
              "      <th>Strategy</th>\n",
              "      <td>1.0</td>\n",
              "      <td>2327.41993</td>\n",
              "      <td>1.278632</td>\n",
              "      <td>2327.41993</td>\n",
              "      <td>-1217.23047</td>\n",
              "    </tr>\n",
              "  </tbody>\n",
              "</table>\n",
              "</div>"
            ],
            "text/plain": [
              "          Number of Trades  Net Profit  Profit Factor  Average Net per Trade  \\\n",
              "Strategy               1.0  2327.41993       1.278632             2327.41993   \n",
              "\n",
              "          Maximum Drawdown  \n",
              "Strategy       -1217.23047  "
            ]
          },
          "execution_count": 70,
          "metadata": {},
          "output_type": "execute_result"
        }
      ],
      "source": [
        "calculate_metrics(hmacd_strategy(test_data, index_name, best_macd_params[0], best_macd_params[1], best_macd_params[2], y_pred_lstm))"
      ]
    },
    {
      "cell_type": "code",
      "execution_count": null,
      "metadata": {
        "id": "TvVbLIjdBqbU",
        "outputId": "d507c8c1-321a-424a-8c61-76a5168a29e6"
      },
      "outputs": [
        {
          "data": {
            "text/html": [
              "<div>\n",
              "<style scoped>\n",
              "    .dataframe tbody tr th:only-of-type {\n",
              "        vertical-align: middle;\n",
              "    }\n",
              "\n",
              "    .dataframe tbody tr th {\n",
              "        vertical-align: top;\n",
              "    }\n",
              "\n",
              "    .dataframe thead th {\n",
              "        text-align: right;\n",
              "    }\n",
              "</style>\n",
              "<table border=\"1\" class=\"dataframe\">\n",
              "  <thead>\n",
              "    <tr style=\"text-align: right;\">\n",
              "      <th></th>\n",
              "      <th>Number of Trades</th>\n",
              "      <th>Net Profit</th>\n",
              "      <th>Profit Factor</th>\n",
              "      <th>Average Net per Trade</th>\n",
              "      <th>Maximum Drawdown</th>\n",
              "    </tr>\n",
              "  </thead>\n",
              "  <tbody>\n",
              "    <tr>\n",
              "      <th>Strategy</th>\n",
              "      <td>1.0</td>\n",
              "      <td>-2722.37988</td>\n",
              "      <td>0.781694</td>\n",
              "      <td>-2722.37988</td>\n",
              "      <td>-3178.08984</td>\n",
              "    </tr>\n",
              "  </tbody>\n",
              "</table>\n",
              "</div>"
            ],
            "text/plain": [
              "          Number of Trades  Net Profit  Profit Factor  Average Net per Trade  \\\n",
              "Strategy               1.0 -2722.37988       0.781694            -2722.37988   \n",
              "\n",
              "          Maximum Drawdown  \n",
              "Strategy       -3178.08984  "
            ]
          },
          "execution_count": 135,
          "metadata": {},
          "output_type": "execute_result"
        }
      ],
      "source": [
        "calculate_metrics(hmacd_strategy(validation_data, index_name, best_macd_params[0], best_macd_params[1], best_macd_params[2], y_pred_lstm))"
      ]
    },
    {
      "cell_type": "markdown",
      "metadata": {
        "id": "Q595pLfZBqbV"
      },
      "source": [
        "## **hRSI**"
      ]
    },
    {
      "cell_type": "code",
      "execution_count": null,
      "metadata": {
        "id": "_0zm6S1UBqbV"
      },
      "outputs": [],
      "source": [
        "def hrsi_strategy(df, symbol, rsi_period, y_pred):\n",
        "    \"\"\"\n",
        "    Implements a trading strategy based on the Relative Strength Index (RSI) combined with machine learning predictions.\n",
        "\n",
        "    Args:\n",
        "        df (pd.DataFrame): Input dataframe containing historical price data.\n",
        "        symbol (str): Name of the column in the dataframe representing the price data.\n",
        "        rsi_period (int): Look-back period for RSI calculation.\n",
        "        y_pred (pd.DataFrame): Dataframe containing predicted values.\n",
        "\n",
        "    Returns:\n",
        "        pd.DataFrame: The updated dataframe with additional columns representing the strategy and performance metrics.\n",
        "    \"\"\"\n",
        "\n",
        "    # Align the dataframe with the predictions\n",
        "    df = df_change(df, symbol)  # Preprocess data (e.g., handle NaNs or changes)\n",
        "    adjusted_split = len(df) - len(y_pred)  # Find the index to align with predictions\n",
        "    df = df.iloc[adjusted_split:]  # Trim the DataFrame\n",
        "    temp = df.copy()  # Make a copy of the aligned dataframe\n",
        "\n",
        "    # Calculate the RSI\n",
        "    temp['RSI'] = calculate_rsi(temp[symbol], rsi_period)\n",
        "\n",
        "    # Add predicted prices and prediction positions to the dataframe\n",
        "    temp['PredictionPrice'] = y_pred['Predicted'].values\n",
        "    temp['PredictionPosition'] = np.where(\n",
        "        temp['PredictionPrice'] < temp[symbol].shift(-1), 1,  # Predict price increase -> Buy\n",
        "        np.where(temp['PredictionPrice'] > temp[symbol].shift(-1), -1, 0)  # Predict price drop -> Sell\n",
        "    )\n",
        "\n",
        "    # Determine strategy position based on RSI\n",
        "    temp['StrategyPosition'] = np.where(\n",
        "        temp['RSI'] < 30, 1,  # Buy when RSI < 30 (Oversold)\n",
        "        np.where(temp['RSI'] > 70, -1, 0)  # Sell when RSI > 70 (Overbought)\n",
        "    )\n",
        "\n",
        "    # Generate final trading signals by combining strategy and prediction positions\n",
        "    temp['Position'] = np.where(\n",
        "        (temp['StrategyPosition'] == 1) | (temp['PredictionPosition'] == 1), 1,\n",
        "        np.where((temp['StrategyPosition'] == -1) & (temp['PredictionPosition'] == -1), -1, 0)\n",
        "    )\n",
        "\n",
        "    # Calculate log returns and strategy returns\n",
        "    temp['LogReturns'] = np.log(temp[symbol]) - np.log(temp[symbol].shift(1))\n",
        "    temp['Strategy'] = temp['Position'].shift(1) * temp['LogReturns']\n",
        "\n",
        "    # Calculate profit based on price changes\n",
        "    temp['PriceChange'] = temp[symbol] - temp[symbol].shift(1)\n",
        "    temp['PriceStrategy'] = temp['Position'].shift(1) * temp['PriceChange']\n",
        "\n",
        "    # Calculate the number of trades and ensure single trades\n",
        "    temp['Trades'] = temp['Position'].diff().fillna(0).abs()\n",
        "    temp['Trades'] = temp['Trades'].replace(2, 1)\n",
        "\n",
        "    # Calculate cumulative metrics\n",
        "    temp['CLogReturns'] = temp['LogReturns'].cumsum().apply(np.exp)\n",
        "    temp['CStrategy'] = temp['Strategy'].cumsum().apply(np.exp)\n",
        "    temp['CPrice'] = -(df[symbol].iloc[0] - df[symbol])\n",
        "    temp['CPriceStrategy'] = temp['PriceStrategy'].cumsum()\n",
        "\n",
        "    return temp"
      ]
    },
    {
      "cell_type": "code",
      "execution_count": null,
      "metadata": {
        "id": "BswDo1V9BqbV",
        "outputId": "7acf3ef1-870f-4d21-e30f-cc3387ba3a9a"
      },
      "outputs": [
        {
          "data": {
            "text/html": [
              "<div>\n",
              "<style scoped>\n",
              "    .dataframe tbody tr th:only-of-type {\n",
              "        vertical-align: middle;\n",
              "    }\n",
              "\n",
              "    .dataframe tbody tr th {\n",
              "        vertical-align: top;\n",
              "    }\n",
              "\n",
              "    .dataframe thead th {\n",
              "        text-align: right;\n",
              "    }\n",
              "</style>\n",
              "<table border=\"1\" class=\"dataframe\">\n",
              "  <thead>\n",
              "    <tr style=\"text-align: right;\">\n",
              "      <th></th>\n",
              "      <th>GDAXI</th>\n",
              "      <th>RSI</th>\n",
              "      <th>PredictionPrice</th>\n",
              "      <th>PredictionPosition</th>\n",
              "      <th>StrategyPosition</th>\n",
              "      <th>Position</th>\n",
              "      <th>LogReturns</th>\n",
              "      <th>Strategy</th>\n",
              "      <th>PriceChange</th>\n",
              "      <th>PriceStrategy</th>\n",
              "      <th>Trades</th>\n",
              "      <th>CLogReturns</th>\n",
              "      <th>CStrategy</th>\n",
              "      <th>CPrice</th>\n",
              "      <th>CPriceStrategy</th>\n",
              "    </tr>\n",
              "    <tr>\n",
              "      <th>Date</th>\n",
              "      <th></th>\n",
              "      <th></th>\n",
              "      <th></th>\n",
              "      <th></th>\n",
              "      <th></th>\n",
              "      <th></th>\n",
              "      <th></th>\n",
              "      <th></th>\n",
              "      <th></th>\n",
              "      <th></th>\n",
              "      <th></th>\n",
              "      <th></th>\n",
              "      <th></th>\n",
              "      <th></th>\n",
              "      <th></th>\n",
              "    </tr>\n",
              "  </thead>\n",
              "  <tbody>\n",
              "    <tr>\n",
              "      <th>2019-01-10</th>\n",
              "      <td>10921.58984</td>\n",
              "      <td>NaN</td>\n",
              "      <td>0.469141</td>\n",
              "      <td>1</td>\n",
              "      <td>0</td>\n",
              "      <td>1</td>\n",
              "      <td>NaN</td>\n",
              "      <td>NaN</td>\n",
              "      <td>NaN</td>\n",
              "      <td>NaN</td>\n",
              "      <td>0.0</td>\n",
              "      <td>NaN</td>\n",
              "      <td>NaN</td>\n",
              "      <td>-0.00000</td>\n",
              "      <td>NaN</td>\n",
              "    </tr>\n",
              "    <tr>\n",
              "      <th>2019-01-11</th>\n",
              "      <td>10887.45996</td>\n",
              "      <td>NaN</td>\n",
              "      <td>0.469366</td>\n",
              "      <td>1</td>\n",
              "      <td>0</td>\n",
              "      <td>1</td>\n",
              "      <td>-0.003130</td>\n",
              "      <td>-0.003130</td>\n",
              "      <td>-34.12988</td>\n",
              "      <td>-34.12988</td>\n",
              "      <td>0.0</td>\n",
              "      <td>0.996875</td>\n",
              "      <td>0.996875</td>\n",
              "      <td>-34.12988</td>\n",
              "      <td>-34.12988</td>\n",
              "    </tr>\n",
              "    <tr>\n",
              "      <th>2019-01-14</th>\n",
              "      <td>10855.91016</td>\n",
              "      <td>NaN</td>\n",
              "      <td>0.469563</td>\n",
              "      <td>1</td>\n",
              "      <td>0</td>\n",
              "      <td>1</td>\n",
              "      <td>-0.002902</td>\n",
              "      <td>-0.002902</td>\n",
              "      <td>-31.54980</td>\n",
              "      <td>-31.54980</td>\n",
              "      <td>0.0</td>\n",
              "      <td>0.993986</td>\n",
              "      <td>0.993986</td>\n",
              "      <td>-65.67968</td>\n",
              "      <td>-65.67968</td>\n",
              "    </tr>\n",
              "    <tr>\n",
              "      <th>2019-01-15</th>\n",
              "      <td>10891.79004</td>\n",
              "      <td>NaN</td>\n",
              "      <td>0.469670</td>\n",
              "      <td>1</td>\n",
              "      <td>0</td>\n",
              "      <td>1</td>\n",
              "      <td>0.003300</td>\n",
              "      <td>0.003300</td>\n",
              "      <td>35.87988</td>\n",
              "      <td>35.87988</td>\n",
              "      <td>0.0</td>\n",
              "      <td>0.997271</td>\n",
              "      <td>0.997271</td>\n",
              "      <td>-29.79980</td>\n",
              "      <td>-29.79980</td>\n",
              "    </tr>\n",
              "    <tr>\n",
              "      <th>2019-01-16</th>\n",
              "      <td>10931.24023</td>\n",
              "      <td>53.421887</td>\n",
              "      <td>0.469787</td>\n",
              "      <td>1</td>\n",
              "      <td>0</td>\n",
              "      <td>1</td>\n",
              "      <td>0.003615</td>\n",
              "      <td>0.003615</td>\n",
              "      <td>39.45019</td>\n",
              "      <td>39.45019</td>\n",
              "      <td>0.0</td>\n",
              "      <td>1.000884</td>\n",
              "      <td>1.000884</td>\n",
              "      <td>9.65039</td>\n",
              "      <td>9.65039</td>\n",
              "    </tr>\n",
              "    <tr>\n",
              "      <th>...</th>\n",
              "      <td>...</td>\n",
              "      <td>...</td>\n",
              "      <td>...</td>\n",
              "      <td>...</td>\n",
              "      <td>...</td>\n",
              "      <td>...</td>\n",
              "      <td>...</td>\n",
              "      <td>...</td>\n",
              "      <td>...</td>\n",
              "      <td>...</td>\n",
              "      <td>...</td>\n",
              "      <td>...</td>\n",
              "      <td>...</td>\n",
              "      <td>...</td>\n",
              "      <td>...</td>\n",
              "    </tr>\n",
              "    <tr>\n",
              "      <th>2019-12-19</th>\n",
              "      <td>13211.95996</td>\n",
              "      <td>48.732098</td>\n",
              "      <td>0.513953</td>\n",
              "      <td>1</td>\n",
              "      <td>0</td>\n",
              "      <td>1</td>\n",
              "      <td>-0.000772</td>\n",
              "      <td>-0.000772</td>\n",
              "      <td>-10.20020</td>\n",
              "      <td>-10.20020</td>\n",
              "      <td>0.0</td>\n",
              "      <td>1.209710</td>\n",
              "      <td>1.209710</td>\n",
              "      <td>2290.37012</td>\n",
              "      <td>2290.37012</td>\n",
              "    </tr>\n",
              "    <tr>\n",
              "      <th>2019-12-20</th>\n",
              "      <td>13318.90039</td>\n",
              "      <td>54.230854</td>\n",
              "      <td>0.513364</td>\n",
              "      <td>1</td>\n",
              "      <td>0</td>\n",
              "      <td>1</td>\n",
              "      <td>0.008062</td>\n",
              "      <td>0.008062</td>\n",
              "      <td>106.94043</td>\n",
              "      <td>106.94043</td>\n",
              "      <td>0.0</td>\n",
              "      <td>1.219502</td>\n",
              "      <td>1.219502</td>\n",
              "      <td>2397.31055</td>\n",
              "      <td>2397.31055</td>\n",
              "    </tr>\n",
              "    <tr>\n",
              "      <th>2019-12-23</th>\n",
              "      <td>13300.98047</td>\n",
              "      <td>33.360446</td>\n",
              "      <td>0.512771</td>\n",
              "      <td>1</td>\n",
              "      <td>0</td>\n",
              "      <td>1</td>\n",
              "      <td>-0.001346</td>\n",
              "      <td>-0.001346</td>\n",
              "      <td>-17.91992</td>\n",
              "      <td>-17.91992</td>\n",
              "      <td>0.0</td>\n",
              "      <td>1.217861</td>\n",
              "      <td>1.217861</td>\n",
              "      <td>2379.39063</td>\n",
              "      <td>2379.39063</td>\n",
              "    </tr>\n",
              "    <tr>\n",
              "      <th>2019-12-27</th>\n",
              "      <td>13337.11035</td>\n",
              "      <td>60.402811</td>\n",
              "      <td>0.512715</td>\n",
              "      <td>1</td>\n",
              "      <td>0</td>\n",
              "      <td>1</td>\n",
              "      <td>0.002713</td>\n",
              "      <td>0.002713</td>\n",
              "      <td>36.12988</td>\n",
              "      <td>36.12988</td>\n",
              "      <td>0.0</td>\n",
              "      <td>1.221169</td>\n",
              "      <td>1.221169</td>\n",
              "      <td>2415.52051</td>\n",
              "      <td>2415.52051</td>\n",
              "    </tr>\n",
              "    <tr>\n",
              "      <th>2019-12-30</th>\n",
              "      <td>13249.00977</td>\n",
              "      <td>55.177505</td>\n",
              "      <td>0.513197</td>\n",
              "      <td>0</td>\n",
              "      <td>0</td>\n",
              "      <td>0</td>\n",
              "      <td>-0.006628</td>\n",
              "      <td>-0.006628</td>\n",
              "      <td>-88.10058</td>\n",
              "      <td>-88.10058</td>\n",
              "      <td>1.0</td>\n",
              "      <td>1.213103</td>\n",
              "      <td>1.213103</td>\n",
              "      <td>2327.41993</td>\n",
              "      <td>2327.41993</td>\n",
              "    </tr>\n",
              "  </tbody>\n",
              "</table>\n",
              "<p>245 rows × 15 columns</p>\n",
              "</div>"
            ],
            "text/plain": [
              "                  GDAXI        RSI  PredictionPrice  PredictionPosition  \\\n",
              "Date                                                                      \n",
              "2019-01-10  10921.58984        NaN         0.469141                   1   \n",
              "2019-01-11  10887.45996        NaN         0.469366                   1   \n",
              "2019-01-14  10855.91016        NaN         0.469563                   1   \n",
              "2019-01-15  10891.79004        NaN         0.469670                   1   \n",
              "2019-01-16  10931.24023  53.421887         0.469787                   1   \n",
              "...                 ...        ...              ...                 ...   \n",
              "2019-12-19  13211.95996  48.732098         0.513953                   1   \n",
              "2019-12-20  13318.90039  54.230854         0.513364                   1   \n",
              "2019-12-23  13300.98047  33.360446         0.512771                   1   \n",
              "2019-12-27  13337.11035  60.402811         0.512715                   1   \n",
              "2019-12-30  13249.00977  55.177505         0.513197                   0   \n",
              "\n",
              "            StrategyPosition  Position  LogReturns  Strategy  PriceChange  \\\n",
              "Date                                                                        \n",
              "2019-01-10                 0         1         NaN       NaN          NaN   \n",
              "2019-01-11                 0         1   -0.003130 -0.003130    -34.12988   \n",
              "2019-01-14                 0         1   -0.002902 -0.002902    -31.54980   \n",
              "2019-01-15                 0         1    0.003300  0.003300     35.87988   \n",
              "2019-01-16                 0         1    0.003615  0.003615     39.45019   \n",
              "...                      ...       ...         ...       ...          ...   \n",
              "2019-12-19                 0         1   -0.000772 -0.000772    -10.20020   \n",
              "2019-12-20                 0         1    0.008062  0.008062    106.94043   \n",
              "2019-12-23                 0         1   -0.001346 -0.001346    -17.91992   \n",
              "2019-12-27                 0         1    0.002713  0.002713     36.12988   \n",
              "2019-12-30                 0         0   -0.006628 -0.006628    -88.10058   \n",
              "\n",
              "            PriceStrategy  Trades  CLogReturns  CStrategy      CPrice  \\\n",
              "Date                                                                    \n",
              "2019-01-10            NaN     0.0          NaN        NaN    -0.00000   \n",
              "2019-01-11      -34.12988     0.0     0.996875   0.996875   -34.12988   \n",
              "2019-01-14      -31.54980     0.0     0.993986   0.993986   -65.67968   \n",
              "2019-01-15       35.87988     0.0     0.997271   0.997271   -29.79980   \n",
              "2019-01-16       39.45019     0.0     1.000884   1.000884     9.65039   \n",
              "...                   ...     ...          ...        ...         ...   \n",
              "2019-12-19      -10.20020     0.0     1.209710   1.209710  2290.37012   \n",
              "2019-12-20      106.94043     0.0     1.219502   1.219502  2397.31055   \n",
              "2019-12-23      -17.91992     0.0     1.217861   1.217861  2379.39063   \n",
              "2019-12-27       36.12988     0.0     1.221169   1.221169  2415.52051   \n",
              "2019-12-30      -88.10058     1.0     1.213103   1.213103  2327.41993   \n",
              "\n",
              "            CPriceStrategy  \n",
              "Date                        \n",
              "2019-01-10             NaN  \n",
              "2019-01-11       -34.12988  \n",
              "2019-01-14       -65.67968  \n",
              "2019-01-15       -29.79980  \n",
              "2019-01-16         9.65039  \n",
              "...                    ...  \n",
              "2019-12-19      2290.37012  \n",
              "2019-12-20      2397.31055  \n",
              "2019-12-23      2379.39063  \n",
              "2019-12-27      2415.52051  \n",
              "2019-12-30      2327.41993  \n",
              "\n",
              "[245 rows x 15 columns]"
            ]
          },
          "execution_count": 72,
          "metadata": {},
          "output_type": "execute_result"
        }
      ],
      "source": [
        "hrsi_strategy(test_data, index_name, best_rsi_period, y_pred_lstm)"
      ]
    },
    {
      "cell_type": "code",
      "execution_count": null,
      "metadata": {
        "id": "VUxwW8EIBqbW",
        "outputId": "c23f74b3-fda1-48dc-8a36-dd04bf4db24e"
      },
      "outputs": [
        {
          "data": {
            "text/html": [
              "<div>\n",
              "<style scoped>\n",
              "    .dataframe tbody tr th:only-of-type {\n",
              "        vertical-align: middle;\n",
              "    }\n",
              "\n",
              "    .dataframe tbody tr th {\n",
              "        vertical-align: top;\n",
              "    }\n",
              "\n",
              "    .dataframe thead th {\n",
              "        text-align: right;\n",
              "    }\n",
              "</style>\n",
              "<table border=\"1\" class=\"dataframe\">\n",
              "  <thead>\n",
              "    <tr style=\"text-align: right;\">\n",
              "      <th></th>\n",
              "      <th>Number of Trades</th>\n",
              "      <th>Net Profit</th>\n",
              "      <th>Profit Factor</th>\n",
              "      <th>Average Net per Trade</th>\n",
              "      <th>Maximum Drawdown</th>\n",
              "    </tr>\n",
              "  </thead>\n",
              "  <tbody>\n",
              "    <tr>\n",
              "      <th>Strategy</th>\n",
              "      <td>1.0</td>\n",
              "      <td>2327.41993</td>\n",
              "      <td>1.278632</td>\n",
              "      <td>2327.41993</td>\n",
              "      <td>-1217.23047</td>\n",
              "    </tr>\n",
              "  </tbody>\n",
              "</table>\n",
              "</div>"
            ],
            "text/plain": [
              "          Number of Trades  Net Profit  Profit Factor  Average Net per Trade  \\\n",
              "Strategy               1.0  2327.41993       1.278632             2327.41993   \n",
              "\n",
              "          Maximum Drawdown  \n",
              "Strategy       -1217.23047  "
            ]
          },
          "execution_count": 74,
          "metadata": {},
          "output_type": "execute_result"
        }
      ],
      "source": [
        "calculate_metrics(hrsi_strategy(test_data, index_name, best_rsi_period, y_pred_lstm))"
      ]
    },
    {
      "cell_type": "code",
      "execution_count": null,
      "metadata": {
        "id": "pQv7BXqGBqbW",
        "outputId": "28a9ab78-7b77-4cf2-d6e1-420c89a4757f"
      },
      "outputs": [
        {
          "data": {
            "text/html": [
              "<div>\n",
              "<style scoped>\n",
              "    .dataframe tbody tr th:only-of-type {\n",
              "        vertical-align: middle;\n",
              "    }\n",
              "\n",
              "    .dataframe tbody tr th {\n",
              "        vertical-align: top;\n",
              "    }\n",
              "\n",
              "    .dataframe thead th {\n",
              "        text-align: right;\n",
              "    }\n",
              "</style>\n",
              "<table border=\"1\" class=\"dataframe\">\n",
              "  <thead>\n",
              "    <tr style=\"text-align: right;\">\n",
              "      <th></th>\n",
              "      <th>Number of Trades</th>\n",
              "      <th>Net Profit</th>\n",
              "      <th>Profit Factor</th>\n",
              "      <th>Average Net per Trade</th>\n",
              "      <th>Maximum Drawdown</th>\n",
              "    </tr>\n",
              "  </thead>\n",
              "  <tbody>\n",
              "    <tr>\n",
              "      <th>Strategy</th>\n",
              "      <td>1.0</td>\n",
              "      <td>-2722.37988</td>\n",
              "      <td>0.781694</td>\n",
              "      <td>-2722.37988</td>\n",
              "      <td>-3178.08984</td>\n",
              "    </tr>\n",
              "  </tbody>\n",
              "</table>\n",
              "</div>"
            ],
            "text/plain": [
              "          Number of Trades  Net Profit  Profit Factor  Average Net per Trade  \\\n",
              "Strategy               1.0 -2722.37988       0.781694            -2722.37988   \n",
              "\n",
              "          Maximum Drawdown  \n",
              "Strategy       -3178.08984  "
            ]
          },
          "execution_count": 134,
          "metadata": {},
          "output_type": "execute_result"
        }
      ],
      "source": [
        "calculate_metrics(hrsi_strategy(validation_data, index_name, best_rsi_period, y_pred_lstm))"
      ]
    },
    {
      "cell_type": "markdown",
      "metadata": {
        "id": "bpCfVE9KBqbW"
      },
      "source": [
        "## **Strategy 2**"
      ]
    },
    {
      "cell_type": "markdown",
      "metadata": {
        "id": "AAZDvB_1BqbX"
      },
      "source": [
        "![image.png](attachment:image.png)"
      ]
    },
    {
      "cell_type": "markdown",
      "metadata": {
        "id": "VAZRHqnEBqbX"
      },
      "source": [
        "### **hTEMA**"
      ]
    },
    {
      "cell_type": "code",
      "execution_count": null,
      "metadata": {
        "id": "APQab5nQBqbX"
      },
      "outputs": [],
      "source": [
        "def htema_strategy_2(df, symbol, short_period, mid_period, long_period, y_pred):\n",
        "    \"\"\"\n",
        "    Implements a trading strategy based on Hull Triple Exponential Moving Average (HTEMA).\n",
        "\n",
        "    Args:\n",
        "        df (pandas.DataFrame): Input dataframe containing historical price data.\n",
        "        symbol (str): Name of the column in the dataframe that represents the price data.\n",
        "        short_period (int): Short period for calculating the ShortEMA.\n",
        "        mid_period (int): Mid period for calculating the MidEMA.\n",
        "        long_period (int): Long period for calculating the LongEMA.\n",
        "        y_pred (pandas.DataFrame): Dataframe containing predicted values.\n",
        "\n",
        "    Returns:\n",
        "        pandas.DataFrame: The updated dataframe with additional columns representing the strategy and performance metrics.\n",
        "    \"\"\"\n",
        "\n",
        "    df = df_change(df, symbol)\n",
        "    adjusted_split = len(df) - len(y_pred)  # Find the starting index to trim\n",
        "    df = df.iloc[adjusted_split:]  # Trim the dataframe to the last 'len(y_pred)' rows\n",
        "\n",
        "    temp = df.copy() # Make a copy of the dataframe\n",
        "\n",
        "    # Calculate EMAs for different periods\n",
        "    temp['ShortEMA'] = ema(df, short_period)\n",
        "    temp['MidEMA'] = ema(df, mid_period)\n",
        "    temp['LongEMA'] = ema(df, long_period)\n",
        "\n",
        "    # Add predicted prices and prediction positions to the dataframe\n",
        "    temp['PredictionPrice'] = y_pred['Predicted'].values\n",
        "    temp['PredictionPosition'] = np.where((temp['PredictionPrice'] < temp[symbol].shift(-1)), 1,\n",
        "                                          np.where(temp['PredictionPrice'] > temp[symbol].shift(-1), -1, 0))\n",
        "\n",
        "    # Determine strategy position based on EMAs\n",
        "    temp['StrategyPosition'] = np.where((temp['ShortEMA'] > temp['MidEMA']) & (temp['ShortEMA'] > temp['LongEMA']), 1,\n",
        "                                np.where((temp['ShortEMA'] < temp['MidEMA']) & (temp['ShortEMA'] < temp['LongEMA']), -1, 0))\n",
        "\n",
        "    # Determine overall position based on strategy position and prediction position\n",
        "    temp['Position'] = np.where((temp['StrategyPosition'] == 1) & (temp['PredictionPosition'] == 1), 1,\n",
        "                            np.where((temp['StrategyPosition'] == -1) | (temp['PredictionPosition'] == -1), -1, 0))\n",
        "\n",
        "    # Calculate log returns and strategy based on log returns\n",
        "    temp['LogReturns'] = np.log(temp[symbol]) - np.log(temp[symbol].shift(1))\n",
        "    temp['Strategy'] = temp.Position.shift(1) * temp['LogReturns']\n",
        "\n",
        "    # Calculate profit based on price\n",
        "    temp['PriceChange'] = temp[symbol] - temp[symbol].shift(1)\n",
        "    temp['PriceStrategy'] = temp.Position.shift(1) * temp['PriceChange']\n",
        "\n",
        "    # Calculate the number of trades and convert double trades to single trades\n",
        "    temp['Trades'] = temp.Position.diff().fillna(0).abs()\n",
        "    temp['Trades'] = temp['Trades'].replace(2, 1)\n",
        "\n",
        "    # Calculate cumulative log returns, cumulative strategy returns, cumulative price change, and cumulative price strategy\n",
        "    temp['CLogReturns'] = temp['LogReturns'].cumsum().apply(np.exp)\n",
        "    temp[\"CStrategy\"] = temp['Strategy'].cumsum().apply(np.exp)\n",
        "    temp['CPrice'] = -(df[symbol].iloc[0] - df[symbol])\n",
        "    temp['CPriceStrategy'] = temp['PriceStrategy'].cumsum()\n",
        "\n",
        "    return temp"
      ]
    },
    {
      "cell_type": "code",
      "execution_count": null,
      "metadata": {
        "id": "L30adA2gBqbX",
        "outputId": "1c09f9ce-d676-4bfc-b39a-aea0b2876151"
      },
      "outputs": [
        {
          "data": {
            "text/html": [
              "<div>\n",
              "<style scoped>\n",
              "    .dataframe tbody tr th:only-of-type {\n",
              "        vertical-align: middle;\n",
              "    }\n",
              "\n",
              "    .dataframe tbody tr th {\n",
              "        vertical-align: top;\n",
              "    }\n",
              "\n",
              "    .dataframe thead th {\n",
              "        text-align: right;\n",
              "    }\n",
              "</style>\n",
              "<table border=\"1\" class=\"dataframe\">\n",
              "  <thead>\n",
              "    <tr style=\"text-align: right;\">\n",
              "      <th></th>\n",
              "      <th>Number of Trades</th>\n",
              "      <th>Net Profit</th>\n",
              "      <th>Profit Factor</th>\n",
              "      <th>Average Net per Trade</th>\n",
              "      <th>Maximum Drawdown</th>\n",
              "    </tr>\n",
              "  </thead>\n",
              "  <tbody>\n",
              "    <tr>\n",
              "      <th>Strategy</th>\n",
              "      <td>17.0</td>\n",
              "      <td>-223.09958</td>\n",
              "      <td>0.966344</td>\n",
              "      <td>-13.123505</td>\n",
              "      <td>-1335.4912</td>\n",
              "    </tr>\n",
              "  </tbody>\n",
              "</table>\n",
              "</div>"
            ],
            "text/plain": [
              "          Number of Trades  Net Profit  Profit Factor  Average Net per Trade  \\\n",
              "Strategy              17.0  -223.09958       0.966344             -13.123505   \n",
              "\n",
              "          Maximum Drawdown  \n",
              "Strategy        -1335.4912  "
            ]
          },
          "execution_count": 78,
          "metadata": {},
          "output_type": "execute_result"
        }
      ],
      "source": [
        "calculate_metrics(htema_strategy_2(test_data, index_name, best_tema_params[0], best_tema_params[1], best_tema_params[2], y_pred_lstm))"
      ]
    },
    {
      "cell_type": "code",
      "execution_count": null,
      "metadata": {
        "id": "bRVevRMPBqbX",
        "outputId": "9d1b5295-a70f-498b-b915-5dda117d27d8"
      },
      "outputs": [
        {
          "data": {
            "text/html": [
              "<div>\n",
              "<style scoped>\n",
              "    .dataframe tbody tr th:only-of-type {\n",
              "        vertical-align: middle;\n",
              "    }\n",
              "\n",
              "    .dataframe tbody tr th {\n",
              "        vertical-align: top;\n",
              "    }\n",
              "\n",
              "    .dataframe thead th {\n",
              "        text-align: right;\n",
              "    }\n",
              "</style>\n",
              "<table border=\"1\" class=\"dataframe\">\n",
              "  <thead>\n",
              "    <tr style=\"text-align: right;\">\n",
              "      <th></th>\n",
              "      <th>Number of Trades</th>\n",
              "      <th>Net Profit</th>\n",
              "      <th>Profit Factor</th>\n",
              "      <th>Average Net per Trade</th>\n",
              "      <th>Maximum Drawdown</th>\n",
              "    </tr>\n",
              "  </thead>\n",
              "  <tbody>\n",
              "    <tr>\n",
              "      <th>Strategy</th>\n",
              "      <td>15.0</td>\n",
              "      <td>1561.791</td>\n",
              "      <td>1.168183</td>\n",
              "      <td>104.1194</td>\n",
              "      <td>-1220.04101</td>\n",
              "    </tr>\n",
              "  </tbody>\n",
              "</table>\n",
              "</div>"
            ],
            "text/plain": [
              "          Number of Trades  Net Profit  Profit Factor  Average Net per Trade  \\\n",
              "Strategy              15.0    1561.791       1.168183               104.1194   \n",
              "\n",
              "          Maximum Drawdown  \n",
              "Strategy       -1220.04101  "
            ]
          },
          "execution_count": 79,
          "metadata": {},
          "output_type": "execute_result"
        }
      ],
      "source": [
        "calculate_metrics(htema_strategy_2(validation_data, index_name, best_tema_params[0], best_tema_params[1], best_tema_params[2], y_pred_lr))"
      ]
    },
    {
      "cell_type": "markdown",
      "metadata": {
        "id": "O7Tju0jiBqbY"
      },
      "source": [
        "### **hMACD**"
      ]
    },
    {
      "cell_type": "code",
      "execution_count": null,
      "metadata": {
        "id": "r9rFd_TtBqbY"
      },
      "outputs": [],
      "source": [
        "def hmacd_strategy_2(df, symbol, short_period, long_period, signal_period, y_pred):\n",
        "    \"\"\"\n",
        "    Implements a trading strategy based on the Moving Average Convergence Divergence (MACD) indicator.\n",
        "\n",
        "    Args:\n",
        "        df (pandas.DataFrame): Input dataframe containing historical price data.\n",
        "        symbol (str): Name of the column in the dataframe that represents the price data.\n",
        "        short_period (int): Short period for calculating the short exponential moving average (ShortEMA).\n",
        "        long_period (int): Long period for calculating the long exponential moving average (LongEMA).\n",
        "        signal_period (int): Signal period for calculating the signal line.\n",
        "        y_pred (pandas.DataFrame): Dataframe containing predicted values.\n",
        "\n",
        "    Returns:\n",
        "        pandas.DataFrame: The updated dataframe with additional columns representing the strategy and performance metrics.\n",
        "    \"\"\"\n",
        "\n",
        "    df = df_change(df, symbol)\n",
        "    adjusted_split = len(df) - len(y_pred)  # Find the starting index to trim\n",
        "    df = df.iloc[adjusted_split:]  # Trim the dataframe to the last 'len(y_pred)' rows\n",
        "    temp = df.copy() # Make a copy of the dataframe\n",
        "\n",
        "    # Calculate MACD line using short and long EMAs\n",
        "    temp['ShortEMA'] = ema(df, short_period)\n",
        "    temp['LongEMA'] = ema(df, long_period)\n",
        "    temp['MACD Line'] = temp['ShortEMA'] - temp['LongEMA']\n",
        "\n",
        "    # Calculate signal line\n",
        "    temp['Signal Line'] = ema(temp, signal_period)['MACD Line']\n",
        "\n",
        "    # Add predicted prices and prediction positions to the dataframe\n",
        "    temp['PredictionPrice'] = y_pred['Predicted'].values\n",
        "    temp['PredictionPosition'] = np.where((temp['PredictionPrice'] < temp[symbol].shift(-1)), 1,\n",
        "                                          np.where(temp['PredictionPrice'] > temp[symbol].shift(-1), -1, 0))\n",
        "\n",
        "    # Determine strategy position based on MACD line and signal line\n",
        "    temp['StrategyPosition'] = np.where(temp['MACD Line'] > temp['Signal Line'], 1,\n",
        "                                np.where(temp['MACD Line'] < temp['Signal Line'], -1, 0))\n",
        "\n",
        "    # Generate trading signals based on strategy position and prediction position\n",
        "    temp['Position'] = np.where((temp['StrategyPosition'] == 1) & (temp['PredictionPosition'] == 1), 1,\n",
        "                            np.where((temp['StrategyPosition'] == -1) | (temp['PredictionPosition'] == -1), -1, 0))\n",
        "\n",
        "    # Calculate log returns and strategy returns\n",
        "    temp['LogReturns'] = np.log(temp[symbol]) - np.log(temp[symbol]).shift(1)\n",
        "    temp['Strategy'] = temp['Position'].shift(1) * temp['LogReturns']\n",
        "\n",
        "    # Calculate profit based on price\n",
        "    temp['PriceChange'] = temp[symbol] - temp[symbol].shift(1)\n",
        "    temp['PriceStrategy'] = temp.Position.shift(1) * temp['PriceChange']\n",
        "\n",
        "    # Calculate the number of trades and convert double trades to single trades\n",
        "    temp['Trades'] = temp.Position.diff().fillna(0).abs()\n",
        "    temp['Trades'] = temp['Trades'].replace(2, 1)\n",
        "\n",
        "    # Calculate cumulative log returns, cumulative strategy returns, cumulative price change, and cumulative price strategy\n",
        "    temp['CLogReturns'] = temp['LogReturns'].cumsum().apply(np.exp)\n",
        "    temp[\"CStrategy\"] = temp['Strategy'].cumsum().apply(np.exp)\n",
        "    temp['CPrice'] = -(df[symbol].iloc[0] - df[symbol])\n",
        "    temp['CPriceStrategy'] = temp['PriceStrategy'].cumsum()\n",
        "\n",
        "    return temp"
      ]
    },
    {
      "cell_type": "code",
      "execution_count": null,
      "metadata": {
        "id": "IHwm9dVUBqbY",
        "outputId": "6801c50a-a9a3-4684-a42d-278aad74d3d2"
      },
      "outputs": [
        {
          "data": {
            "text/html": [
              "<div>\n",
              "<style scoped>\n",
              "    .dataframe tbody tr th:only-of-type {\n",
              "        vertical-align: middle;\n",
              "    }\n",
              "\n",
              "    .dataframe tbody tr th {\n",
              "        vertical-align: top;\n",
              "    }\n",
              "\n",
              "    .dataframe thead th {\n",
              "        text-align: right;\n",
              "    }\n",
              "</style>\n",
              "<table border=\"1\" class=\"dataframe\">\n",
              "  <thead>\n",
              "    <tr style=\"text-align: right;\">\n",
              "      <th></th>\n",
              "      <th>Number of Trades</th>\n",
              "      <th>Net Profit</th>\n",
              "      <th>Profit Factor</th>\n",
              "      <th>Average Net per Trade</th>\n",
              "      <th>Maximum Drawdown</th>\n",
              "    </tr>\n",
              "  </thead>\n",
              "  <tbody>\n",
              "    <tr>\n",
              "      <th>Strategy</th>\n",
              "      <td>55.0</td>\n",
              "      <td>5707.23629</td>\n",
              "      <td>1.845045</td>\n",
              "      <td>103.767933</td>\n",
              "      <td>-836.97167</td>\n",
              "    </tr>\n",
              "  </tbody>\n",
              "</table>\n",
              "</div>"
            ],
            "text/plain": [
              "          Number of Trades  Net Profit  Profit Factor  Average Net per Trade  \\\n",
              "Strategy              55.0  5707.23629       1.845045             103.767933   \n",
              "\n",
              "          Maximum Drawdown  \n",
              "Strategy        -836.97167  "
            ]
          },
          "execution_count": 83,
          "metadata": {},
          "output_type": "execute_result"
        }
      ],
      "source": [
        "calculate_metrics(hmacd_strategy_2(test_data, index_name, best_macd_params[0], best_macd_params[1], best_macd_params[2], y_pred_lr))"
      ]
    },
    {
      "cell_type": "code",
      "execution_count": null,
      "metadata": {
        "id": "myQbnOkDBqbY",
        "outputId": "31c76563-46f9-448d-f41e-36552b8b1046"
      },
      "outputs": [
        {
          "data": {
            "text/html": [
              "<div>\n",
              "<style scoped>\n",
              "    .dataframe tbody tr th:only-of-type {\n",
              "        vertical-align: middle;\n",
              "    }\n",
              "\n",
              "    .dataframe tbody tr th {\n",
              "        vertical-align: top;\n",
              "    }\n",
              "\n",
              "    .dataframe thead th {\n",
              "        text-align: right;\n",
              "    }\n",
              "</style>\n",
              "<table border=\"1\" class=\"dataframe\">\n",
              "  <thead>\n",
              "    <tr style=\"text-align: right;\">\n",
              "      <th></th>\n",
              "      <th>Number of Trades</th>\n",
              "      <th>Net Profit</th>\n",
              "      <th>Profit Factor</th>\n",
              "      <th>Average Net per Trade</th>\n",
              "      <th>Maximum Drawdown</th>\n",
              "    </tr>\n",
              "  </thead>\n",
              "  <tbody>\n",
              "    <tr>\n",
              "      <th>Strategy</th>\n",
              "      <td>33.0</td>\n",
              "      <td>4796.04883</td>\n",
              "      <td>1.540385</td>\n",
              "      <td>145.334813</td>\n",
              "      <td>-701.18067</td>\n",
              "    </tr>\n",
              "  </tbody>\n",
              "</table>\n",
              "</div>"
            ],
            "text/plain": [
              "          Number of Trades  Net Profit  Profit Factor  Average Net per Trade  \\\n",
              "Strategy              33.0  4796.04883       1.540385             145.334813   \n",
              "\n",
              "          Maximum Drawdown  \n",
              "Strategy        -701.18067  "
            ]
          },
          "execution_count": 84,
          "metadata": {},
          "output_type": "execute_result"
        }
      ],
      "source": [
        "calculate_metrics(hmacd_strategy_2(validation_data, index_name, best_macd_params[0], best_macd_params[1], best_macd_params[2], y_pred_lr))"
      ]
    },
    {
      "cell_type": "markdown",
      "metadata": {
        "id": "ZceC9kELBqbZ"
      },
      "source": [
        "### **hRSI**"
      ]
    },
    {
      "cell_type": "code",
      "execution_count": null,
      "metadata": {
        "id": "v62vD1-OBqbZ"
      },
      "outputs": [],
      "source": [
        "def hrsi_strategy_2(df, symbol, rsi_period, y_pred):\n",
        "    \"\"\"\n",
        "    Implements a trading strategy based on the RSI (Relative Strength Index) combined with machine learning predictions.\n",
        "\n",
        "    Args:\n",
        "        df (pd.DataFrame): Input dataframe containing historical price data.\n",
        "        symbol (str): Name of the column in the dataframe representing the price data.\n",
        "        rsi_period (int): Look-back period for RSI calculation.\n",
        "        y_pred (pd.DataFrame): Dataframe containing predicted values.\n",
        "\n",
        "    Returns:\n",
        "        pd.DataFrame: The updated dataframe with additional columns representing the strategy and performance metrics.\n",
        "    \"\"\"\n",
        "\n",
        "    # Preprocess data and align with predictions\n",
        "    df = df_change(df, symbol)\n",
        "    adjusted_split = len(df) - len(y_pred)  # Find the starting index to align with predictions\n",
        "    df = df.iloc[adjusted_split:]  # Trim the DataFrame to align with y_pred\n",
        "    temp = df.copy()  # Create a copy of the trimmed DataFrame\n",
        "\n",
        "    # Calculate RSI\n",
        "    temp['RSI'] = calculate_rsi(temp[symbol], rsi_period)\n",
        "\n",
        "    # Add predicted prices and generate prediction positions\n",
        "    temp['PredictionPrice'] = y_pred['Predicted'].values\n",
        "    temp['PredictionPosition'] = np.where(\n",
        "        temp['PredictionPrice'] < temp[symbol].shift(-1), 1,  # Predict price increase -> Buy\n",
        "        np.where(temp['PredictionPrice'] > temp[symbol].shift(-1), -1, 0)  # Predict price drop -> Sell\n",
        "    )\n",
        "\n",
        "    # Generate RSI-based strategy positions\n",
        "    temp['StrategyPosition'] = np.where(\n",
        "        temp['RSI'] < 30, 1,  # Buy if RSI < 30 (Oversold)\n",
        "        np.where(temp['RSI'] > 70, -1, 0)  # Sell if RSI > 70 (Overbought)\n",
        "    )\n",
        "\n",
        "    # Generate final trading signals using strategy and prediction positions\n",
        "    temp['Position'] = np.where(\n",
        "        (temp['StrategyPosition'] == 1) & (temp['PredictionPosition'] == 1), 1,  # Buy if both signals agree\n",
        "        np.where((temp['StrategyPosition'] == -1) | (temp['PredictionPosition'] == -1), -1, 0)  # Sell if either signals sell\n",
        "    )\n",
        "\n",
        "    # Calculate log returns and strategy returns\n",
        "    temp['LogReturns'] = np.log(temp[symbol]) - np.log(temp[symbol].shift(1))\n",
        "    temp['Strategy'] = temp['Position'].shift(1) * temp['LogReturns']\n",
        "\n",
        "    # Calculate profit based on price changes\n",
        "    temp['PriceChange'] = temp[symbol] - temp[symbol].shift(1)\n",
        "    temp['PriceStrategy'] = temp['Position'].shift(1) * temp['PriceChange']\n",
        "\n",
        "    # Calculate number of trades and ensure single trades\n",
        "    temp['Trades'] = temp['Position'].diff().fillna(0).abs()\n",
        "    temp['Trades'] = temp['Trades'].replace(2, 1)\n",
        "\n",
        "    # Calculate cumulative metrics\n",
        "    temp['CLogReturns'] = temp['LogReturns'].cumsum().apply(np.exp)\n",
        "    temp['CStrategy'] = temp['Strategy'].cumsum().apply(np.exp)\n",
        "    temp['CPrice'] = -(df[symbol].iloc[0] - df[symbol])\n",
        "    temp['CPriceStrategy'] = temp['PriceStrategy'].cumsum()\n",
        "\n",
        "    return temp"
      ]
    },
    {
      "cell_type": "code",
      "execution_count": null,
      "metadata": {
        "id": "7kTb532cBqbZ",
        "outputId": "9563a845-1877-4c6b-9083-95986c93f7ec"
      },
      "outputs": [
        {
          "data": {
            "text/html": [
              "<div>\n",
              "<style scoped>\n",
              "    .dataframe tbody tr th:only-of-type {\n",
              "        vertical-align: middle;\n",
              "    }\n",
              "\n",
              "    .dataframe tbody tr th {\n",
              "        vertical-align: top;\n",
              "    }\n",
              "\n",
              "    .dataframe thead th {\n",
              "        text-align: right;\n",
              "    }\n",
              "</style>\n",
              "<table border=\"1\" class=\"dataframe\">\n",
              "  <thead>\n",
              "    <tr style=\"text-align: right;\">\n",
              "      <th></th>\n",
              "      <th>Number of Trades</th>\n",
              "      <th>Net Profit</th>\n",
              "      <th>Profit Factor</th>\n",
              "      <th>Average Net per Trade</th>\n",
              "      <th>Maximum Drawdown</th>\n",
              "    </tr>\n",
              "  </thead>\n",
              "  <tbody>\n",
              "    <tr>\n",
              "      <th>Strategy</th>\n",
              "      <td>83.0</td>\n",
              "      <td>1148.86036</td>\n",
              "      <td>1.290831</td>\n",
              "      <td>13.841691</td>\n",
              "      <td>-959.13965</td>\n",
              "    </tr>\n",
              "  </tbody>\n",
              "</table>\n",
              "</div>"
            ],
            "text/plain": [
              "          Number of Trades  Net Profit  Profit Factor  Average Net per Trade  \\\n",
              "Strategy              83.0  1148.86036       1.290831              13.841691   \n",
              "\n",
              "          Maximum Drawdown  \n",
              "Strategy        -959.13965  "
            ]
          },
          "execution_count": 88,
          "metadata": {},
          "output_type": "execute_result"
        }
      ],
      "source": [
        "calculate_metrics(hrsi_strategy_2(test_data, index_name, best_rsi_period, y_pred_lstm))"
      ]
    },
    {
      "cell_type": "code",
      "execution_count": null,
      "metadata": {
        "id": "0MELUM5OBqbZ",
        "outputId": "b3f6b186-7c75-4fd0-e0eb-c6f00fa2e176"
      },
      "outputs": [
        {
          "data": {
            "text/html": [
              "<div>\n",
              "<style scoped>\n",
              "    .dataframe tbody tr th:only-of-type {\n",
              "        vertical-align: middle;\n",
              "    }\n",
              "\n",
              "    .dataframe tbody tr th {\n",
              "        vertical-align: top;\n",
              "    }\n",
              "\n",
              "    .dataframe thead th {\n",
              "        text-align: right;\n",
              "    }\n",
              "</style>\n",
              "<table border=\"1\" class=\"dataframe\">\n",
              "  <thead>\n",
              "    <tr style=\"text-align: right;\">\n",
              "      <th></th>\n",
              "      <th>Number of Trades</th>\n",
              "      <th>Net Profit</th>\n",
              "      <th>Profit Factor</th>\n",
              "      <th>Average Net per Trade</th>\n",
              "      <th>Maximum Drawdown</th>\n",
              "    </tr>\n",
              "  </thead>\n",
              "  <tbody>\n",
              "    <tr>\n",
              "      <th>Strategy</th>\n",
              "      <td>69.0</td>\n",
              "      <td>2700.17284</td>\n",
              "      <td>1.404796</td>\n",
              "      <td>39.13294</td>\n",
              "      <td>-1090.22949</td>\n",
              "    </tr>\n",
              "  </tbody>\n",
              "</table>\n",
              "</div>"
            ],
            "text/plain": [
              "          Number of Trades  Net Profit  Profit Factor  Average Net per Trade  \\\n",
              "Strategy              69.0  2700.17284       1.404796               39.13294   \n",
              "\n",
              "          Maximum Drawdown  \n",
              "Strategy       -1090.22949  "
            ]
          },
          "execution_count": 89,
          "metadata": {},
          "output_type": "execute_result"
        }
      ],
      "source": [
        "calculate_metrics(hrsi_strategy_2(validation_data, index_name, best_rsi_period, y_pred_lr))"
      ]
    },
    {
      "cell_type": "markdown",
      "metadata": {
        "id": "vIoca2vTBqbZ"
      },
      "source": [
        "# **Outputs**"
      ]
    },
    {
      "cell_type": "markdown",
      "metadata": {
        "id": "fhnVtk1TBqbZ"
      },
      "source": [
        "## Strategy"
      ]
    },
    {
      "cell_type": "markdown",
      "metadata": {
        "id": "qlTpKkrlBqba"
      },
      "source": [
        "### TEMA"
      ]
    },
    {
      "cell_type": "markdown",
      "metadata": {
        "id": "5mryfwXnBqba"
      },
      "source": [
        "#### tema_strategy"
      ]
    },
    {
      "cell_type": "code",
      "execution_count": null,
      "metadata": {
        "id": "UjFl9jIMBqba",
        "outputId": "0610ba71-61e9-4d2e-992a-878d5c8afe3a"
      },
      "outputs": [
        {
          "data": {
            "text/html": [
              "<div>\n",
              "<style scoped>\n",
              "    .dataframe tbody tr th:only-of-type {\n",
              "        vertical-align: middle;\n",
              "    }\n",
              "\n",
              "    .dataframe tbody tr th {\n",
              "        vertical-align: top;\n",
              "    }\n",
              "\n",
              "    .dataframe thead th {\n",
              "        text-align: right;\n",
              "    }\n",
              "</style>\n",
              "<table border=\"1\" class=\"dataframe\">\n",
              "  <thead>\n",
              "    <tr style=\"text-align: right;\">\n",
              "      <th></th>\n",
              "      <th>Number of Trades</th>\n",
              "      <th>Net Profit</th>\n",
              "      <th>Profit Factor</th>\n",
              "      <th>Average Net per Trade</th>\n",
              "      <th>Maximum Drawdown</th>\n",
              "    </tr>\n",
              "  </thead>\n",
              "  <tbody>\n",
              "    <tr>\n",
              "      <th>Strategy</th>\n",
              "      <td>21.0</td>\n",
              "      <td>563.50196</td>\n",
              "      <td>1.049631</td>\n",
              "      <td>26.833427</td>\n",
              "      <td>-2000.90917</td>\n",
              "    </tr>\n",
              "  </tbody>\n",
              "</table>\n",
              "</div>"
            ],
            "text/plain": [
              "          Number of Trades  Net Profit  Profit Factor  Average Net per Trade  \\\n",
              "Strategy              21.0   563.50196       1.049631              26.833427   \n",
              "\n",
              "          Maximum Drawdown  \n",
              "Strategy       -2000.90917  "
            ]
          },
          "execution_count": 90,
          "metadata": {},
          "output_type": "execute_result"
        }
      ],
      "source": [
        "# Validation\n",
        "calculate_metrics(tema_strategy(validation_data, index_name, best_tema_params[0], best_tema_params[1], best_tema_params[2]))"
      ]
    },
    {
      "cell_type": "code",
      "execution_count": null,
      "metadata": {
        "id": "22QQajl4Bqba",
        "outputId": "8dc2657c-7ebd-4717-80b1-72cf7581da8f"
      },
      "outputs": [
        {
          "data": {
            "text/html": [
              "<div>\n",
              "<style scoped>\n",
              "    .dataframe tbody tr th:only-of-type {\n",
              "        vertical-align: middle;\n",
              "    }\n",
              "\n",
              "    .dataframe tbody tr th {\n",
              "        vertical-align: top;\n",
              "    }\n",
              "\n",
              "    .dataframe thead th {\n",
              "        text-align: right;\n",
              "    }\n",
              "</style>\n",
              "<table border=\"1\" class=\"dataframe\">\n",
              "  <thead>\n",
              "    <tr style=\"text-align: right;\">\n",
              "      <th></th>\n",
              "      <th>Number of Trades</th>\n",
              "      <th>Net Profit</th>\n",
              "      <th>Profit Factor</th>\n",
              "      <th>Average Net per Trade</th>\n",
              "      <th>Maximum Drawdown</th>\n",
              "    </tr>\n",
              "  </thead>\n",
              "  <tbody>\n",
              "    <tr>\n",
              "      <th>Strategy</th>\n",
              "      <td>11.0</td>\n",
              "      <td>806.49026</td>\n",
              "      <td>1.092422</td>\n",
              "      <td>73.317296</td>\n",
              "      <td>-1335.4912</td>\n",
              "    </tr>\n",
              "  </tbody>\n",
              "</table>\n",
              "</div>"
            ],
            "text/plain": [
              "          Number of Trades  Net Profit  Profit Factor  Average Net per Trade  \\\n",
              "Strategy              11.0   806.49026       1.092422              73.317296   \n",
              "\n",
              "          Maximum Drawdown  \n",
              "Strategy        -1335.4912  "
            ]
          },
          "execution_count": 91,
          "metadata": {},
          "output_type": "execute_result"
        }
      ],
      "source": [
        "# Test\n",
        "calculate_metrics(tema_strategy(test_data, index_name, best_tema_params[0], best_tema_params[1], best_tema_params[2]))"
      ]
    },
    {
      "cell_type": "markdown",
      "metadata": {
        "id": "w4ddZ1PmBqba"
      },
      "source": [
        "#### htema_strategy"
      ]
    },
    {
      "cell_type": "markdown",
      "metadata": {
        "id": "xEngZXqhBqba"
      },
      "source": [
        "##### Linear Regression"
      ]
    },
    {
      "cell_type": "code",
      "execution_count": null,
      "metadata": {
        "id": "qqgASnAbBqbb",
        "outputId": "84b1c2f3-2acd-4d59-a38e-646b8ea46a8e"
      },
      "outputs": [
        {
          "data": {
            "text/html": [
              "<div>\n",
              "<style scoped>\n",
              "    .dataframe tbody tr th:only-of-type {\n",
              "        vertical-align: middle;\n",
              "    }\n",
              "\n",
              "    .dataframe tbody tr th {\n",
              "        vertical-align: top;\n",
              "    }\n",
              "\n",
              "    .dataframe thead th {\n",
              "        text-align: right;\n",
              "    }\n",
              "</style>\n",
              "<table border=\"1\" class=\"dataframe\">\n",
              "  <thead>\n",
              "    <tr style=\"text-align: right;\">\n",
              "      <th></th>\n",
              "      <th>Number of Trades</th>\n",
              "      <th>Net Profit</th>\n",
              "      <th>Profit Factor</th>\n",
              "      <th>Average Net per Trade</th>\n",
              "      <th>Maximum Drawdown</th>\n",
              "    </tr>\n",
              "  </thead>\n",
              "  <tbody>\n",
              "    <tr>\n",
              "      <th>Strategy</th>\n",
              "      <td>13.0</td>\n",
              "      <td>729.41896</td>\n",
              "      <td>1.080029</td>\n",
              "      <td>56.109151</td>\n",
              "      <td>-1772.33984</td>\n",
              "    </tr>\n",
              "  </tbody>\n",
              "</table>\n",
              "</div>"
            ],
            "text/plain": [
              "          Number of Trades  Net Profit  Profit Factor  Average Net per Trade  \\\n",
              "Strategy              13.0   729.41896       1.080029              56.109151   \n",
              "\n",
              "          Maximum Drawdown  \n",
              "Strategy       -1772.33984  "
            ]
          },
          "execution_count": 92,
          "metadata": {},
          "output_type": "execute_result"
        }
      ],
      "source": [
        "# Validation\n",
        "calculate_metrics(htema_strategy(validation_data, index_name, best_tema_params[0], best_tema_params[1], best_tema_params[2], y_pred_lr))"
      ]
    },
    {
      "cell_type": "code",
      "execution_count": null,
      "metadata": {
        "id": "hLgMLKQHBqbb",
        "outputId": "4640c6bb-f65c-4e12-d5aa-0cc435640837"
      },
      "outputs": [
        {
          "data": {
            "text/html": [
              "<div>\n",
              "<style scoped>\n",
              "    .dataframe tbody tr th:only-of-type {\n",
              "        vertical-align: middle;\n",
              "    }\n",
              "\n",
              "    .dataframe tbody tr th {\n",
              "        vertical-align: top;\n",
              "    }\n",
              "\n",
              "    .dataframe thead th {\n",
              "        text-align: right;\n",
              "    }\n",
              "</style>\n",
              "<table border=\"1\" class=\"dataframe\">\n",
              "  <thead>\n",
              "    <tr style=\"text-align: right;\">\n",
              "      <th></th>\n",
              "      <th>Number of Trades</th>\n",
              "      <th>Net Profit</th>\n",
              "      <th>Profit Factor</th>\n",
              "      <th>Average Net per Trade</th>\n",
              "      <th>Maximum Drawdown</th>\n",
              "    </tr>\n",
              "  </thead>\n",
              "  <tbody>\n",
              "    <tr>\n",
              "      <th>Strategy</th>\n",
              "      <td>19.0</td>\n",
              "      <td>5112.78024</td>\n",
              "      <td>1.757027</td>\n",
              "      <td>269.093697</td>\n",
              "      <td>-543.28027</td>\n",
              "    </tr>\n",
              "  </tbody>\n",
              "</table>\n",
              "</div>"
            ],
            "text/plain": [
              "          Number of Trades  Net Profit  Profit Factor  Average Net per Trade  \\\n",
              "Strategy              19.0  5112.78024       1.757027             269.093697   \n",
              "\n",
              "          Maximum Drawdown  \n",
              "Strategy        -543.28027  "
            ]
          },
          "execution_count": 93,
          "metadata": {},
          "output_type": "execute_result"
        }
      ],
      "source": [
        "# Test\n",
        "calculate_metrics(htema_strategy(test_data, index_name, best_tema_params[0], best_tema_params[1], best_tema_params[2], y_pred_lr))"
      ]
    },
    {
      "cell_type": "markdown",
      "metadata": {
        "id": "mQFmnY9BBqbb"
      },
      "source": [
        "##### Artifical Neural Network"
      ]
    },
    {
      "cell_type": "code",
      "execution_count": null,
      "metadata": {
        "id": "xRR4W8uHBqbb",
        "outputId": "86851db7-8248-4d37-c828-970822a5ea97"
      },
      "outputs": [
        {
          "data": {
            "text/html": [
              "<div>\n",
              "<style scoped>\n",
              "    .dataframe tbody tr th:only-of-type {\n",
              "        vertical-align: middle;\n",
              "    }\n",
              "\n",
              "    .dataframe tbody tr th {\n",
              "        vertical-align: top;\n",
              "    }\n",
              "\n",
              "    .dataframe thead th {\n",
              "        text-align: right;\n",
              "    }\n",
              "</style>\n",
              "<table border=\"1\" class=\"dataframe\">\n",
              "  <thead>\n",
              "    <tr style=\"text-align: right;\">\n",
              "      <th></th>\n",
              "      <th>Number of Trades</th>\n",
              "      <th>Net Profit</th>\n",
              "      <th>Profit Factor</th>\n",
              "      <th>Average Net per Trade</th>\n",
              "      <th>Maximum Drawdown</th>\n",
              "    </tr>\n",
              "  </thead>\n",
              "  <tbody>\n",
              "    <tr>\n",
              "      <th>Strategy</th>\n",
              "      <td>14.0</td>\n",
              "      <td>874.81055</td>\n",
              "      <td>1.095338</td>\n",
              "      <td>62.486468</td>\n",
              "      <td>-1307.01074</td>\n",
              "    </tr>\n",
              "  </tbody>\n",
              "</table>\n",
              "</div>"
            ],
            "text/plain": [
              "          Number of Trades  Net Profit  Profit Factor  Average Net per Trade  \\\n",
              "Strategy              14.0   874.81055       1.095338              62.486468   \n",
              "\n",
              "          Maximum Drawdown  \n",
              "Strategy       -1307.01074  "
            ]
          },
          "execution_count": 94,
          "metadata": {},
          "output_type": "execute_result"
        }
      ],
      "source": [
        "# Validation\n",
        "calculate_metrics(htema_strategy(validation_data, index_name, best_tema_params[0], best_tema_params[1], best_tema_params[2], y_pred_ann))"
      ]
    },
    {
      "cell_type": "code",
      "execution_count": null,
      "metadata": {
        "id": "Rjszh4_1Bqbb",
        "outputId": "a95035e9-c4c6-49d8-9260-a1fa9570d1b7"
      },
      "outputs": [
        {
          "data": {
            "text/html": [
              "<div>\n",
              "<style scoped>\n",
              "    .dataframe tbody tr th:only-of-type {\n",
              "        vertical-align: middle;\n",
              "    }\n",
              "\n",
              "    .dataframe tbody tr th {\n",
              "        vertical-align: top;\n",
              "    }\n",
              "\n",
              "    .dataframe thead th {\n",
              "        text-align: right;\n",
              "    }\n",
              "</style>\n",
              "<table border=\"1\" class=\"dataframe\">\n",
              "  <thead>\n",
              "    <tr style=\"text-align: right;\">\n",
              "      <th></th>\n",
              "      <th>Number of Trades</th>\n",
              "      <th>Net Profit</th>\n",
              "      <th>Profit Factor</th>\n",
              "      <th>Average Net per Trade</th>\n",
              "      <th>Maximum Drawdown</th>\n",
              "    </tr>\n",
              "  </thead>\n",
              "  <tbody>\n",
              "    <tr>\n",
              "      <th>Strategy</th>\n",
              "      <td>11.0</td>\n",
              "      <td>806.49026</td>\n",
              "      <td>1.092422</td>\n",
              "      <td>73.317296</td>\n",
              "      <td>-1335.4912</td>\n",
              "    </tr>\n",
              "  </tbody>\n",
              "</table>\n",
              "</div>"
            ],
            "text/plain": [
              "          Number of Trades  Net Profit  Profit Factor  Average Net per Trade  \\\n",
              "Strategy              11.0   806.49026       1.092422              73.317296   \n",
              "\n",
              "          Maximum Drawdown  \n",
              "Strategy        -1335.4912  "
            ]
          },
          "execution_count": 95,
          "metadata": {},
          "output_type": "execute_result"
        }
      ],
      "source": [
        "# Test\n",
        "calculate_metrics(htema_strategy(test_data, index_name, best_tema_params[0], best_tema_params[1], best_tema_params[2], y_pred_ann))"
      ]
    },
    {
      "cell_type": "markdown",
      "metadata": {
        "id": "HEApRfInBqbc"
      },
      "source": [
        "##### Long Short-Term Memory"
      ]
    },
    {
      "cell_type": "code",
      "execution_count": null,
      "metadata": {
        "id": "Q5XJ1ErvBqbc",
        "outputId": "72e8bc05-c6d9-404d-de17-4d39e26c2947"
      },
      "outputs": [
        {
          "data": {
            "text/html": [
              "<div>\n",
              "<style scoped>\n",
              "    .dataframe tbody tr th:only-of-type {\n",
              "        vertical-align: middle;\n",
              "    }\n",
              "\n",
              "    .dataframe tbody tr th {\n",
              "        vertical-align: top;\n",
              "    }\n",
              "\n",
              "    .dataframe thead th {\n",
              "        text-align: right;\n",
              "    }\n",
              "</style>\n",
              "<table border=\"1\" class=\"dataframe\">\n",
              "  <thead>\n",
              "    <tr style=\"text-align: right;\">\n",
              "      <th></th>\n",
              "      <th>Number of Trades</th>\n",
              "      <th>Net Profit</th>\n",
              "      <th>Profit Factor</th>\n",
              "      <th>Average Net per Trade</th>\n",
              "      <th>Maximum Drawdown</th>\n",
              "    </tr>\n",
              "  </thead>\n",
              "  <tbody>\n",
              "    <tr>\n",
              "      <th>Strategy</th>\n",
              "      <td>1.0</td>\n",
              "      <td>-2722.37988</td>\n",
              "      <td>0.781694</td>\n",
              "      <td>-2722.37988</td>\n",
              "      <td>-3178.08984</td>\n",
              "    </tr>\n",
              "  </tbody>\n",
              "</table>\n",
              "</div>"
            ],
            "text/plain": [
              "          Number of Trades  Net Profit  Profit Factor  Average Net per Trade  \\\n",
              "Strategy               1.0 -2722.37988       0.781694            -2722.37988   \n",
              "\n",
              "          Maximum Drawdown  \n",
              "Strategy       -3178.08984  "
            ]
          },
          "execution_count": 96,
          "metadata": {},
          "output_type": "execute_result"
        }
      ],
      "source": [
        "# Validation\n",
        "calculate_metrics(htema_strategy(validation_data, index_name, best_tema_params[0], best_tema_params[1], best_tema_params[2], y_pred_lstm))"
      ]
    },
    {
      "cell_type": "code",
      "execution_count": null,
      "metadata": {
        "id": "2UMqzZPgBqbc",
        "outputId": "ab1276dc-66fc-4102-a175-4cbf31d2e4f2"
      },
      "outputs": [
        {
          "name": "stderr",
          "output_type": "stream",
          "text": [
            "/var/folders/td/dz_wwxjj7sq2s6rq_ydp1t3h0000gn/T/ipykernel_2071/4127296777.py:12: RuntimeWarning: divide by zero encountered in scalar divide\n",
            "  avg_net_trade = net_profit / num_trades\n"
          ]
        },
        {
          "data": {
            "text/html": [
              "<div>\n",
              "<style scoped>\n",
              "    .dataframe tbody tr th:only-of-type {\n",
              "        vertical-align: middle;\n",
              "    }\n",
              "\n",
              "    .dataframe tbody tr th {\n",
              "        vertical-align: top;\n",
              "    }\n",
              "\n",
              "    .dataframe thead th {\n",
              "        text-align: right;\n",
              "    }\n",
              "</style>\n",
              "<table border=\"1\" class=\"dataframe\">\n",
              "  <thead>\n",
              "    <tr style=\"text-align: right;\">\n",
              "      <th></th>\n",
              "      <th>Number of Trades</th>\n",
              "      <th>Net Profit</th>\n",
              "      <th>Profit Factor</th>\n",
              "      <th>Average Net per Trade</th>\n",
              "      <th>Maximum Drawdown</th>\n",
              "    </tr>\n",
              "  </thead>\n",
              "  <tbody>\n",
              "    <tr>\n",
              "      <th>Strategy</th>\n",
              "      <td>0.0</td>\n",
              "      <td>2327.41993</td>\n",
              "      <td>1.278632</td>\n",
              "      <td>inf</td>\n",
              "      <td>-1217.23047</td>\n",
              "    </tr>\n",
              "  </tbody>\n",
              "</table>\n",
              "</div>"
            ],
            "text/plain": [
              "          Number of Trades  Net Profit  Profit Factor  Average Net per Trade  \\\n",
              "Strategy               0.0  2327.41993       1.278632                    inf   \n",
              "\n",
              "          Maximum Drawdown  \n",
              "Strategy       -1217.23047  "
            ]
          },
          "execution_count": 97,
          "metadata": {},
          "output_type": "execute_result"
        }
      ],
      "source": [
        "# Test\n",
        "calculate_metrics(htema_strategy(test_data, index_name, best_tema_params[0], best_tema_params[1], best_tema_params[2], y_pred_lstm))"
      ]
    },
    {
      "cell_type": "markdown",
      "metadata": {
        "id": "R-n-qOLnBqbc"
      },
      "source": [
        "#### htema_strategy_2"
      ]
    },
    {
      "cell_type": "markdown",
      "metadata": {
        "id": "jETbwfZJBqbc"
      },
      "source": [
        "##### Linear Regression"
      ]
    },
    {
      "cell_type": "code",
      "execution_count": null,
      "metadata": {
        "id": "IDe_6KkQBqbc",
        "outputId": "c90488cf-925c-4adc-8358-c08ef427fdc5"
      },
      "outputs": [
        {
          "data": {
            "text/html": [
              "<div>\n",
              "<style scoped>\n",
              "    .dataframe tbody tr th:only-of-type {\n",
              "        vertical-align: middle;\n",
              "    }\n",
              "\n",
              "    .dataframe tbody tr th {\n",
              "        vertical-align: top;\n",
              "    }\n",
              "\n",
              "    .dataframe thead th {\n",
              "        text-align: right;\n",
              "    }\n",
              "</style>\n",
              "<table border=\"1\" class=\"dataframe\">\n",
              "  <thead>\n",
              "    <tr style=\"text-align: right;\">\n",
              "      <th></th>\n",
              "      <th>Number of Trades</th>\n",
              "      <th>Net Profit</th>\n",
              "      <th>Profit Factor</th>\n",
              "      <th>Average Net per Trade</th>\n",
              "      <th>Maximum Drawdown</th>\n",
              "    </tr>\n",
              "  </thead>\n",
              "  <tbody>\n",
              "    <tr>\n",
              "      <th>Strategy</th>\n",
              "      <td>15.0</td>\n",
              "      <td>1561.791</td>\n",
              "      <td>1.168183</td>\n",
              "      <td>104.1194</td>\n",
              "      <td>-1220.04101</td>\n",
              "    </tr>\n",
              "  </tbody>\n",
              "</table>\n",
              "</div>"
            ],
            "text/plain": [
              "          Number of Trades  Net Profit  Profit Factor  Average Net per Trade  \\\n",
              "Strategy              15.0    1561.791       1.168183               104.1194   \n",
              "\n",
              "          Maximum Drawdown  \n",
              "Strategy       -1220.04101  "
            ]
          },
          "execution_count": 98,
          "metadata": {},
          "output_type": "execute_result"
        }
      ],
      "source": [
        "# Validation\n",
        "calculate_metrics(htema_strategy_2(validation_data, index_name, best_tema_params[0], best_tema_params[1], best_tema_params[2], y_pred_lr))"
      ]
    },
    {
      "cell_type": "code",
      "execution_count": null,
      "metadata": {
        "id": "CrZrMYOTBqbd",
        "outputId": "c74bf5af-33b4-42c6-acea-4f3dacfab38a"
      },
      "outputs": [
        {
          "data": {
            "text/html": [
              "<div>\n",
              "<style scoped>\n",
              "    .dataframe tbody tr th:only-of-type {\n",
              "        vertical-align: middle;\n",
              "    }\n",
              "\n",
              "    .dataframe tbody tr th {\n",
              "        vertical-align: top;\n",
              "    }\n",
              "\n",
              "    .dataframe thead th {\n",
              "        text-align: right;\n",
              "    }\n",
              "</style>\n",
              "<table border=\"1\" class=\"dataframe\">\n",
              "  <thead>\n",
              "    <tr style=\"text-align: right;\">\n",
              "      <th></th>\n",
              "      <th>Number of Trades</th>\n",
              "      <th>Net Profit</th>\n",
              "      <th>Profit Factor</th>\n",
              "      <th>Average Net per Trade</th>\n",
              "      <th>Maximum Drawdown</th>\n",
              "    </tr>\n",
              "  </thead>\n",
              "  <tbody>\n",
              "    <tr>\n",
              "      <th>Strategy</th>\n",
              "      <td>64.0</td>\n",
              "      <td>9891.90921</td>\n",
              "      <td>3.304473</td>\n",
              "      <td>154.561081</td>\n",
              "      <td>-612.37012</td>\n",
              "    </tr>\n",
              "  </tbody>\n",
              "</table>\n",
              "</div>"
            ],
            "text/plain": [
              "          Number of Trades  Net Profit  Profit Factor  Average Net per Trade  \\\n",
              "Strategy              64.0  9891.90921       3.304473             154.561081   \n",
              "\n",
              "          Maximum Drawdown  \n",
              "Strategy        -612.37012  "
            ]
          },
          "execution_count": 99,
          "metadata": {},
          "output_type": "execute_result"
        }
      ],
      "source": [
        "# Test\n",
        "calculate_metrics(htema_strategy_2(test_data, index_name, best_tema_params[0], best_tema_params[1], best_tema_params[2], y_pred_lr))"
      ]
    },
    {
      "cell_type": "markdown",
      "metadata": {
        "id": "2dj4TesgBqbd"
      },
      "source": [
        "##### Artificial Neural Network"
      ]
    },
    {
      "cell_type": "code",
      "execution_count": null,
      "metadata": {
        "id": "alyRa86jBqbd",
        "outputId": "cafaee43-fcd4-45e7-8b5c-f2294cb95b79"
      },
      "outputs": [
        {
          "data": {
            "text/html": [
              "<div>\n",
              "<style scoped>\n",
              "    .dataframe tbody tr th:only-of-type {\n",
              "        vertical-align: middle;\n",
              "    }\n",
              "\n",
              "    .dataframe tbody tr th {\n",
              "        vertical-align: top;\n",
              "    }\n",
              "\n",
              "    .dataframe thead th {\n",
              "        text-align: right;\n",
              "    }\n",
              "</style>\n",
              "<table border=\"1\" class=\"dataframe\">\n",
              "  <thead>\n",
              "    <tr style=\"text-align: right;\">\n",
              "      <th></th>\n",
              "      <th>Number of Trades</th>\n",
              "      <th>Net Profit</th>\n",
              "      <th>Profit Factor</th>\n",
              "      <th>Average Net per Trade</th>\n",
              "      <th>Maximum Drawdown</th>\n",
              "    </tr>\n",
              "  </thead>\n",
              "  <tbody>\n",
              "    <tr>\n",
              "      <th>Strategy</th>\n",
              "      <td>6.0</td>\n",
              "      <td>2814.31933</td>\n",
              "      <td>1.300864</td>\n",
              "      <td>469.053222</td>\n",
              "      <td>-1235.61035</td>\n",
              "    </tr>\n",
              "  </tbody>\n",
              "</table>\n",
              "</div>"
            ],
            "text/plain": [
              "          Number of Trades  Net Profit  Profit Factor  Average Net per Trade  \\\n",
              "Strategy               6.0  2814.31933       1.300864             469.053222   \n",
              "\n",
              "          Maximum Drawdown  \n",
              "Strategy       -1235.61035  "
            ]
          },
          "execution_count": 100,
          "metadata": {},
          "output_type": "execute_result"
        }
      ],
      "source": [
        "# Validation\n",
        "calculate_metrics(htema_strategy_2(validation_data, index_name, best_tema_params[0], best_tema_params[1], best_tema_params[2], y_pred_ann))"
      ]
    },
    {
      "cell_type": "code",
      "execution_count": null,
      "metadata": {
        "id": "eqhht8DEBqbd",
        "outputId": "5b5b8f4e-4a1c-4e86-9c8f-e0b98d86efb8"
      },
      "outputs": [
        {
          "data": {
            "text/html": [
              "<div>\n",
              "<style scoped>\n",
              "    .dataframe tbody tr th:only-of-type {\n",
              "        vertical-align: middle;\n",
              "    }\n",
              "\n",
              "    .dataframe tbody tr th {\n",
              "        vertical-align: top;\n",
              "    }\n",
              "\n",
              "    .dataframe thead th {\n",
              "        text-align: right;\n",
              "    }\n",
              "</style>\n",
              "<table border=\"1\" class=\"dataframe\">\n",
              "  <thead>\n",
              "    <tr style=\"text-align: right;\">\n",
              "      <th></th>\n",
              "      <th>Number of Trades</th>\n",
              "      <th>Net Profit</th>\n",
              "      <th>Profit Factor</th>\n",
              "      <th>Average Net per Trade</th>\n",
              "      <th>Maximum Drawdown</th>\n",
              "    </tr>\n",
              "  </thead>\n",
              "  <tbody>\n",
              "    <tr>\n",
              "      <th>Strategy</th>\n",
              "      <td>2.0</td>\n",
              "      <td>-2327.41993</td>\n",
              "      <td>0.782086</td>\n",
              "      <td>-1163.709965</td>\n",
              "      <td>-2551.75</td>\n",
              "    </tr>\n",
              "  </tbody>\n",
              "</table>\n",
              "</div>"
            ],
            "text/plain": [
              "          Number of Trades  Net Profit  Profit Factor  Average Net per Trade  \\\n",
              "Strategy               2.0 -2327.41993       0.782086           -1163.709965   \n",
              "\n",
              "          Maximum Drawdown  \n",
              "Strategy          -2551.75  "
            ]
          },
          "execution_count": 101,
          "metadata": {},
          "output_type": "execute_result"
        }
      ],
      "source": [
        "# Test\n",
        "calculate_metrics(htema_strategy_2(test_data, index_name, best_tema_params[0], best_tema_params[1], best_tema_params[2], y_pred_ann))"
      ]
    },
    {
      "cell_type": "markdown",
      "metadata": {
        "id": "rNQNDmN9Bqbd"
      },
      "source": [
        "##### Long Short-Term Memory"
      ]
    },
    {
      "cell_type": "code",
      "execution_count": null,
      "metadata": {
        "id": "qVnrghgEBqbe",
        "outputId": "1cd6bf89-e9d7-4538-fcf9-555b0e990a66"
      },
      "outputs": [
        {
          "data": {
            "text/html": [
              "<div>\n",
              "<style scoped>\n",
              "    .dataframe tbody tr th:only-of-type {\n",
              "        vertical-align: middle;\n",
              "    }\n",
              "\n",
              "    .dataframe tbody tr th {\n",
              "        vertical-align: top;\n",
              "    }\n",
              "\n",
              "    .dataframe thead th {\n",
              "        text-align: right;\n",
              "    }\n",
              "</style>\n",
              "<table border=\"1\" class=\"dataframe\">\n",
              "  <thead>\n",
              "    <tr style=\"text-align: right;\">\n",
              "      <th></th>\n",
              "      <th>Number of Trades</th>\n",
              "      <th>Net Profit</th>\n",
              "      <th>Profit Factor</th>\n",
              "      <th>Average Net per Trade</th>\n",
              "      <th>Maximum Drawdown</th>\n",
              "    </tr>\n",
              "  </thead>\n",
              "  <tbody>\n",
              "    <tr>\n",
              "      <th>Strategy</th>\n",
              "      <td>12.0</td>\n",
              "      <td>1589.73046</td>\n",
              "      <td>1.172161</td>\n",
              "      <td>132.477538</td>\n",
              "      <td>-1307.01074</td>\n",
              "    </tr>\n",
              "  </tbody>\n",
              "</table>\n",
              "</div>"
            ],
            "text/plain": [
              "          Number of Trades  Net Profit  Profit Factor  Average Net per Trade  \\\n",
              "Strategy              12.0  1589.73046       1.172161             132.477538   \n",
              "\n",
              "          Maximum Drawdown  \n",
              "Strategy       -1307.01074  "
            ]
          },
          "execution_count": 102,
          "metadata": {},
          "output_type": "execute_result"
        }
      ],
      "source": [
        "# Validation\n",
        "calculate_metrics(htema_strategy_2(validation_data, index_name, best_tema_params[0], best_tema_params[1], best_tema_params[2], y_pred_lstm))"
      ]
    },
    {
      "cell_type": "code",
      "execution_count": null,
      "metadata": {
        "id": "hThjVphjBqbe",
        "outputId": "69c314ba-120a-4b13-a4f1-b025524d03f3"
      },
      "outputs": [
        {
          "data": {
            "text/html": [
              "<div>\n",
              "<style scoped>\n",
              "    .dataframe tbody tr th:only-of-type {\n",
              "        vertical-align: middle;\n",
              "    }\n",
              "\n",
              "    .dataframe tbody tr th {\n",
              "        vertical-align: top;\n",
              "    }\n",
              "\n",
              "    .dataframe thead th {\n",
              "        text-align: right;\n",
              "    }\n",
              "</style>\n",
              "<table border=\"1\" class=\"dataframe\">\n",
              "  <thead>\n",
              "    <tr style=\"text-align: right;\">\n",
              "      <th></th>\n",
              "      <th>Number of Trades</th>\n",
              "      <th>Net Profit</th>\n",
              "      <th>Profit Factor</th>\n",
              "      <th>Average Net per Trade</th>\n",
              "      <th>Maximum Drawdown</th>\n",
              "    </tr>\n",
              "  </thead>\n",
              "  <tbody>\n",
              "    <tr>\n",
              "      <th>Strategy</th>\n",
              "      <td>17.0</td>\n",
              "      <td>-223.09958</td>\n",
              "      <td>0.966344</td>\n",
              "      <td>-13.123505</td>\n",
              "      <td>-1335.4912</td>\n",
              "    </tr>\n",
              "  </tbody>\n",
              "</table>\n",
              "</div>"
            ],
            "text/plain": [
              "          Number of Trades  Net Profit  Profit Factor  Average Net per Trade  \\\n",
              "Strategy              17.0  -223.09958       0.966344             -13.123505   \n",
              "\n",
              "          Maximum Drawdown  \n",
              "Strategy        -1335.4912  "
            ]
          },
          "execution_count": 103,
          "metadata": {},
          "output_type": "execute_result"
        }
      ],
      "source": [
        "# Test\n",
        "calculate_metrics(htema_strategy_2(test_data, index_name, best_tema_params[0], best_tema_params[1], best_tema_params[2], y_pred_lstm))"
      ]
    },
    {
      "cell_type": "markdown",
      "metadata": {
        "id": "kouP8Nm3Bqbe"
      },
      "source": [
        "## MACD"
      ]
    },
    {
      "cell_type": "markdown",
      "metadata": {
        "id": "BWPd3UUvBqbe"
      },
      "source": [
        "### macd_strategy"
      ]
    },
    {
      "cell_type": "code",
      "execution_count": null,
      "metadata": {
        "id": "tXu93PZtBqbe",
        "outputId": "f401617a-bc06-4e65-a9a9-abae688a2b5d"
      },
      "outputs": [
        {
          "data": {
            "text/html": [
              "<div>\n",
              "<style scoped>\n",
              "    .dataframe tbody tr th:only-of-type {\n",
              "        vertical-align: middle;\n",
              "    }\n",
              "\n",
              "    .dataframe tbody tr th {\n",
              "        vertical-align: top;\n",
              "    }\n",
              "\n",
              "    .dataframe thead th {\n",
              "        text-align: right;\n",
              "    }\n",
              "</style>\n",
              "<table border=\"1\" class=\"dataframe\">\n",
              "  <thead>\n",
              "    <tr style=\"text-align: right;\">\n",
              "      <th></th>\n",
              "      <th>Number of Trades</th>\n",
              "      <th>Net Profit</th>\n",
              "      <th>Profit Factor</th>\n",
              "      <th>Average Net per Trade</th>\n",
              "      <th>Maximum Drawdown</th>\n",
              "    </tr>\n",
              "  </thead>\n",
              "  <tbody>\n",
              "    <tr>\n",
              "      <th>Strategy</th>\n",
              "      <td>33.0</td>\n",
              "      <td>-3735.85058</td>\n",
              "      <td>0.780911</td>\n",
              "      <td>-113.207593</td>\n",
              "      <td>-4106.32031</td>\n",
              "    </tr>\n",
              "  </tbody>\n",
              "</table>\n",
              "</div>"
            ],
            "text/plain": [
              "          Number of Trades  Net Profit  Profit Factor  Average Net per Trade  \\\n",
              "Strategy              33.0 -3735.85058       0.780911            -113.207593   \n",
              "\n",
              "          Maximum Drawdown  \n",
              "Strategy       -4106.32031  "
            ]
          },
          "execution_count": 104,
          "metadata": {},
          "output_type": "execute_result"
        }
      ],
      "source": [
        "# Validation\n",
        "calculate_metrics(macd_strategy(validation_data, index_name, best_tema_params[0], best_tema_params[1], best_tema_params[2]))"
      ]
    },
    {
      "cell_type": "code",
      "execution_count": null,
      "metadata": {
        "id": "htesziaxBqbe",
        "outputId": "73440ae4-225e-44b4-edde-1279c0475aa1"
      },
      "outputs": [
        {
          "data": {
            "text/html": [
              "<div>\n",
              "<style scoped>\n",
              "    .dataframe tbody tr th:only-of-type {\n",
              "        vertical-align: middle;\n",
              "    }\n",
              "\n",
              "    .dataframe tbody tr th {\n",
              "        vertical-align: top;\n",
              "    }\n",
              "\n",
              "    .dataframe thead th {\n",
              "        text-align: right;\n",
              "    }\n",
              "</style>\n",
              "<table border=\"1\" class=\"dataframe\">\n",
              "  <thead>\n",
              "    <tr style=\"text-align: right;\">\n",
              "      <th></th>\n",
              "      <th>Number of Trades</th>\n",
              "      <th>Net Profit</th>\n",
              "      <th>Profit Factor</th>\n",
              "      <th>Average Net per Trade</th>\n",
              "      <th>Maximum Drawdown</th>\n",
              "    </tr>\n",
              "  </thead>\n",
              "  <tbody>\n",
              "    <tr>\n",
              "      <th>Strategy</th>\n",
              "      <td>15.0</td>\n",
              "      <td>731.13965</td>\n",
              "      <td>1.085115</td>\n",
              "      <td>48.742643</td>\n",
              "      <td>-961.05078</td>\n",
              "    </tr>\n",
              "  </tbody>\n",
              "</table>\n",
              "</div>"
            ],
            "text/plain": [
              "          Number of Trades  Net Profit  Profit Factor  Average Net per Trade  \\\n",
              "Strategy              15.0   731.13965       1.085115              48.742643   \n",
              "\n",
              "          Maximum Drawdown  \n",
              "Strategy        -961.05078  "
            ]
          },
          "execution_count": 105,
          "metadata": {},
          "output_type": "execute_result"
        }
      ],
      "source": [
        "# Test\n",
        "calculate_metrics(macd_strategy(test_data, index_name, best_tema_params[0], best_tema_params[1], best_tema_params[2]))"
      ]
    },
    {
      "cell_type": "markdown",
      "metadata": {
        "id": "UuBZPrfqBqbf"
      },
      "source": [
        "### hmacd_strategy"
      ]
    },
    {
      "cell_type": "markdown",
      "metadata": {
        "id": "FhHGQBEqBqbf"
      },
      "source": [
        "#### Linear Regression"
      ]
    },
    {
      "cell_type": "code",
      "execution_count": null,
      "metadata": {
        "id": "V-pVTsCoBqbf",
        "outputId": "e9fa1512-63db-4c32-a790-2deb15895748"
      },
      "outputs": [
        {
          "data": {
            "text/html": [
              "<div>\n",
              "<style scoped>\n",
              "    .dataframe tbody tr th:only-of-type {\n",
              "        vertical-align: middle;\n",
              "    }\n",
              "\n",
              "    .dataframe tbody tr th {\n",
              "        vertical-align: top;\n",
              "    }\n",
              "\n",
              "    .dataframe thead th {\n",
              "        text-align: right;\n",
              "    }\n",
              "</style>\n",
              "<table border=\"1\" class=\"dataframe\">\n",
              "  <thead>\n",
              "    <tr style=\"text-align: right;\">\n",
              "      <th></th>\n",
              "      <th>Number of Trades</th>\n",
              "      <th>Net Profit</th>\n",
              "      <th>Profit Factor</th>\n",
              "      <th>Average Net per Trade</th>\n",
              "      <th>Maximum Drawdown</th>\n",
              "    </tr>\n",
              "  </thead>\n",
              "  <tbody>\n",
              "    <tr>\n",
              "      <th>Strategy</th>\n",
              "      <td>15.0</td>\n",
              "      <td>-1570.37792</td>\n",
              "      <td>0.870111</td>\n",
              "      <td>-104.691861</td>\n",
              "      <td>-2219.10742</td>\n",
              "    </tr>\n",
              "  </tbody>\n",
              "</table>\n",
              "</div>"
            ],
            "text/plain": [
              "          Number of Trades  Net Profit  Profit Factor  Average Net per Trade  \\\n",
              "Strategy              15.0 -1570.37792       0.870111            -104.691861   \n",
              "\n",
              "          Maximum Drawdown  \n",
              "Strategy       -2219.10742  "
            ]
          },
          "execution_count": 106,
          "metadata": {},
          "output_type": "execute_result"
        }
      ],
      "source": [
        "# Validation\n",
        "calculate_metrics(hmacd_strategy(validation_data, index_name, best_tema_params[0], best_tema_params[1], best_tema_params[2], y_pred_lr))"
      ]
    },
    {
      "cell_type": "code",
      "execution_count": null,
      "metadata": {
        "id": "cUCYT34LBqbg",
        "outputId": "5fd23126-3200-472e-aa1f-3d6b31b72a22"
      },
      "outputs": [
        {
          "data": {
            "text/html": [
              "<div>\n",
              "<style scoped>\n",
              "    .dataframe tbody tr th:only-of-type {\n",
              "        vertical-align: middle;\n",
              "    }\n",
              "\n",
              "    .dataframe tbody tr th {\n",
              "        vertical-align: top;\n",
              "    }\n",
              "\n",
              "    .dataframe thead th {\n",
              "        text-align: right;\n",
              "    }\n",
              "</style>\n",
              "<table border=\"1\" class=\"dataframe\">\n",
              "  <thead>\n",
              "    <tr style=\"text-align: right;\">\n",
              "      <th></th>\n",
              "      <th>Number of Trades</th>\n",
              "      <th>Net Profit</th>\n",
              "      <th>Profit Factor</th>\n",
              "      <th>Average Net per Trade</th>\n",
              "      <th>Maximum Drawdown</th>\n",
              "    </tr>\n",
              "  </thead>\n",
              "  <tbody>\n",
              "    <tr>\n",
              "      <th>Strategy</th>\n",
              "      <td>48.0</td>\n",
              "      <td>9460.30859</td>\n",
              "      <td>3.163212</td>\n",
              "      <td>197.089762</td>\n",
              "      <td>-407.19923</td>\n",
              "    </tr>\n",
              "  </tbody>\n",
              "</table>\n",
              "</div>"
            ],
            "text/plain": [
              "          Number of Trades  Net Profit  Profit Factor  Average Net per Trade  \\\n",
              "Strategy              48.0  9460.30859       3.163212             197.089762   \n",
              "\n",
              "          Maximum Drawdown  \n",
              "Strategy        -407.19923  "
            ]
          },
          "execution_count": 107,
          "metadata": {},
          "output_type": "execute_result"
        }
      ],
      "source": [
        "# Test\n",
        "calculate_metrics(hmacd_strategy(test_data, index_name, best_tema_params[0], best_tema_params[1], best_tema_params[2], y_pred_lr))"
      ]
    },
    {
      "cell_type": "markdown",
      "metadata": {
        "id": "sv6RGiVJBqbg"
      },
      "source": [
        "#### Artificial Neural Network"
      ]
    },
    {
      "cell_type": "code",
      "execution_count": null,
      "metadata": {
        "id": "5nuCieZPBqbg",
        "outputId": "dd0a3c3d-1732-4541-8042-17dcc04a4146"
      },
      "outputs": [
        {
          "data": {
            "text/html": [
              "<div>\n",
              "<style scoped>\n",
              "    .dataframe tbody tr th:only-of-type {\n",
              "        vertical-align: middle;\n",
              "    }\n",
              "\n",
              "    .dataframe tbody tr th {\n",
              "        vertical-align: top;\n",
              "    }\n",
              "\n",
              "    .dataframe thead th {\n",
              "        text-align: right;\n",
              "    }\n",
              "</style>\n",
              "<table border=\"1\" class=\"dataframe\">\n",
              "  <thead>\n",
              "    <tr style=\"text-align: right;\">\n",
              "      <th></th>\n",
              "      <th>Number of Trades</th>\n",
              "      <th>Net Profit</th>\n",
              "      <th>Profit Factor</th>\n",
              "      <th>Average Net per Trade</th>\n",
              "      <th>Maximum Drawdown</th>\n",
              "    </tr>\n",
              "  </thead>\n",
              "  <tbody>\n",
              "    <tr>\n",
              "      <th>Strategy</th>\n",
              "      <td>24.0</td>\n",
              "      <td>-2527.85838</td>\n",
              "      <td>0.783381</td>\n",
              "      <td>-105.327433</td>\n",
              "      <td>-3176.58788</td>\n",
              "    </tr>\n",
              "  </tbody>\n",
              "</table>\n",
              "</div>"
            ],
            "text/plain": [
              "          Number of Trades  Net Profit  Profit Factor  Average Net per Trade  \\\n",
              "Strategy              24.0 -2527.85838       0.783381            -105.327433   \n",
              "\n",
              "          Maximum Drawdown  \n",
              "Strategy       -3176.58788  "
            ]
          },
          "execution_count": 108,
          "metadata": {},
          "output_type": "execute_result"
        }
      ],
      "source": [
        "# Validation\n",
        "calculate_metrics(hmacd_strategy(validation_data, index_name, best_tema_params[0], best_tema_params[1], best_tema_params[2], y_pred_ann))"
      ]
    },
    {
      "cell_type": "code",
      "execution_count": null,
      "metadata": {
        "id": "r0jJteQUBqbg",
        "outputId": "86475748-ee6b-49eb-cc53-b3112970ebd9"
      },
      "outputs": [
        {
          "data": {
            "text/html": [
              "<div>\n",
              "<style scoped>\n",
              "    .dataframe tbody tr th:only-of-type {\n",
              "        vertical-align: middle;\n",
              "    }\n",
              "\n",
              "    .dataframe tbody tr th {\n",
              "        vertical-align: top;\n",
              "    }\n",
              "\n",
              "    .dataframe thead th {\n",
              "        text-align: right;\n",
              "    }\n",
              "</style>\n",
              "<table border=\"1\" class=\"dataframe\">\n",
              "  <thead>\n",
              "    <tr style=\"text-align: right;\">\n",
              "      <th></th>\n",
              "      <th>Number of Trades</th>\n",
              "      <th>Net Profit</th>\n",
              "      <th>Profit Factor</th>\n",
              "      <th>Average Net per Trade</th>\n",
              "      <th>Maximum Drawdown</th>\n",
              "    </tr>\n",
              "  </thead>\n",
              "  <tbody>\n",
              "    <tr>\n",
              "      <th>Strategy</th>\n",
              "      <td>15.0</td>\n",
              "      <td>731.13965</td>\n",
              "      <td>1.085115</td>\n",
              "      <td>48.742643</td>\n",
              "      <td>-961.05078</td>\n",
              "    </tr>\n",
              "  </tbody>\n",
              "</table>\n",
              "</div>"
            ],
            "text/plain": [
              "          Number of Trades  Net Profit  Profit Factor  Average Net per Trade  \\\n",
              "Strategy              15.0   731.13965       1.085115              48.742643   \n",
              "\n",
              "          Maximum Drawdown  \n",
              "Strategy        -961.05078  "
            ]
          },
          "execution_count": 109,
          "metadata": {},
          "output_type": "execute_result"
        }
      ],
      "source": [
        "# Test\n",
        "calculate_metrics(hmacd_strategy(test_data, index_name, best_tema_params[0], best_tema_params[1], best_tema_params[2], y_pred_ann))"
      ]
    },
    {
      "cell_type": "markdown",
      "metadata": {
        "id": "zGVf2NcgBqbg"
      },
      "source": [
        "#### Long Short-Term Memory"
      ]
    },
    {
      "cell_type": "code",
      "execution_count": null,
      "metadata": {
        "id": "OFTISpf4Bqbg",
        "outputId": "2f99a521-3187-4ae5-8784-99cd1e8d6568"
      },
      "outputs": [
        {
          "data": {
            "text/html": [
              "<div>\n",
              "<style scoped>\n",
              "    .dataframe tbody tr th:only-of-type {\n",
              "        vertical-align: middle;\n",
              "    }\n",
              "\n",
              "    .dataframe tbody tr th {\n",
              "        vertical-align: top;\n",
              "    }\n",
              "\n",
              "    .dataframe thead th {\n",
              "        text-align: right;\n",
              "    }\n",
              "</style>\n",
              "<table border=\"1\" class=\"dataframe\">\n",
              "  <thead>\n",
              "    <tr style=\"text-align: right;\">\n",
              "      <th></th>\n",
              "      <th>Number of Trades</th>\n",
              "      <th>Net Profit</th>\n",
              "      <th>Profit Factor</th>\n",
              "      <th>Average Net per Trade</th>\n",
              "      <th>Maximum Drawdown</th>\n",
              "    </tr>\n",
              "  </thead>\n",
              "  <tbody>\n",
              "    <tr>\n",
              "      <th>Strategy</th>\n",
              "      <td>1.0</td>\n",
              "      <td>-2722.37988</td>\n",
              "      <td>0.781694</td>\n",
              "      <td>-2722.37988</td>\n",
              "      <td>-3178.08984</td>\n",
              "    </tr>\n",
              "  </tbody>\n",
              "</table>\n",
              "</div>"
            ],
            "text/plain": [
              "          Number of Trades  Net Profit  Profit Factor  Average Net per Trade  \\\n",
              "Strategy               1.0 -2722.37988       0.781694            -2722.37988   \n",
              "\n",
              "          Maximum Drawdown  \n",
              "Strategy       -3178.08984  "
            ]
          },
          "execution_count": 110,
          "metadata": {},
          "output_type": "execute_result"
        }
      ],
      "source": [
        "# Validation\n",
        "calculate_metrics(hmacd_strategy(validation_data, index_name, best_tema_params[0], best_tema_params[1], best_tema_params[2], y_pred_lstm))"
      ]
    },
    {
      "cell_type": "code",
      "execution_count": null,
      "metadata": {
        "id": "U8M_k4XdBqbh",
        "outputId": "3b8c7893-bf63-4dad-a2d8-ff4e824cfbdb"
      },
      "outputs": [
        {
          "data": {
            "text/html": [
              "<div>\n",
              "<style scoped>\n",
              "    .dataframe tbody tr th:only-of-type {\n",
              "        vertical-align: middle;\n",
              "    }\n",
              "\n",
              "    .dataframe tbody tr th {\n",
              "        vertical-align: top;\n",
              "    }\n",
              "\n",
              "    .dataframe thead th {\n",
              "        text-align: right;\n",
              "    }\n",
              "</style>\n",
              "<table border=\"1\" class=\"dataframe\">\n",
              "  <thead>\n",
              "    <tr style=\"text-align: right;\">\n",
              "      <th></th>\n",
              "      <th>Number of Trades</th>\n",
              "      <th>Net Profit</th>\n",
              "      <th>Profit Factor</th>\n",
              "      <th>Average Net per Trade</th>\n",
              "      <th>Maximum Drawdown</th>\n",
              "    </tr>\n",
              "  </thead>\n",
              "  <tbody>\n",
              "    <tr>\n",
              "      <th>Strategy</th>\n",
              "      <td>1.0</td>\n",
              "      <td>2327.41993</td>\n",
              "      <td>1.278632</td>\n",
              "      <td>2327.41993</td>\n",
              "      <td>-1217.23047</td>\n",
              "    </tr>\n",
              "  </tbody>\n",
              "</table>\n",
              "</div>"
            ],
            "text/plain": [
              "          Number of Trades  Net Profit  Profit Factor  Average Net per Trade  \\\n",
              "Strategy               1.0  2327.41993       1.278632             2327.41993   \n",
              "\n",
              "          Maximum Drawdown  \n",
              "Strategy       -1217.23047  "
            ]
          },
          "execution_count": 111,
          "metadata": {},
          "output_type": "execute_result"
        }
      ],
      "source": [
        "# Test\n",
        "calculate_metrics(hmacd_strategy(test_data, index_name, best_tema_params[0], best_tema_params[1], best_tema_params[2], y_pred_lstm))"
      ]
    },
    {
      "cell_type": "markdown",
      "metadata": {
        "id": "EzIK3Qa9Bqbh"
      },
      "source": [
        "### hmacd_strategy_2"
      ]
    },
    {
      "cell_type": "markdown",
      "metadata": {
        "id": "nK4rHWiKBqbh"
      },
      "source": [
        "#### Linear Regression"
      ]
    },
    {
      "cell_type": "code",
      "execution_count": null,
      "metadata": {
        "id": "lptYmvWiBqbh",
        "outputId": "76a49f48-ca65-48bc-fe8d-91f12317858e"
      },
      "outputs": [
        {
          "data": {
            "text/html": [
              "<div>\n",
              "<style scoped>\n",
              "    .dataframe tbody tr th:only-of-type {\n",
              "        vertical-align: middle;\n",
              "    }\n",
              "\n",
              "    .dataframe tbody tr th {\n",
              "        vertical-align: top;\n",
              "    }\n",
              "\n",
              "    .dataframe thead th {\n",
              "        text-align: right;\n",
              "    }\n",
              "</style>\n",
              "<table border=\"1\" class=\"dataframe\">\n",
              "  <thead>\n",
              "    <tr style=\"text-align: right;\">\n",
              "      <th></th>\n",
              "      <th>Number of Trades</th>\n",
              "      <th>Net Profit</th>\n",
              "      <th>Profit Factor</th>\n",
              "      <th>Average Net per Trade</th>\n",
              "      <th>Maximum Drawdown</th>\n",
              "    </tr>\n",
              "  </thead>\n",
              "  <tbody>\n",
              "    <tr>\n",
              "      <th>Strategy</th>\n",
              "      <td>17.0</td>\n",
              "      <td>217.9795</td>\n",
              "      <td>1.030885</td>\n",
              "      <td>12.822324</td>\n",
              "      <td>-2042.55273</td>\n",
              "    </tr>\n",
              "  </tbody>\n",
              "</table>\n",
              "</div>"
            ],
            "text/plain": [
              "          Number of Trades  Net Profit  Profit Factor  Average Net per Trade  \\\n",
              "Strategy              17.0    217.9795       1.030885              12.822324   \n",
              "\n",
              "          Maximum Drawdown  \n",
              "Strategy       -2042.55273  "
            ]
          },
          "execution_count": 112,
          "metadata": {},
          "output_type": "execute_result"
        }
      ],
      "source": [
        "# Validation\n",
        "calculate_metrics(hmacd_strategy_2(validation_data, index_name, best_tema_params[0], best_tema_params[1], best_tema_params[2], y_pred_lr))"
      ]
    },
    {
      "cell_type": "code",
      "execution_count": null,
      "metadata": {
        "id": "RuTOa-SGBqbh",
        "outputId": "d2b17531-e13b-4617-fdee-fcb8a02bb2fa"
      },
      "outputs": [
        {
          "data": {
            "text/html": [
              "<div>\n",
              "<style scoped>\n",
              "    .dataframe tbody tr th:only-of-type {\n",
              "        vertical-align: middle;\n",
              "    }\n",
              "\n",
              "    .dataframe tbody tr th {\n",
              "        vertical-align: top;\n",
              "    }\n",
              "\n",
              "    .dataframe thead th {\n",
              "        text-align: right;\n",
              "    }\n",
              "</style>\n",
              "<table border=\"1\" class=\"dataframe\">\n",
              "  <thead>\n",
              "    <tr style=\"text-align: right;\">\n",
              "      <th></th>\n",
              "      <th>Number of Trades</th>\n",
              "      <th>Net Profit</th>\n",
              "      <th>Profit Factor</th>\n",
              "      <th>Average Net per Trade</th>\n",
              "      <th>Maximum Drawdown</th>\n",
              "    </tr>\n",
              "  </thead>\n",
              "  <tbody>\n",
              "    <tr>\n",
              "      <th>Strategy</th>\n",
              "      <td>43.0</td>\n",
              "      <td>5469.03025</td>\n",
              "      <td>1.872319</td>\n",
              "      <td>127.18675</td>\n",
              "      <td>-704.54004</td>\n",
              "    </tr>\n",
              "  </tbody>\n",
              "</table>\n",
              "</div>"
            ],
            "text/plain": [
              "          Number of Trades  Net Profit  Profit Factor  Average Net per Trade  \\\n",
              "Strategy              43.0  5469.03025       1.872319              127.18675   \n",
              "\n",
              "          Maximum Drawdown  \n",
              "Strategy        -704.54004  "
            ]
          },
          "execution_count": 113,
          "metadata": {},
          "output_type": "execute_result"
        }
      ],
      "source": [
        "# Test\n",
        "calculate_metrics(hmacd_strategy_2(test_data, index_name, best_tema_params[0], best_tema_params[1], best_tema_params[2], y_pred_lr))"
      ]
    },
    {
      "cell_type": "markdown",
      "metadata": {
        "id": "a2Tn0MRGBqbi"
      },
      "source": [
        "#### Artificial Neural Network"
      ]
    },
    {
      "cell_type": "code",
      "execution_count": null,
      "metadata": {
        "id": "G-7qQwZgBqbi",
        "outputId": "73844d94-5f12-4880-8c45-f2d2d1f5f6cf"
      },
      "outputs": [
        {
          "data": {
            "text/html": [
              "<div>\n",
              "<style scoped>\n",
              "    .dataframe tbody tr th:only-of-type {\n",
              "        vertical-align: middle;\n",
              "    }\n",
              "\n",
              "    .dataframe tbody tr th {\n",
              "        vertical-align: top;\n",
              "    }\n",
              "\n",
              "    .dataframe thead th {\n",
              "        text-align: right;\n",
              "    }\n",
              "</style>\n",
              "<table border=\"1\" class=\"dataframe\">\n",
              "  <thead>\n",
              "    <tr style=\"text-align: right;\">\n",
              "      <th></th>\n",
              "      <th>Number of Trades</th>\n",
              "      <th>Net Profit</th>\n",
              "      <th>Profit Factor</th>\n",
              "      <th>Average Net per Trade</th>\n",
              "      <th>Maximum Drawdown</th>\n",
              "    </tr>\n",
              "  </thead>\n",
              "  <tbody>\n",
              "    <tr>\n",
              "      <th>Strategy</th>\n",
              "      <td>3.0</td>\n",
              "      <td>2573.37988</td>\n",
              "      <td>1.282839</td>\n",
              "      <td>857.793293</td>\n",
              "      <td>-1235.61035</td>\n",
              "    </tr>\n",
              "  </tbody>\n",
              "</table>\n",
              "</div>"
            ],
            "text/plain": [
              "          Number of Trades  Net Profit  Profit Factor  Average Net per Trade  \\\n",
              "Strategy               3.0  2573.37988       1.282839             857.793293   \n",
              "\n",
              "          Maximum Drawdown  \n",
              "Strategy       -1235.61035  "
            ]
          },
          "execution_count": 114,
          "metadata": {},
          "output_type": "execute_result"
        }
      ],
      "source": [
        "# Validation\n",
        "calculate_metrics(hmacd_strategy_2(validation_data, index_name, best_tema_params[0], best_tema_params[1], best_tema_params[2], y_pred_ann))"
      ]
    },
    {
      "cell_type": "code",
      "execution_count": null,
      "metadata": {
        "id": "z6amxBgsBqbi",
        "outputId": "eb6e3804-5a24-4ec8-8825-715d1112faa6"
      },
      "outputs": [
        {
          "data": {
            "text/html": [
              "<div>\n",
              "<style scoped>\n",
              "    .dataframe tbody tr th:only-of-type {\n",
              "        vertical-align: middle;\n",
              "    }\n",
              "\n",
              "    .dataframe tbody tr th {\n",
              "        vertical-align: top;\n",
              "    }\n",
              "\n",
              "    .dataframe thead th {\n",
              "        text-align: right;\n",
              "    }\n",
              "</style>\n",
              "<table border=\"1\" class=\"dataframe\">\n",
              "  <thead>\n",
              "    <tr style=\"text-align: right;\">\n",
              "      <th></th>\n",
              "      <th>Number of Trades</th>\n",
              "      <th>Net Profit</th>\n",
              "      <th>Profit Factor</th>\n",
              "      <th>Average Net per Trade</th>\n",
              "      <th>Maximum Drawdown</th>\n",
              "    </tr>\n",
              "  </thead>\n",
              "  <tbody>\n",
              "    <tr>\n",
              "      <th>Strategy</th>\n",
              "      <td>1.0</td>\n",
              "      <td>-2327.41993</td>\n",
              "      <td>0.782086</td>\n",
              "      <td>-2327.41993</td>\n",
              "      <td>-2551.75</td>\n",
              "    </tr>\n",
              "  </tbody>\n",
              "</table>\n",
              "</div>"
            ],
            "text/plain": [
              "          Number of Trades  Net Profit  Profit Factor  Average Net per Trade  \\\n",
              "Strategy               1.0 -2327.41993       0.782086            -2327.41993   \n",
              "\n",
              "          Maximum Drawdown  \n",
              "Strategy          -2551.75  "
            ]
          },
          "execution_count": 115,
          "metadata": {},
          "output_type": "execute_result"
        }
      ],
      "source": [
        "# Test\n",
        "calculate_metrics(hmacd_strategy_2(test_data, index_name, best_tema_params[0], best_tema_params[1], best_tema_params[2], y_pred_ann))"
      ]
    },
    {
      "cell_type": "markdown",
      "metadata": {
        "id": "AB5In87aBqbi"
      },
      "source": [
        "#### Long Short-Term Memory"
      ]
    },
    {
      "cell_type": "code",
      "execution_count": null,
      "metadata": {
        "id": "0nzsrSvuBqbi",
        "outputId": "adf43624-b104-4715-d03b-be812de17492"
      },
      "outputs": [
        {
          "data": {
            "text/html": [
              "<div>\n",
              "<style scoped>\n",
              "    .dataframe tbody tr th:only-of-type {\n",
              "        vertical-align: middle;\n",
              "    }\n",
              "\n",
              "    .dataframe tbody tr th {\n",
              "        vertical-align: top;\n",
              "    }\n",
              "\n",
              "    .dataframe thead th {\n",
              "        text-align: right;\n",
              "    }\n",
              "</style>\n",
              "<table border=\"1\" class=\"dataframe\">\n",
              "  <thead>\n",
              "    <tr style=\"text-align: right;\">\n",
              "      <th></th>\n",
              "      <th>Number of Trades</th>\n",
              "      <th>Net Profit</th>\n",
              "      <th>Profit Factor</th>\n",
              "      <th>Average Net per Trade</th>\n",
              "      <th>Maximum Drawdown</th>\n",
              "    </tr>\n",
              "  </thead>\n",
              "  <tbody>\n",
              "    <tr>\n",
              "      <th>Strategy</th>\n",
              "      <td>18.0</td>\n",
              "      <td>-1987.64744</td>\n",
              "      <td>0.810732</td>\n",
              "      <td>-110.424858</td>\n",
              "      <td>-2423.24705</td>\n",
              "    </tr>\n",
              "  </tbody>\n",
              "</table>\n",
              "</div>"
            ],
            "text/plain": [
              "          Number of Trades  Net Profit  Profit Factor  Average Net per Trade  \\\n",
              "Strategy              18.0 -1987.64744       0.810732            -110.424858   \n",
              "\n",
              "          Maximum Drawdown  \n",
              "Strategy       -2423.24705  "
            ]
          },
          "execution_count": 116,
          "metadata": {},
          "output_type": "execute_result"
        }
      ],
      "source": [
        "# Validation\n",
        "calculate_metrics(hmacd_strategy_2(validation_data, index_name, best_tema_params[0], best_tema_params[1], best_tema_params[2], y_pred_lstm))"
      ]
    },
    {
      "cell_type": "code",
      "execution_count": null,
      "metadata": {
        "id": "FgA0Q3jyBqbi",
        "outputId": "0fd6e615-8c52-4f20-b4c5-422d3f6adadf"
      },
      "outputs": [
        {
          "data": {
            "text/html": [
              "<div>\n",
              "<style scoped>\n",
              "    .dataframe tbody tr th:only-of-type {\n",
              "        vertical-align: middle;\n",
              "    }\n",
              "\n",
              "    .dataframe tbody tr th {\n",
              "        vertical-align: top;\n",
              "    }\n",
              "\n",
              "    .dataframe thead th {\n",
              "        text-align: right;\n",
              "    }\n",
              "</style>\n",
              "<table border=\"1\" class=\"dataframe\">\n",
              "  <thead>\n",
              "    <tr style=\"text-align: right;\">\n",
              "      <th></th>\n",
              "      <th>Number of Trades</th>\n",
              "      <th>Net Profit</th>\n",
              "      <th>Profit Factor</th>\n",
              "      <th>Average Net per Trade</th>\n",
              "      <th>Maximum Drawdown</th>\n",
              "    </tr>\n",
              "  </thead>\n",
              "  <tbody>\n",
              "    <tr>\n",
              "      <th>Strategy</th>\n",
              "      <td>14.0</td>\n",
              "      <td>861.02831</td>\n",
              "      <td>1.105426</td>\n",
              "      <td>61.502022</td>\n",
              "      <td>-902.0918</td>\n",
              "    </tr>\n",
              "  </tbody>\n",
              "</table>\n",
              "</div>"
            ],
            "text/plain": [
              "          Number of Trades  Net Profit  Profit Factor  Average Net per Trade  \\\n",
              "Strategy              14.0   861.02831       1.105426              61.502022   \n",
              "\n",
              "          Maximum Drawdown  \n",
              "Strategy         -902.0918  "
            ]
          },
          "execution_count": 117,
          "metadata": {},
          "output_type": "execute_result"
        }
      ],
      "source": [
        "# Test\n",
        "calculate_metrics(hmacd_strategy_2(test_data, index_name, best_tema_params[0], best_tema_params[1], best_tema_params[2], y_pred_lstm))"
      ]
    },
    {
      "cell_type": "markdown",
      "metadata": {
        "id": "_U_V2b8fBqbi"
      },
      "source": [
        "## RSI"
      ]
    },
    {
      "cell_type": "markdown",
      "metadata": {
        "id": "eYzAv6BqBqbi"
      },
      "source": [
        "### rsi_strategy"
      ]
    },
    {
      "cell_type": "code",
      "execution_count": null,
      "metadata": {
        "id": "yEA5iwPMBqbj",
        "outputId": "aa7e28fc-c1af-4b3a-c128-33692039463a"
      },
      "outputs": [
        {
          "data": {
            "text/html": [
              "<div>\n",
              "<style scoped>\n",
              "    .dataframe tbody tr th:only-of-type {\n",
              "        vertical-align: middle;\n",
              "    }\n",
              "\n",
              "    .dataframe tbody tr th {\n",
              "        vertical-align: top;\n",
              "    }\n",
              "\n",
              "    .dataframe thead th {\n",
              "        text-align: right;\n",
              "    }\n",
              "</style>\n",
              "<table border=\"1\" class=\"dataframe\">\n",
              "  <thead>\n",
              "    <tr style=\"text-align: right;\">\n",
              "      <th></th>\n",
              "      <th>Number of Trades</th>\n",
              "      <th>Net Profit</th>\n",
              "      <th>Profit Factor</th>\n",
              "      <th>Average Net per Trade</th>\n",
              "      <th>Maximum Drawdown</th>\n",
              "    </tr>\n",
              "  </thead>\n",
              "  <tbody>\n",
              "    <tr>\n",
              "      <th>Strategy</th>\n",
              "      <td>125.0</td>\n",
              "      <td>-237.48829</td>\n",
              "      <td>0.973694</td>\n",
              "      <td>-1.899906</td>\n",
              "      <td>-1690.72851</td>\n",
              "    </tr>\n",
              "  </tbody>\n",
              "</table>\n",
              "</div>"
            ],
            "text/plain": [
              "          Number of Trades  Net Profit  Profit Factor  Average Net per Trade  \\\n",
              "Strategy             125.0  -237.48829       0.973694              -1.899906   \n",
              "\n",
              "          Maximum Drawdown  \n",
              "Strategy       -1690.72851  "
            ]
          },
          "execution_count": 119,
          "metadata": {},
          "output_type": "execute_result"
        }
      ],
      "source": [
        "# Validation\n",
        "calculate_metrics(rsi_strategy(validation_data, index_name, best_rsi_period))"
      ]
    },
    {
      "cell_type": "code",
      "execution_count": null,
      "metadata": {
        "id": "K_fTshnrBqbj",
        "outputId": "49e8d02b-1d2b-498d-d460-4df6df75383a"
      },
      "outputs": [
        {
          "data": {
            "text/html": [
              "<div>\n",
              "<style scoped>\n",
              "    .dataframe tbody tr th:only-of-type {\n",
              "        vertical-align: middle;\n",
              "    }\n",
              "\n",
              "    .dataframe tbody tr th {\n",
              "        vertical-align: top;\n",
              "    }\n",
              "\n",
              "    .dataframe thead th {\n",
              "        text-align: right;\n",
              "    }\n",
              "</style>\n",
              "<table border=\"1\" class=\"dataframe\">\n",
              "  <thead>\n",
              "    <tr style=\"text-align: right;\">\n",
              "      <th></th>\n",
              "      <th>Number of Trades</th>\n",
              "      <th>Net Profit</th>\n",
              "      <th>Profit Factor</th>\n",
              "      <th>Average Net per Trade</th>\n",
              "      <th>Maximum Drawdown</th>\n",
              "    </tr>\n",
              "  </thead>\n",
              "  <tbody>\n",
              "    <tr>\n",
              "      <th>Strategy</th>\n",
              "      <td>85.0</td>\n",
              "      <td>1110.94044</td>\n",
              "      <td>1.272872</td>\n",
              "      <td>13.069888</td>\n",
              "      <td>-959.13965</td>\n",
              "    </tr>\n",
              "  </tbody>\n",
              "</table>\n",
              "</div>"
            ],
            "text/plain": [
              "          Number of Trades  Net Profit  Profit Factor  Average Net per Trade  \\\n",
              "Strategy              85.0  1110.94044       1.272872              13.069888   \n",
              "\n",
              "          Maximum Drawdown  \n",
              "Strategy        -959.13965  "
            ]
          },
          "execution_count": 121,
          "metadata": {},
          "output_type": "execute_result"
        }
      ],
      "source": [
        "# Validation\n",
        "calculate_metrics(rsi_strategy(test_data, index_name, best_rsi_period))"
      ]
    },
    {
      "cell_type": "markdown",
      "metadata": {
        "id": "O6Us4m5bBqbj"
      },
      "source": [
        "### hrsi_strategy"
      ]
    },
    {
      "cell_type": "markdown",
      "metadata": {
        "id": "9H_gvX11Bqbj"
      },
      "source": [
        "#### Linear Regression"
      ]
    },
    {
      "cell_type": "code",
      "execution_count": null,
      "metadata": {
        "id": "a7dtQSn2Bqbj",
        "outputId": "79c6e15f-1262-4ebf-b687-76f663131c3c"
      },
      "outputs": [
        {
          "data": {
            "text/html": [
              "<div>\n",
              "<style scoped>\n",
              "    .dataframe tbody tr th:only-of-type {\n",
              "        vertical-align: middle;\n",
              "    }\n",
              "\n",
              "    .dataframe tbody tr th {\n",
              "        vertical-align: top;\n",
              "    }\n",
              "\n",
              "    .dataframe thead th {\n",
              "        text-align: right;\n",
              "    }\n",
              "</style>\n",
              "<table border=\"1\" class=\"dataframe\">\n",
              "  <thead>\n",
              "    <tr style=\"text-align: right;\">\n",
              "      <th></th>\n",
              "      <th>Number of Trades</th>\n",
              "      <th>Net Profit</th>\n",
              "      <th>Profit Factor</th>\n",
              "      <th>Average Net per Trade</th>\n",
              "      <th>Maximum Drawdown</th>\n",
              "    </tr>\n",
              "  </thead>\n",
              "  <tbody>\n",
              "    <tr>\n",
              "      <th>Strategy</th>\n",
              "      <td>32.0</td>\n",
              "      <td>-1163.7832</td>\n",
              "      <td>0.890562</td>\n",
              "      <td>-36.368225</td>\n",
              "      <td>-2013.58204</td>\n",
              "    </tr>\n",
              "  </tbody>\n",
              "</table>\n",
              "</div>"
            ],
            "text/plain": [
              "          Number of Trades  Net Profit  Profit Factor  Average Net per Trade  \\\n",
              "Strategy              32.0  -1163.7832       0.890562             -36.368225   \n",
              "\n",
              "          Maximum Drawdown  \n",
              "Strategy       -2013.58204  "
            ]
          },
          "execution_count": 122,
          "metadata": {},
          "output_type": "execute_result"
        }
      ],
      "source": [
        "# Validation\n",
        "calculate_metrics(hrsi_strategy(validation_data, index_name, best_rsi_period, y_pred_lr))"
      ]
    },
    {
      "cell_type": "code",
      "execution_count": null,
      "metadata": {
        "id": "hkjIbXE-Bqbj",
        "outputId": "edbc3b71-12a7-4e76-9b05-6b099cd8a167"
      },
      "outputs": [
        {
          "data": {
            "text/html": [
              "<div>\n",
              "<style scoped>\n",
              "    .dataframe tbody tr th:only-of-type {\n",
              "        vertical-align: middle;\n",
              "    }\n",
              "\n",
              "    .dataframe tbody tr th {\n",
              "        vertical-align: top;\n",
              "    }\n",
              "\n",
              "    .dataframe thead th {\n",
              "        text-align: right;\n",
              "    }\n",
              "</style>\n",
              "<table border=\"1\" class=\"dataframe\">\n",
              "  <thead>\n",
              "    <tr style=\"text-align: right;\">\n",
              "      <th></th>\n",
              "      <th>Number of Trades</th>\n",
              "      <th>Net Profit</th>\n",
              "      <th>Profit Factor</th>\n",
              "      <th>Average Net per Trade</th>\n",
              "      <th>Maximum Drawdown</th>\n",
              "    </tr>\n",
              "  </thead>\n",
              "  <tbody>\n",
              "    <tr>\n",
              "      <th>Strategy</th>\n",
              "      <td>93.0</td>\n",
              "      <td>10652.42089</td>\n",
              "      <td>7.016419</td>\n",
              "      <td>114.54216</td>\n",
              "      <td>-304.48047</td>\n",
              "    </tr>\n",
              "  </tbody>\n",
              "</table>\n",
              "</div>"
            ],
            "text/plain": [
              "          Number of Trades   Net Profit  Profit Factor  Average Net per Trade  \\\n",
              "Strategy              93.0  10652.42089       7.016419              114.54216   \n",
              "\n",
              "          Maximum Drawdown  \n",
              "Strategy        -304.48047  "
            ]
          },
          "execution_count": 123,
          "metadata": {},
          "output_type": "execute_result"
        }
      ],
      "source": [
        "# Test\n",
        "calculate_metrics(hrsi_strategy(test_data, index_name, best_rsi_period, y_pred_lr))"
      ]
    },
    {
      "cell_type": "markdown",
      "metadata": {
        "id": "yn27fakXBqbj"
      },
      "source": [
        "#### Artificial Neural Network"
      ]
    },
    {
      "cell_type": "code",
      "execution_count": null,
      "metadata": {
        "id": "1LyQPAXPBqbj",
        "outputId": "f2f1eedb-ba5b-4fb3-af52-08ad53996524"
      },
      "outputs": [
        {
          "data": {
            "text/html": [
              "<div>\n",
              "<style scoped>\n",
              "    .dataframe tbody tr th:only-of-type {\n",
              "        vertical-align: middle;\n",
              "    }\n",
              "\n",
              "    .dataframe tbody tr th {\n",
              "        vertical-align: top;\n",
              "    }\n",
              "\n",
              "    .dataframe thead th {\n",
              "        text-align: right;\n",
              "    }\n",
              "</style>\n",
              "<table border=\"1\" class=\"dataframe\">\n",
              "  <thead>\n",
              "    <tr style=\"text-align: right;\">\n",
              "      <th></th>\n",
              "      <th>Number of Trades</th>\n",
              "      <th>Net Profit</th>\n",
              "      <th>Profit Factor</th>\n",
              "      <th>Average Net per Trade</th>\n",
              "      <th>Maximum Drawdown</th>\n",
              "    </tr>\n",
              "  </thead>\n",
              "  <tbody>\n",
              "    <tr>\n",
              "      <th>Strategy</th>\n",
              "      <td>80.0</td>\n",
              "      <td>409.23925</td>\n",
              "      <td>1.057564</td>\n",
              "      <td>5.115491</td>\n",
              "      <td>-1452.11914</td>\n",
              "    </tr>\n",
              "  </tbody>\n",
              "</table>\n",
              "</div>"
            ],
            "text/plain": [
              "          Number of Trades  Net Profit  Profit Factor  Average Net per Trade  \\\n",
              "Strategy              80.0   409.23925       1.057564               5.115491   \n",
              "\n",
              "          Maximum Drawdown  \n",
              "Strategy       -1452.11914  "
            ]
          },
          "execution_count": 124,
          "metadata": {},
          "output_type": "execute_result"
        }
      ],
      "source": [
        "# Validation\n",
        "calculate_metrics(hrsi_strategy(validation_data, index_name, best_rsi_period, y_pred_ann))"
      ]
    },
    {
      "cell_type": "code",
      "execution_count": null,
      "metadata": {
        "id": "uMCxhvVvBqbk",
        "outputId": "06c1d28d-8490-4523-9ecf-d6d5ce8041ab"
      },
      "outputs": [
        {
          "data": {
            "text/html": [
              "<div>\n",
              "<style scoped>\n",
              "    .dataframe tbody tr th:only-of-type {\n",
              "        vertical-align: middle;\n",
              "    }\n",
              "\n",
              "    .dataframe tbody tr th {\n",
              "        vertical-align: top;\n",
              "    }\n",
              "\n",
              "    .dataframe thead th {\n",
              "        text-align: right;\n",
              "    }\n",
              "</style>\n",
              "<table border=\"1\" class=\"dataframe\">\n",
              "  <thead>\n",
              "    <tr style=\"text-align: right;\">\n",
              "      <th></th>\n",
              "      <th>Number of Trades</th>\n",
              "      <th>Net Profit</th>\n",
              "      <th>Profit Factor</th>\n",
              "      <th>Average Net per Trade</th>\n",
              "      <th>Maximum Drawdown</th>\n",
              "    </tr>\n",
              "  </thead>\n",
              "  <tbody>\n",
              "    <tr>\n",
              "      <th>Strategy</th>\n",
              "      <td>85.0</td>\n",
              "      <td>1139.20997</td>\n",
              "      <td>1.282438</td>\n",
              "      <td>13.40247</td>\n",
              "      <td>-959.13965</td>\n",
              "    </tr>\n",
              "  </tbody>\n",
              "</table>\n",
              "</div>"
            ],
            "text/plain": [
              "          Number of Trades  Net Profit  Profit Factor  Average Net per Trade  \\\n",
              "Strategy              85.0  1139.20997       1.282438               13.40247   \n",
              "\n",
              "          Maximum Drawdown  \n",
              "Strategy        -959.13965  "
            ]
          },
          "execution_count": 125,
          "metadata": {},
          "output_type": "execute_result"
        }
      ],
      "source": [
        "# Test\n",
        "calculate_metrics(hrsi_strategy(test_data, index_name, best_rsi_period, y_pred_ann))"
      ]
    },
    {
      "cell_type": "markdown",
      "metadata": {
        "id": "12AwXj_6Bqbk"
      },
      "source": [
        "#### Long Short-Term Memory"
      ]
    },
    {
      "cell_type": "code",
      "execution_count": null,
      "metadata": {
        "id": "NH02KNx-Bqbk",
        "outputId": "9127f97e-938a-4b56-e84c-9f5ed48dedd2"
      },
      "outputs": [
        {
          "data": {
            "text/html": [
              "<div>\n",
              "<style scoped>\n",
              "    .dataframe tbody tr th:only-of-type {\n",
              "        vertical-align: middle;\n",
              "    }\n",
              "\n",
              "    .dataframe tbody tr th {\n",
              "        vertical-align: top;\n",
              "    }\n",
              "\n",
              "    .dataframe thead th {\n",
              "        text-align: right;\n",
              "    }\n",
              "</style>\n",
              "<table border=\"1\" class=\"dataframe\">\n",
              "  <thead>\n",
              "    <tr style=\"text-align: right;\">\n",
              "      <th></th>\n",
              "      <th>Number of Trades</th>\n",
              "      <th>Net Profit</th>\n",
              "      <th>Profit Factor</th>\n",
              "      <th>Average Net per Trade</th>\n",
              "      <th>Maximum Drawdown</th>\n",
              "    </tr>\n",
              "  </thead>\n",
              "  <tbody>\n",
              "    <tr>\n",
              "      <th>Strategy</th>\n",
              "      <td>1.0</td>\n",
              "      <td>-2722.37988</td>\n",
              "      <td>0.781694</td>\n",
              "      <td>-2722.37988</td>\n",
              "      <td>-3178.08984</td>\n",
              "    </tr>\n",
              "  </tbody>\n",
              "</table>\n",
              "</div>"
            ],
            "text/plain": [
              "          Number of Trades  Net Profit  Profit Factor  Average Net per Trade  \\\n",
              "Strategy               1.0 -2722.37988       0.781694            -2722.37988   \n",
              "\n",
              "          Maximum Drawdown  \n",
              "Strategy       -3178.08984  "
            ]
          },
          "execution_count": 126,
          "metadata": {},
          "output_type": "execute_result"
        }
      ],
      "source": [
        "# Validation\n",
        "calculate_metrics(hrsi_strategy(validation_data, index_name, best_rsi_period, y_pred_lstm))"
      ]
    },
    {
      "cell_type": "code",
      "execution_count": null,
      "metadata": {
        "id": "GdTEF6c-Bqbk",
        "outputId": "308806fb-64f5-4856-8831-a3c841451988"
      },
      "outputs": [
        {
          "data": {
            "text/html": [
              "<div>\n",
              "<style scoped>\n",
              "    .dataframe tbody tr th:only-of-type {\n",
              "        vertical-align: middle;\n",
              "    }\n",
              "\n",
              "    .dataframe tbody tr th {\n",
              "        vertical-align: top;\n",
              "    }\n",
              "\n",
              "    .dataframe thead th {\n",
              "        text-align: right;\n",
              "    }\n",
              "</style>\n",
              "<table border=\"1\" class=\"dataframe\">\n",
              "  <thead>\n",
              "    <tr style=\"text-align: right;\">\n",
              "      <th></th>\n",
              "      <th>Number of Trades</th>\n",
              "      <th>Net Profit</th>\n",
              "      <th>Profit Factor</th>\n",
              "      <th>Average Net per Trade</th>\n",
              "      <th>Maximum Drawdown</th>\n",
              "    </tr>\n",
              "  </thead>\n",
              "  <tbody>\n",
              "    <tr>\n",
              "      <th>Strategy</th>\n",
              "      <td>1.0</td>\n",
              "      <td>2327.41993</td>\n",
              "      <td>1.278632</td>\n",
              "      <td>2327.41993</td>\n",
              "      <td>-1217.23047</td>\n",
              "    </tr>\n",
              "  </tbody>\n",
              "</table>\n",
              "</div>"
            ],
            "text/plain": [
              "          Number of Trades  Net Profit  Profit Factor  Average Net per Trade  \\\n",
              "Strategy               1.0  2327.41993       1.278632             2327.41993   \n",
              "\n",
              "          Maximum Drawdown  \n",
              "Strategy       -1217.23047  "
            ]
          },
          "execution_count": 127,
          "metadata": {},
          "output_type": "execute_result"
        }
      ],
      "source": [
        "# Test\n",
        "calculate_metrics(hrsi_strategy(test_data, index_name, best_rsi_period, y_pred_lstm))"
      ]
    },
    {
      "cell_type": "markdown",
      "metadata": {
        "id": "WbMBZ7KUBqbk"
      },
      "source": [
        "### hrsi_strategy_2"
      ]
    },
    {
      "cell_type": "markdown",
      "metadata": {
        "id": "6UazNp_VBqbk"
      },
      "source": [
        "#### Linear Regression"
      ]
    },
    {
      "cell_type": "code",
      "execution_count": null,
      "metadata": {
        "id": "WR1SKQ-TBqbk",
        "outputId": "1eb67035-dcf9-4929-c865-9e3abff56ade"
      },
      "outputs": [
        {
          "data": {
            "text/html": [
              "<div>\n",
              "<style scoped>\n",
              "    .dataframe tbody tr th:only-of-type {\n",
              "        vertical-align: middle;\n",
              "    }\n",
              "\n",
              "    .dataframe tbody tr th {\n",
              "        vertical-align: top;\n",
              "    }\n",
              "\n",
              "    .dataframe thead th {\n",
              "        text-align: right;\n",
              "    }\n",
              "</style>\n",
              "<table border=\"1\" class=\"dataframe\">\n",
              "  <thead>\n",
              "    <tr style=\"text-align: right;\">\n",
              "      <th></th>\n",
              "      <th>Number of Trades</th>\n",
              "      <th>Net Profit</th>\n",
              "      <th>Profit Factor</th>\n",
              "      <th>Average Net per Trade</th>\n",
              "      <th>Maximum Drawdown</th>\n",
              "    </tr>\n",
              "  </thead>\n",
              "  <tbody>\n",
              "    <tr>\n",
              "      <th>Strategy</th>\n",
              "      <td>69.0</td>\n",
              "      <td>2700.17284</td>\n",
              "      <td>1.404796</td>\n",
              "      <td>39.13294</td>\n",
              "      <td>-1090.22949</td>\n",
              "    </tr>\n",
              "  </tbody>\n",
              "</table>\n",
              "</div>"
            ],
            "text/plain": [
              "          Number of Trades  Net Profit  Profit Factor  Average Net per Trade  \\\n",
              "Strategy              69.0  2700.17284       1.404796               39.13294   \n",
              "\n",
              "          Maximum Drawdown  \n",
              "Strategy       -1090.22949  "
            ]
          },
          "execution_count": 128,
          "metadata": {},
          "output_type": "execute_result"
        }
      ],
      "source": [
        "# Validation\n",
        "calculate_metrics(hrsi_strategy_2(validation_data, index_name, best_rsi_period, y_pred_lr))"
      ]
    },
    {
      "cell_type": "code",
      "execution_count": null,
      "metadata": {
        "id": "sXhTp2ShBqbl",
        "outputId": "bc7ecc68-b27f-4986-b015-766293df5382"
      },
      "outputs": [
        {
          "data": {
            "text/html": [
              "<div>\n",
              "<style scoped>\n",
              "    .dataframe tbody tr th:only-of-type {\n",
              "        vertical-align: middle;\n",
              "    }\n",
              "\n",
              "    .dataframe tbody tr th {\n",
              "        vertical-align: top;\n",
              "    }\n",
              "\n",
              "    .dataframe thead th {\n",
              "        text-align: right;\n",
              "    }\n",
              "</style>\n",
              "<table border=\"1\" class=\"dataframe\">\n",
              "  <thead>\n",
              "    <tr style=\"text-align: right;\">\n",
              "      <th></th>\n",
              "      <th>Number of Trades</th>\n",
              "      <th>Net Profit</th>\n",
              "      <th>Profit Factor</th>\n",
              "      <th>Average Net per Trade</th>\n",
              "      <th>Maximum Drawdown</th>\n",
              "    </tr>\n",
              "  </thead>\n",
              "  <tbody>\n",
              "    <tr>\n",
              "      <th>Strategy</th>\n",
              "      <td>87.0</td>\n",
              "      <td>4656.71874</td>\n",
              "      <td>1.960167</td>\n",
              "      <td>53.525503</td>\n",
              "      <td>-855.76953</td>\n",
              "    </tr>\n",
              "  </tbody>\n",
              "</table>\n",
              "</div>"
            ],
            "text/plain": [
              "          Number of Trades  Net Profit  Profit Factor  Average Net per Trade  \\\n",
              "Strategy              87.0  4656.71874       1.960167              53.525503   \n",
              "\n",
              "          Maximum Drawdown  \n",
              "Strategy        -855.76953  "
            ]
          },
          "execution_count": 129,
          "metadata": {},
          "output_type": "execute_result"
        }
      ],
      "source": [
        "# Test\n",
        "calculate_metrics(hrsi_strategy_2(test_data, index_name, best_rsi_period, y_pred_lr))"
      ]
    },
    {
      "cell_type": "markdown",
      "metadata": {
        "id": "ftGnN3fCBqbl"
      },
      "source": [
        "#### Artificial Neural Network"
      ]
    },
    {
      "cell_type": "code",
      "execution_count": null,
      "metadata": {
        "id": "OZc0_PQTBqbl",
        "outputId": "e65bd028-353c-41fe-9a1a-03ee003c042c"
      },
      "outputs": [
        {
          "data": {
            "text/html": [
              "<div>\n",
              "<style scoped>\n",
              "    .dataframe tbody tr th:only-of-type {\n",
              "        vertical-align: middle;\n",
              "    }\n",
              "\n",
              "    .dataframe tbody tr th {\n",
              "        vertical-align: top;\n",
              "    }\n",
              "\n",
              "    .dataframe thead th {\n",
              "        text-align: right;\n",
              "    }\n",
              "</style>\n",
              "<table border=\"1\" class=\"dataframe\">\n",
              "  <thead>\n",
              "    <tr style=\"text-align: right;\">\n",
              "      <th></th>\n",
              "      <th>Number of Trades</th>\n",
              "      <th>Net Profit</th>\n",
              "      <th>Profit Factor</th>\n",
              "      <th>Average Net per Trade</th>\n",
              "      <th>Maximum Drawdown</th>\n",
              "    </tr>\n",
              "  </thead>\n",
              "  <tbody>\n",
              "    <tr>\n",
              "      <th>Strategy</th>\n",
              "      <td>15.0</td>\n",
              "      <td>2525.07031</td>\n",
              "      <td>1.26777</td>\n",
              "      <td>168.338021</td>\n",
              "      <td>-1235.61035</td>\n",
              "    </tr>\n",
              "  </tbody>\n",
              "</table>\n",
              "</div>"
            ],
            "text/plain": [
              "          Number of Trades  Net Profit  Profit Factor  Average Net per Trade  \\\n",
              "Strategy              15.0  2525.07031        1.26777             168.338021   \n",
              "\n",
              "          Maximum Drawdown  \n",
              "Strategy       -1235.61035  "
            ]
          },
          "execution_count": 130,
          "metadata": {},
          "output_type": "execute_result"
        }
      ],
      "source": [
        "# Validation\n",
        "calculate_metrics(hrsi_strategy_2(validation_data, index_name, best_rsi_period, y_pred_ann))"
      ]
    },
    {
      "cell_type": "code",
      "execution_count": null,
      "metadata": {
        "id": "vRFSev_eBqbl",
        "outputId": "e09fd627-e9ea-46f4-cf62-1f2fc7bd9574"
      },
      "outputs": [
        {
          "data": {
            "text/html": [
              "<div>\n",
              "<style scoped>\n",
              "    .dataframe tbody tr th:only-of-type {\n",
              "        vertical-align: middle;\n",
              "    }\n",
              "\n",
              "    .dataframe tbody tr th {\n",
              "        vertical-align: top;\n",
              "    }\n",
              "\n",
              "    .dataframe thead th {\n",
              "        text-align: right;\n",
              "    }\n",
              "</style>\n",
              "<table border=\"1\" class=\"dataframe\">\n",
              "  <thead>\n",
              "    <tr style=\"text-align: right;\">\n",
              "      <th></th>\n",
              "      <th>Number of Trades</th>\n",
              "      <th>Net Profit</th>\n",
              "      <th>Profit Factor</th>\n",
              "      <th>Average Net per Trade</th>\n",
              "      <th>Maximum Drawdown</th>\n",
              "    </tr>\n",
              "  </thead>\n",
              "  <tbody>\n",
              "    <tr>\n",
              "      <th>Strategy</th>\n",
              "      <td>2.0</td>\n",
              "      <td>-2355.68946</td>\n",
              "      <td>0.779806</td>\n",
              "      <td>-1177.84473</td>\n",
              "      <td>-2551.75</td>\n",
              "    </tr>\n",
              "  </tbody>\n",
              "</table>\n",
              "</div>"
            ],
            "text/plain": [
              "          Number of Trades  Net Profit  Profit Factor  Average Net per Trade  \\\n",
              "Strategy               2.0 -2355.68946       0.779806            -1177.84473   \n",
              "\n",
              "          Maximum Drawdown  \n",
              "Strategy          -2551.75  "
            ]
          },
          "execution_count": 131,
          "metadata": {},
          "output_type": "execute_result"
        }
      ],
      "source": [
        "# Test\n",
        "calculate_metrics(hrsi_strategy_2(test_data, index_name, best_rsi_period, y_pred_ann))"
      ]
    },
    {
      "cell_type": "markdown",
      "metadata": {
        "id": "5E4KNLXyBqbl"
      },
      "source": [
        "#### Long Short-Term Memory"
      ]
    },
    {
      "cell_type": "code",
      "execution_count": null,
      "metadata": {
        "id": "Tjc51lNsBqbl",
        "outputId": "e6423bea-bd53-4df1-ccc4-ea6e30586d07"
      },
      "outputs": [
        {
          "data": {
            "text/html": [
              "<div>\n",
              "<style scoped>\n",
              "    .dataframe tbody tr th:only-of-type {\n",
              "        vertical-align: middle;\n",
              "    }\n",
              "\n",
              "    .dataframe tbody tr th {\n",
              "        vertical-align: top;\n",
              "    }\n",
              "\n",
              "    .dataframe thead th {\n",
              "        text-align: right;\n",
              "    }\n",
              "</style>\n",
              "<table border=\"1\" class=\"dataframe\">\n",
              "  <thead>\n",
              "    <tr style=\"text-align: right;\">\n",
              "      <th></th>\n",
              "      <th>Number of Trades</th>\n",
              "      <th>Net Profit</th>\n",
              "      <th>Profit Factor</th>\n",
              "      <th>Average Net per Trade</th>\n",
              "      <th>Maximum Drawdown</th>\n",
              "    </tr>\n",
              "  </thead>\n",
              "  <tbody>\n",
              "    <tr>\n",
              "      <th>Strategy</th>\n",
              "      <td>82.0</td>\n",
              "      <td>275.74023</td>\n",
              "      <td>1.040919</td>\n",
              "      <td>3.362686</td>\n",
              "      <td>-1090.22949</td>\n",
              "    </tr>\n",
              "  </tbody>\n",
              "</table>\n",
              "</div>"
            ],
            "text/plain": [
              "          Number of Trades  Net Profit  Profit Factor  Average Net per Trade  \\\n",
              "Strategy              82.0   275.74023       1.040919               3.362686   \n",
              "\n",
              "          Maximum Drawdown  \n",
              "Strategy       -1090.22949  "
            ]
          },
          "execution_count": 132,
          "metadata": {},
          "output_type": "execute_result"
        }
      ],
      "source": [
        "# Validation\n",
        "calculate_metrics(hrsi_strategy_2(validation_data, index_name, best_rsi_period, y_pred_lstm))"
      ]
    },
    {
      "cell_type": "code",
      "execution_count": null,
      "metadata": {
        "id": "c8pUJ8S_Bqbl",
        "outputId": "f0535cc4-d8ce-42aa-fd06-bb3a9a4cae7a"
      },
      "outputs": [
        {
          "data": {
            "text/html": [
              "<div>\n",
              "<style scoped>\n",
              "    .dataframe tbody tr th:only-of-type {\n",
              "        vertical-align: middle;\n",
              "    }\n",
              "\n",
              "    .dataframe tbody tr th {\n",
              "        vertical-align: top;\n",
              "    }\n",
              "\n",
              "    .dataframe thead th {\n",
              "        text-align: right;\n",
              "    }\n",
              "</style>\n",
              "<table border=\"1\" class=\"dataframe\">\n",
              "  <thead>\n",
              "    <tr style=\"text-align: right;\">\n",
              "      <th></th>\n",
              "      <th>Number of Trades</th>\n",
              "      <th>Net Profit</th>\n",
              "      <th>Profit Factor</th>\n",
              "      <th>Average Net per Trade</th>\n",
              "      <th>Maximum Drawdown</th>\n",
              "    </tr>\n",
              "  </thead>\n",
              "  <tbody>\n",
              "    <tr>\n",
              "      <th>Strategy</th>\n",
              "      <td>83.0</td>\n",
              "      <td>1148.86036</td>\n",
              "      <td>1.290831</td>\n",
              "      <td>13.841691</td>\n",
              "      <td>-959.13965</td>\n",
              "    </tr>\n",
              "  </tbody>\n",
              "</table>\n",
              "</div>"
            ],
            "text/plain": [
              "          Number of Trades  Net Profit  Profit Factor  Average Net per Trade  \\\n",
              "Strategy              83.0  1148.86036       1.290831              13.841691   \n",
              "\n",
              "          Maximum Drawdown  \n",
              "Strategy        -959.13965  "
            ]
          },
          "execution_count": 133,
          "metadata": {},
          "output_type": "execute_result"
        }
      ],
      "source": [
        "# Test\n",
        "calculate_metrics(hrsi_strategy_2(test_data, index_name, best_rsi_period, y_pred_lstm))"
      ]
    }
  ],
  "metadata": {
    "kernelspec": {
      "display_name": "Python 3 (ipykernel)",
      "language": "python",
      "name": "python3"
    },
    "language_info": {
      "codemirror_mode": {
        "name": "ipython",
        "version": 3
      },
      "file_extension": ".py",
      "mimetype": "text/x-python",
      "name": "python",
      "nbconvert_exporter": "python",
      "pygments_lexer": "ipython3",
      "version": "3.11.4"
    },
    "colab": {
      "provenance": [],
      "include_colab_link": true
    }
  },
  "nbformat": 4,
  "nbformat_minor": 0
}